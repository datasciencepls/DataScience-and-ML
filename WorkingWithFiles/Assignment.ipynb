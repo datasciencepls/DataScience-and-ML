{
 "cells": [
  {
   "cell_type": "markdown",
   "metadata": {},
   "source": [
    "# File 'amazonjobsdataset.csv'\n",
    "\n",
    "## It is a dataset including information on amazon job opening around the world from June 2011 to March 2018. This dataset is collected using Selenium and BeautifulSoup by scraping all of the jobs for Amazon job site."
   ]
  },
  {
   "cell_type": "code",
   "execution_count": 1,
   "metadata": {},
   "outputs": [
    {
     "name": "stdout",
     "output_type": "stream",
     "text": [
      "OrderedDict([('', '0'), ('Title', 'Software Development Manager'), ('location', 'US, WA, Seattle '), ('Posting_date', 'March  1, 2018'), ('DESCRIPTION', 'You are an experienced hands-on manager with a background in developing and delivering software that simplifies solutions for a broad set of related problems. You have a strong technical ability, great communication skills, and know how to inspire your team to achieve outstanding results in a fast paced environment. You have a track record of building and leading strong teams of talented engineers and you enjoy working with smart people. In short - you are a skilled leader capable of getting great things done for your customers. If it sounds like you - then read on!As one of the largest companies in the cloud computing space across the world, Amazon Web Services (AWS) offers dozens of services and processes billions of usage records. Over the past 10 years, Amazon has become known across the globe as the most trusted company on the internet.The systems we build interpret and process a very high volume stream of events; often bundled with low-latency/real-time analysis to enable security and fraud detection.AWS Bill Generation team manages the computation engine responsible for generating charges to the customers. Every time any AWS service meters a usage by a customer, a record makes its way to the our computation engine. At the simplest level, the bill computation engine generates bill line items corresponding to usage. Every day the bill computation engine processes hundreds of millions of records. The computation engine is architected to enable us to scale to this computational load and grow with the rapidly growing AWS business.There are numerous highly varied scenarios that the bill computation engine handles: the common most one is that of tiering, i.e. charging customers at different rates based on usage. These tiers may be computed across multiple dimensions: across geographical regions, across accounts, or across services. One of the key goals of the bill computation engine is to build a highly scalable, general purpose multi-dimensional counter mechanism that enables us to support a very flexible set of pricing models. Another key goal is to make the bill computation engine \"declarative\". We want to make it super easy for sellers of cloud services to create complex pricing plans with minimal or no code changes whatsoever.Key Responsibilities:· Adopt overall AWS plans for AWS Commerce Platform and define your own team\\'s future direction.· · Manage projects that deliver on commitments to our customers.· · Manage day-to-day activities of engineering team using Agile/Scrum methodology.· · Manage team\\'s resources: hire, mentor, and grow the engineering team.· · Work closely with engineers to architect and develop the best technical solutions. Be a hands-on technical leader.· · Report on status of development, quality, operations, and system performance to management.'), ('BASIC QUALIFICATIONS', \"· Proven track record of hiring and managing high performing engineering teams· Breadth and depth of experience building and managing software systems and teams· · Excellent written and verbal communication skills with the ability to present complex technical information in a clear and concise manner to executives and non-technical leaders· · Willingness to roll up your sleeves and do what's necessary to drive your projects to completion· · 6+ years of experience in Software development and 4+ years as a Development Manager· · Strong technical credentials, with expertise in OOP, Java or C++· · Experience with Linux/Unix systems· · Experience with SQL and No SQL data stores· · Bachelor's Degree in Computer Science or related degree\"), ('PREFERRED QUALIFICATIONS', '· Experience building extremely high volume and highly scalable web services· · Eperience building highly available systems and operating 24x7 services· · Experience with distributed systems, consistent hashing, distributed locking, replication, and load balancing· · Master’s degree or PhD in Computer Science· · Working knowledge of Hadoop, MapReduce, or other Big Data processing platforms· · Working knowledge of Kafka, Storm, Spark Streaming, Kinesis, or other stream processing platforms')])\n",
      "OrderedDict([('', '1'), ('Title', 'Software Development Engineer'), ('location', 'IN, KA, Bangalore '), ('Posting_date', 'March  1, 2018'), ('DESCRIPTION', 'Amazon is driven by being “the world’s most customer centric company.\" In the Health, Safety, Sustainability, Security, and Compliance (HS3C) organization, we own ensuring that all products at Amazon are 100% complaint with all legal, trade, product safety, and food safety requirements. We’re obsessed with the safety of all our customers and workers, creating a world-class experience for our millions of vendors and sellers world-wide, and inventing the best business and regulatory models for safe and sustainable supply chains in our industries.As a Software Engineer you will work with your manager and team of highly skilled software, data, and test engineers to invent, design, and build highly stable and performant software. You will work with your internal customers to balance customer requirements with team requirements and help your team and business evolve. You will be using the latest AWS and industry technologies to deliver a one-stop authoritative compliance ecosystem for Amazon, keeping our customers safe and products compliant, building the software creating the world’s most authoritative data set on everything companies and customers need to know related to the safety and compliance of products and supply chains. You will collaborate with leaders of partner teams developing our social responsibility and packaging optimization systems.Each and every person buying, selling, or handling Amazon products will be your customer.If you’d like to make a real-world difference by working hard, having fun, and making history, this is the team for you!Key Responsibilities:· Design and develop critical components of world class, scalable distributed systems.· Mentor junior Software Development Engineers.· Interface with our internal customers and technical leadership to inform and understand requirements and priorities.· Take on hard, ambiguous problems and articulate solutions that will to serve the broader Amazon.· Help develop long-term technical strategies in the product supply chain space.'), ('BASIC QUALIFICATIONS', '· Bachelor’s Degree in Computer Science or related degree· 2+ years professional experience in software development· Computer Science fundamentals in object-oriented design· Computer Science fundamentals in data structures· Computer Science fundamentals in algorithm design, problem solving, and complexity analysis· Proficiency in Java, C#, Scala, or other similar programming languages'), ('PREFERRED QUALIFICATIONS', '· Experience building complex software systems that have been successfully delivered to customers· Knowledge of professional software engineering practices & best practices for the full software development life cycle, including coding standards, code reviews, source control management, build processes, testing, and operations· Ability to take a project from scoping requirements through actual launch of the project· Experience in communicating with users, other technical teams, and management to collect requirements, describe software product features, and technical designs.· Experience influencing software engineering best practices within your team· Hands-on expertise in disparate technologies, typically ranging from front-end user interfaces through to back-end systems and all points in between· Expertise in one or more AWS products/servicesAmazon is an Equal Opportunity-Affirmative Action Employer - Minority / Female / Disability / Veteran / Gender Identity / Sexual Orientation')])\n",
      "OrderedDict([('', '2'), ('Title', 'Software Development Engineer'), ('location', 'IN, KA, Bangalore '), ('Posting_date', 'March  1, 2018'), ('DESCRIPTION', 'Amazon is driven by being “the world’s most customer centric company.\" In the Health, Safety, Sustainability, Security, and Compliance (HS3C) organization, we own ensuring that all products at Amazon are 100% complaint with all legal, trade, product safety, and food safety requirements. We’re obsessed with the safety of all our customers and workers, creating a world-class experience for our millions of vendors and sellers world-wide, and inventing the best business and regulatory models for safe and sustainable supply chains in our industries.As a Software Engineer you will work with your manager and team of highly skilled software, data, and test engineers to invent, design, and build highly stable and performant software. You will work with your internal customers to balance customer requirements with team requirements and help your team and business evolve. You will be using the latest AWS and industry technologies to deliver a one-stop authoritative compliance ecosystem for Amazon, keeping our customers safe and products compliant, building the software creating the world’s most authoritative data set on everything companies and customers need to know related to the safety and compliance of products and supply chains. You will collaborate with leaders of partner teams developing our social responsibility and packaging optimization systems.Each and every person buying, selling, or handling Amazon products will be your customer.If you’d like to make a real-world difference by working hard, having fun, and making history, this is the team for you!Key Responsibilities:· Design and develop critical components of world class, scalable distributed systems.· Mentor junior Software Development Engineers.· Interface with our internal customers and technical leadership to inform and understand requirements and priorities.· Take on hard, ambiguous problems and articulate solutions that will to serve the broader Amazon.· Help develop long-term technical strategies in the product supply chain space.'), ('BASIC QUALIFICATIONS', '· Bachelor’s Degree in Computer Science or related degree· 4+ years professional experience in software development· Computer Science fundamentals in object-oriented design· Computer Science fundamentals in data structures· Computer Science fundamentals in algorithm design, problem solving, and complexity analysis· Proficiency in Java, C#, Scala, or other similar programming languages'), ('PREFERRED QUALIFICATIONS', '· Experience building complex software systems that have been successfully delivered to customers· Knowledge of professional software engineering practices & best practices for the full software development life cycle, including coding standards, code reviews, source control management, build processes, testing, and operations· Ability to take a project from scoping requirements through actual launch of the project· Experience in communicating with users, other technical teams, and management to collect requirements, describe software product features, and technical designs.· Experience influencing software engineering best practices within your team· Hands-on expertise in disparate technologies, typically ranging from front-end user interfaces through to back-end systems and all points in between· Expertise in one or more AWS products/servicesAmazon is an Equal Opportunity-Affirmative Action Employer - Minority / Female / Disability / Veteran / Gender Identity / Sexual Orientation')])\n",
      "OrderedDict([('', '3'), ('Title', 'Software Development Engineer - Amazon Lex'), ('location', 'US, WA, Seattle '), ('Posting_date', 'March  1, 2018'), ('DESCRIPTION', 'Have you ever wondered what it takes to build intelligence into enterprise systems so that we can enable near human-like conversations with our systems? Come join Amazon Lex where we are working on state-of-the-art conversational approaches.Why Amazon Lex?Amazon Lex is a platform for building conversational interfaces into any application using voice and text. Amazon Lex provides the advanced deep learning functionalities of automatic speech recognition (ASR) for converting speech to text, and natural language understanding (NLU) to recognize the intent of the text, to enable you to build applications with highly engaging user experiences and lifelike conversational interactions. With Amazon Lex, the same deep learning technologies that power Amazon Alexa are now available to any developer, enabling you to quickly and easily build sophisticated, natural language, conversational bots (“chatbots”).What is special about the team?Come be a part of a well-balanced team with diverse experience that is making strides in evolving the conversational platform for Amazon Web Services (AWS). The team, a tight-knit group, operates in a fast-paced and fun environment where accuracy, timeliness, quality and security form the operative cornerstones. As owners of the entire lifecycle, team members participate in a shared customer resolution program to delight customers. Additionally, the team has collaborative leaders in various roles - product development, natural language science and engineering management who form the critical support structure for delivering innovative features.What will I work on?Come work on new features as well as green-field projects where you can make a significant positive impact on a community of international customers. As a Software Development Engineer, you should have a passion for delivery, drive for excellence and penchant for quality. You will practice development practices such as load testing and continuous deployment while solving technical challenges in system design, distributed computing, algorithms and back-end services.'), ('BASIC QUALIFICATIONS', '· Bachelors Degree in Computer Science or a related field (MS or PhD preferred)· At least 5 years of software engineering experience· 3+ years of Distributed Systems experience· Experience with an object oriented language like Java· Knowledge of Computer Science fundamentals in data structures, algorithm design, problem solving and complexity analysis'), ('PREFERRED QUALIFICATIONS', '· Masters or PhD in Computer Science· Experience scaling features and customers on V1 systems· Good communication skills with both technical and business people. Ability to speak at a level appropriate for the audience.· Strong architecture and design skills; be able to design, build and lead others to build systems that will be robust in the face of change.· The ability to lead a team of engineers to solve big problems with significant ambiguity. Ability to work directly with operations and business users to plan projects, track timelines and turn the ambiguous into specific goals and targets.· Experience developing in a Linux environment· Experience using modern tools and environments (ex. IntelliJ, Eclipse, Maven, Git)· Experience with Behavior-Driven/Test-Driven Development, XUnit, Mocking frameworks· Experience with data analysis in large-scale No-SQL environments (ex. Dynamo DB) is a plus.· Experience with asynchronous communication architectures involving SNS, SQS, etc. is valued.· Experience with AWS products like EC2, S3, RDS is beneficial.· Familiarity with natural language processing and understanding systems.')])\n",
      "OrderedDict([('', '4'), ('Title', 'Software Development Engineer - Amazon Lex'), ('location', 'US, WA, Seattle '), ('Posting_date', 'March  1, 2018'), ('DESCRIPTION', 'Have you ever wondered what it takes to build intelligence into enterprise systems so that we can enable near human-like conversations with our systems? Come join Amazon Lex where we are working on state-of-the-art conversational approaches.Why Amazon Lex?Amazon Lex is a platform for building conversational interfaces into any application using voice and text. Amazon Lex provides the advanced deep learning functionalities of automatic speech recognition (ASR) for converting speech to text, and natural language understanding (NLU) to recognize the intent of the text, to enable you to build applications with highly engaging user experiences and lifelike conversational interactions. With Amazon Lex, the same deep learning technologies that power Amazon Alexa are now available to any developer, enabling you to quickly and easily build sophisticated, natural language, conversational bots (“chatbots”).What is special about the team?Come be a part of a well-balanced team with diverse experience that is making strides in evolving the conversational platform for Amazon Web Services (AWS). The team, a tight-knit group, operates in a fast-paced and fun environment where accuracy, timeliness, quality and security form the operative cornerstones. As owners of the entire lifecycle, team members participate in a shared customer resolution program to delight customers. Additionally, the team has collaborative leaders in various roles - product development, natural language science and engineering management who form the critical support structure for delivering innovative features.What will I work on?Come work on new features as well as green-field projects where you can make a significant positive impact on a community of international customers. As a Software Development Engineer, you should have a passion for delivery, drive for excellence and penchant for quality. You will practice development practices such as load testing and continuous deployment while solving technical challenges in system design, distributed computing, algorithms and back-end services.'), ('BASIC QUALIFICATIONS', '· Bachelors Degree in Computer Science or a related field (MS or PhD preferred)· At least 5 years of software engineering experience· 3+ years of Distributed Systems experience· Experience with an object oriented language like Java· Knowledge of Computer Science fundamentals in data structures, algorithm design, problem solving and complexity analysis'), ('PREFERRED QUALIFICATIONS', '· Masters or PhD in Computer Science· Experience scaling features and customers on V1 systems· Good communication skills with both technical and business people. Ability to speak at a level appropriate for the audience.· Strong architecture and design skills; be able to design, build and lead others to build systems that will be robust in the face of change.· The ability to lead a team of engineers to solve big problems with significant ambiguity. Ability to work directly with operations and business users to plan projects, track timelines and turn the ambiguous into specific goals and targets.· Experience developing in a Linux environment· Experience using modern tools and environments (ex. IntelliJ, Eclipse, Maven, Git)· Experience with Behavior-Driven/Test-Driven Development, XUnit, Mocking frameworks· Experience with data analysis in large-scale No-SQL environments (ex. Dynamo DB) is a plus.· Experience with asynchronous communication architectures involving SNS, SQS, etc. is valued.· Experience with AWS products like EC2, S3, RDS is beneficial.· Familiarity with natural language processing and understanding systems.')])\n"
     ]
    }
   ],
   "source": [
    "import csv\n",
    "\n",
    "# Encoding of this file not not utf8 . So explicitly mention, otherwise errors occurs\n",
    "with open('amazon_jobs_dataset.csv', encoding=\"utf8\") as file_obj:\n",
    "    file_data = csv.DictReader(file_obj,skipinitialspace = True)\n",
    "    file_list = list(file_data)\n",
    "    for i in file_list[:5]:\n",
    "        print(i)"
   ]
  },
  {
   "cell_type": "markdown",
   "metadata": {},
   "source": [
    "## Number of Job opening in Bangalore,IN and Seattle,US"
   ]
  },
  {
   "cell_type": "code",
   "execution_count": 2,
   "metadata": {},
   "outputs": [
    {
     "name": "stdout",
     "output_type": "stream",
     "text": [
      "66 1856\n"
     ]
    }
   ],
   "source": [
    "import csv\n",
    "with open('amazon_jobs_dataset.csv', encoding='utf8') as file_obj:\n",
    "    file_data = csv.DictReader(file_obj, skipinitialspace=True)\n",
    "    file_list = list(file_data)\n",
    "banglore_jobs, seattle_jobs = 0, 0\n",
    "for row in file_list:\n",
    "    loc = row['location'] # this conatins string of various locations like 'US, WA, Seattle '\n",
    "    \n",
    "    # remove spaces extra spaces around locations and make list of it\n",
    "    l = loc.split(',')\n",
    "    locations = [loc.strip() for loc in l] # strip is used to remove spaces from startb and end of string\n",
    "    \n",
    "    if 'Bangalore' in locations and 'IN' in locations:\n",
    "        banglore_jobs += 1\n",
    "    if 'Seattle' in locations and 'US' in locations:\n",
    "        seattle_jobs += 1\n",
    "        \n",
    "print(banglore_jobs, seattle_jobs)\n"
   ]
  },
  {
   "cell_type": "markdown",
   "metadata": {},
   "source": [
    "## total number of job openings related to Computer Vision "
   ]
  },
  {
   "cell_type": "code",
   "execution_count": 3,
   "metadata": {},
   "outputs": [
    {
     "name": "stdout",
     "output_type": "stream",
     "text": [
      "14\n"
     ]
    }
   ],
   "source": [
    "import csv\n",
    "with open('amazon_jobs_dataset.csv', encoding='utf8') as file_obj:\n",
    "    file_data = csv.DictReader(file_obj, skipinitialspace=True)\n",
    "    file_list = list(file_data)\n",
    "\n",
    "computer_jobs = 0\n",
    "for row in file_list:\n",
    "    title = row['Title']\n",
    "    if 'Computer Vision' in title: # No need to split into list. howevr u can also do in that way\n",
    "        computer_jobs += 1\n",
    "print(computer_jobs)"
   ]
  },
  {
   "cell_type": "markdown",
   "metadata": {},
   "source": [
    "## Find the number of job openings in Canada"
   ]
  },
  {
   "cell_type": "code",
   "execution_count": 4,
   "metadata": {},
   "outputs": [
    {
     "name": "stdout",
     "output_type": "stream",
     "text": [
      "156\n"
     ]
    }
   ],
   "source": [
    "import csv\n",
    "with open('amazon_jobs_dataset.csv', encoding='utf8') as file_obj:\n",
    "    file_data = csv.DictReader(file_obj)\n",
    "    file_list = list(file_data)\n",
    "canada_openings = 0\n",
    "for row in file_list:\n",
    "    location = row['location'] # It will be a string like \"US, WA, Seattle \"\n",
    "    \n",
    "    # if 'CA' in location: --> Don't do like this bcz it is possible that some city name also include CA which is not Canada\n",
    "    \n",
    "    loc = [l.strip() for l in location.split(',')]\n",
    "    if 'CA' in loc and 'US' not in loc: # CA is used for Canada\n",
    "        canada_openings +=1\n",
    "print(canada_openings)"
   ]
  },
  {
   "cell_type": "markdown",
   "metadata": {},
   "source": [
    "## Find the month having most job openings in Year 2018"
   ]
  },
  {
   "cell_type": "code",
   "execution_count": 14,
   "metadata": {},
   "outputs": [
    {
     "name": "stdout",
     "output_type": "stream",
     "text": [
      "January 907\n"
     ]
    }
   ],
   "source": [
    "import csv\n",
    "with open('amazon_jobs_dataset.csv', encoding='utf8') as file_obj:\n",
    "    file_data = csv.DictReader(file_obj, skipinitialspace=True)\n",
    "    file_list = list(file_data)\n",
    "month_dict = {}\n",
    "for row in file_list:\n",
    "    l = row['Posting_date'].split() # it will be of form ['March', '1,', '2018']\n",
    "    month = l[0]\n",
    "    yr = l[-1]\n",
    "    if yr=='2018':\n",
    "        month_dict[month] = month_dict.get(month, 0) + 1\n",
    "        \n",
    "max_openings = 0\n",
    "for month in month_dict:\n",
    "    job_openings = month_dict[month]\n",
    "    if job_openings > max_openings:\n",
    "        max_openings = job_openings\n",
    "        req_month = month\n",
    "print(month, max_openings)\n",
    "    "
   ]
  },
  {
   "cell_type": "markdown",
   "metadata": {},
   "source": [
    "## Find the number of job openings are present if applicant have Bachelor degree"
   ]
  },
  {
   "cell_type": "code",
   "execution_count": 17,
   "metadata": {},
   "outputs": [
    {
     "name": "stdout",
     "output_type": "stream",
     "text": [
      "2961\n"
     ]
    }
   ],
   "source": [
    "import csv\n",
    "with open('amazon_jobs_dataset.csv', encoding='utf8') as file_obj:\n",
    "    file_data = csv.DictReader(file_obj, skipinitialspace=True)\n",
    "    file_list = list(file_data)\n",
    "ans = 0\n",
    "for row in file_list:\n",
    "    qual = row['BASIC QUALIFICATIONS']\n",
    "    # Keywords used are 'Bachelor', 'BS' and 'BA'.\n",
    "    if 'Bachelor' in qual or 'BS' in qual or 'BA' in qual:\n",
    "        ans += 1\n",
    "print(ans)\n"
   ]
  },
  {
   "cell_type": "markdown",
   "metadata": {},
   "source": [
    "##  Among Java, C++ and Python, which of the language has more job openings in India for Bachelor Degree Holder"
   ]
  },
  {
   "cell_type": "code",
   "execution_count": 19,
   "metadata": {},
   "outputs": [
    {
     "name": "stdout",
     "output_type": "stream",
     "text": [
      "Java 103\n"
     ]
    }
   ],
   "source": [
    "import csv\n",
    "with open('amazon_jobs_dataset.csv', encoding='utf8') as file_obj:\n",
    "    file_data = csv.DictReader(file_obj, skipinitialspace=True)\n",
    "    file_list = list(file_data)\n",
    "\n",
    "language_dict = {'Java':0, 'C++':0, 'Python':0}\n",
    "for row in file_list:\n",
    "    location = row['location'] # It will be a string like \"US, WA, Seattle \"\n",
    "    loc = [l.strip() for l in location.split(',')]\n",
    "    \n",
    "    qual = row['BASIC QUALIFICATIONS']\n",
    "    # Keywords used for Bachelor Degree Holders are 'Bachelor', 'BS' and 'BA'.\n",
    "    # Keywords used for languages are 'Java','C++' and 'Python'\n",
    "    if ('Bachelor' in qual or 'BS' in qual or 'BA' in qual) and 'IN' in loc:\n",
    "        if 'Java' in qual:\n",
    "            language_dict['Java']+=1\n",
    "        if 'C++' in qual:\n",
    "            language_dict['C++']+=1\n",
    "        if 'Python' in qual:\n",
    "            language_dict['Python']+=1\n",
    "\n",
    "max_opening = 0\n",
    "if language_dict['Java'] > language_dict['C++'] and language_dict['Java'] > language_dict['Python']:\n",
    "    print('Java', language_dict['Java'])\n",
    "elif language_dict['C++'] > language_dict['Java'] and language_dict['C++'] > language_dict['Python']:\n",
    "    print('C++', language_dict['C++'])\n",
    "else:\n",
    "    print('Python', language_dict['Pyhton'])\n",
    "\n"
   ]
  },
  {
   "cell_type": "markdown",
   "metadata": {},
   "source": [
    "## Find the country does Amazon need the most number of Java Developer"
   ]
  },
  {
   "cell_type": "code",
   "execution_count": 21,
   "metadata": {},
   "outputs": [
    {
     "name": "stdout",
     "output_type": "stream",
     "text": [
      "US 2009\n"
     ]
    }
   ],
   "source": [
    "import csv\n",
    "with open('amazon_jobs_dataset.csv', encoding='utf8') as file_obj:\n",
    "    file_data = csv.DictReader(file_obj, skipinitialspace=True)\n",
    "    file_list = list(file_data)\n",
    "\n",
    "country_dict = {}\n",
    "for row in file_list:\n",
    "    location = row['location'] # It will be a string like \"US, WA, Seattle \"\n",
    "    loc = [l.strip() for l in location.split(',')]\n",
    "    \n",
    "    qual = row['BASIC QUALIFICATIONS']\n",
    "    # Keywords used for language are 'Java'\n",
    "    if 'Java' in qual:\n",
    "        #loc[0] represent country shortcut\n",
    "        country_dict[loc[0]] = country_dict.get(loc[0], 0) + 1\n",
    "        \n",
    "max_developers = 0\n",
    "for country in country_dict:\n",
    "    if country_dict[country] > max_developers:\n",
    "        max_developers = country_dict[country]\n",
    "        req_country = country\n",
    "print(req_country, max_developers)"
   ]
  },
  {
   "cell_type": "code",
   "execution_count": null,
   "metadata": {},
   "outputs": [],
   "source": []
  },
  {
   "cell_type": "code",
   "execution_count": null,
   "metadata": {},
   "outputs": [],
   "source": []
  },
  {
   "cell_type": "code",
   "execution_count": null,
   "metadata": {},
   "outputs": [],
   "source": []
  }
 ],
 "metadata": {
  "kernelspec": {
   "display_name": "Python 3",
   "language": "python",
   "name": "python3"
  },
  "language_info": {
   "codemirror_mode": {
    "name": "ipython",
    "version": 3
   },
   "file_extension": ".py",
   "mimetype": "text/x-python",
   "name": "python",
   "nbconvert_exporter": "python",
   "pygments_lexer": "ipython3",
   "version": "3.7.3"
  }
 },
 "nbformat": 4,
 "nbformat_minor": 2
}
