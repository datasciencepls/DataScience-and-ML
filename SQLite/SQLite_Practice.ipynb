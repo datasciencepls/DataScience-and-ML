{
 "cells": [
  {
   "cell_type": "code",
   "execution_count": 1,
   "metadata": {},
   "outputs": [],
   "source": [
    "import sqlite3"
   ]
  },
  {
   "cell_type": "code",
   "execution_count": 2,
   "metadata": {},
   "outputs": [
    {
     "data": {
      "text/plain": [
       "<sqlite3.Connection at 0x5dc60a0>"
      ]
     },
     "execution_count": 2,
     "metadata": {},
     "output_type": "execute_result"
    }
   ],
   "source": [
    "db = sqlite3.connect('School.sqlite')\n",
    "db"
   ]
  },
  {
   "cell_type": "code",
   "execution_count": 3,
   "metadata": {},
   "outputs": [
    {
     "data": {
      "text/plain": [
       "<sqlite3.Cursor at 0x5dbd420>"
      ]
     },
     "execution_count": 3,
     "metadata": {},
     "output_type": "execute_result"
    }
   ],
   "source": [
    "cur = db.cursor()\n",
    "cur"
   ]
  },
  {
   "cell_type": "code",
   "execution_count": 4,
   "metadata": {},
   "outputs": [
    {
     "data": {
      "text/plain": [
       "<sqlite3.Cursor at 0x5dbd420>"
      ]
     },
     "execution_count": 4,
     "metadata": {},
     "output_type": "execute_result"
    }
   ],
   "source": [
    "sql_query = 'create table Student(RollNumber int primary key, Name Text, Age int)'\n",
    "cur.execute(sql_query)"
   ]
  },
  {
   "cell_type": "code",
   "execution_count": 5,
   "metadata": {},
   "outputs": [],
   "source": [
    "cur.execute('Insert into Student values(101, \"Aman\",20)')\n",
    "db.commit()"
   ]
  },
  {
   "cell_type": "raw",
   "metadata": {},
   "source": [
    "db.close()\n",
    "cur.execute('Insert into Student values(101, \"Aman\",20)') # Gives error bcz database connection is closed\n",
    "db.commit()"
   ]
  },
  {
   "cell_type": "code",
   "execution_count": 6,
   "metadata": {},
   "outputs": [],
   "source": [
    "db = sqlite3.connect('School.sqlite')\n",
    "cur = db.cursor()\n",
    "cur.execute('Insert into Student values(102, \"Mohit\",24)')\n",
    "db.commit()"
   ]
  },
  {
   "cell_type": "markdown",
   "metadata": {},
   "source": [
    "### Passing query parameters"
   ]
  },
  {
   "cell_type": "code",
   "execution_count": 7,
   "metadata": {},
   "outputs": [],
   "source": [
    "rollNumber = 104\n",
    "Name = 'Nikhil'\n",
    "age = 34\n",
    "\n",
    "cur.execute('Insert into student values(?, ?, ?)', (rollNumber, Name, age))\n",
    "db.commit()"
   ]
  },
  {
   "cell_type": "markdown",
   "metadata": {},
   "source": [
    "### execute many"
   ]
  },
  {
   "cell_type": "code",
   "execution_count": 8,
   "metadata": {},
   "outputs": [],
   "source": [
    "values = [(105, 'Nidhi', 20), (106,'Manisha',21), (107,'Ankush',22)]\n",
    "cur.executemany('Insert into student values(?,?,?)',values)\n",
    "db.commit()"
   ]
  },
  {
   "cell_type": "markdown",
   "metadata": {},
   "source": [
    "### Update"
   ]
  },
  {
   "cell_type": "code",
   "execution_count": 9,
   "metadata": {},
   "outputs": [
    {
     "data": {
      "text/plain": [
       "<sqlite3.Cursor at 0x5dbd760>"
      ]
     },
     "execution_count": 9,
     "metadata": {},
     "output_type": "execute_result"
    }
   ],
   "source": [
    "cur.execute('update Student set Age=30')"
   ]
  },
  {
   "cell_type": "code",
   "execution_count": 10,
   "metadata": {},
   "outputs": [],
   "source": [
    "cur.execute('update Student set Age=25 where rollnumber=102')\n",
    "db.commit()"
   ]
  },
  {
   "cell_type": "code",
   "execution_count": 11,
   "metadata": {},
   "outputs": [],
   "source": [
    "new_age = 50\n",
    "cur.execute('update Student set Age=? where rollnumber=104',(new_age,))\n",
    "db.commit()\n"
   ]
  },
  {
   "cell_type": "code",
   "execution_count": 12,
   "metadata": {},
   "outputs": [],
   "source": [
    "db.close()"
   ]
  },
  {
   "cell_type": "markdown",
   "metadata": {},
   "source": [
    "### Create an Employee SQLite Database for Investment Firm and in that Database create EmployeeDetail table with columns names employeeid(Primary Key), name, age, department, and salary. Now add the value in Employee_Detail table of given employee"
   ]
  },
  {
   "cell_type": "code",
   "execution_count": 13,
   "metadata": {},
   "outputs": [],
   "source": [
    "import sqlite3\n",
    "db = sqlite3.connect('Employee.sqlite')\n",
    "cur = db.cursor()"
   ]
  },
  {
   "cell_type": "code",
   "execution_count": 14,
   "metadata": {},
   "outputs": [
    {
     "data": {
      "text/plain": [
       "<sqlite3.Cursor at 0x5dbdce0>"
      ]
     },
     "execution_count": 14,
     "metadata": {},
     "output_type": "execute_result"
    }
   ],
   "source": [
    "cur.execute('create table EmployeeDetail(employeeid int primary key, name Text, age int, department Text, salary int)')"
   ]
  },
  {
   "cell_type": "code",
   "execution_count": 15,
   "metadata": {},
   "outputs": [],
   "source": [
    "values = [(100, 'Rishav', 25, 'Marketing', 50000), (101, 'Abhishek', 26, 'Operations', 60000), (102, 'Aman', 24, 'Human Resource', 75000) ]\n",
    "cur.executemany('Insert into employeedetail values(?,?,?,?,?)', values)\n",
    "db.commit()"
   ]
  },
  {
   "cell_type": "markdown",
   "metadata": {},
   "source": [
    "### From Employee SQLite Database remove the Employee with employee_id 101?(Without Using Parameter)"
   ]
  },
  {
   "cell_type": "code",
   "execution_count": 16,
   "metadata": {},
   "outputs": [],
   "source": [
    "cur.execute('delete from employeedetail where employeeid=101')\n",
    "db.commit()"
   ]
  },
  {
   "cell_type": "markdown",
   "metadata": {},
   "source": [
    "### From Employee SQLite Database remove the Employee with employeeid 102?(Using Parameter i.e storing employeeid in variable and then executing the SQL query)"
   ]
  },
  {
   "cell_type": "code",
   "execution_count": 17,
   "metadata": {},
   "outputs": [],
   "source": [
    "empid = 102\n",
    "cur.execute('delete from employeedetail where employeeid=?', (empid,))\n",
    "db.commit()"
   ]
  },
  {
   "cell_type": "markdown",
   "metadata": {},
   "source": [
    "### From Employee SQLite Database remove the Employee with employeeid 100"
   ]
  },
  {
   "cell_type": "code",
   "execution_count": 18,
   "metadata": {},
   "outputs": [],
   "source": [
    "cur.execute('delete from employeedetail where employeeid=100')\n",
    "db.commit()"
   ]
  },
  {
   "cell_type": "markdown",
   "metadata": {},
   "source": [
    "### A given data of 12 Employees working in an investment firm. So add the Employee Data in Employee SQLite Database of Employee_Detail Table which was created by you."
   ]
  },
  {
   "cell_type": "code",
   "execution_count": 19,
   "metadata": {},
   "outputs": [
    {
     "name": "stdout",
     "output_type": "stream",
     "text": [
      "[(101, 'Aadarsh', 25, 'Marketing', 50000), (102, 'Aarti', 27, 'Operations', 60000), (103, 'Siddharth', 25, 'Finance', 85000), (104, 'Aman', 24, 'Human Resource', 75000), (105, 'Amit', 30, 'Marketing', 50000), (106, 'Shivansh', 26, 'IT', 90000), (107, 'Vaibhav', 23, 'Finance', 85000), (108, 'Himanshu', 26, 'IT', 90000), (109, 'Raman', 25, 'Operations', 60000), (110, 'Kunal', 26, 'Marketing', 50000), (111, 'Adhira', 29, 'Human Resource', 75000), (112, 'Tanya', 24, 'Marketing', 50000)]\n"
     ]
    }
   ],
   "source": [
    "employee_id=[101,102,103,104,105,106,107,108,109,110,111,112,113]\n",
    "name=['Aadarsh','Aarti','Siddharth','Aman','Amit','Shivansh','Vaibhav','Himanshu','Raman','Kunal','Adhira','Tanya']\n",
    "age=[25,27,25,24,30,26,23,26,25,26,29,24]\n",
    "department=['Marketing','Operations','Finance','Human Resource','Marketing','IT','Finance','IT','Operations','Marketing','Human Resource','Marketing']\n",
    "salary=[50000,60000,85000,75000,50000,90000,85000,90000,60000,50000,75000,50000]\n",
    "\n",
    "values = [tuple([employee_id[i],name[i],age[i],department[i],salary[i]]) for i in range(12)]\n",
    "print(values)\n",
    "cur.executemany('Insert into employeeDetail values(?,?,?,?,?)',values)\n",
    "db.commit()"
   ]
  },
  {
   "cell_type": "markdown",
   "metadata": {},
   "source": [
    "### Fetch data"
   ]
  },
  {
   "cell_type": "code",
   "execution_count": 20,
   "metadata": {},
   "outputs": [
    {
     "name": "stdout",
     "output_type": "stream",
     "text": [
      "(101, 'Aadarsh', 25, 'Marketing', 50000)\n",
      "(102, 'Aarti', 27, 'Operations', 60000)\n",
      "(103, 'Siddharth', 25, 'Finance', 85000)\n",
      "(104, 'Aman', 24, 'Human Resource', 75000)\n",
      "(105, 'Amit', 30, 'Marketing', 50000)\n",
      "(106, 'Shivansh', 26, 'IT', 90000)\n",
      "(107, 'Vaibhav', 23, 'Finance', 85000)\n",
      "(108, 'Himanshu', 26, 'IT', 90000)\n",
      "(109, 'Raman', 25, 'Operations', 60000)\n",
      "(110, 'Kunal', 26, 'Marketing', 50000)\n",
      "(111, 'Adhira', 29, 'Human Resource', 75000)\n",
      "(112, 'Tanya', 24, 'Marketing', 50000)\n"
     ]
    }
   ],
   "source": [
    "# Way 1\n",
    "cur.execute('select * from employeeDetail')\n",
    "for row in cur:\n",
    "    print(row)"
   ]
  },
  {
   "cell_type": "markdown",
   "metadata": {},
   "source": [
    "#### fetchone()\n",
    "#### fetchmany()\n",
    "#### fetchall()"
   ]
  },
  {
   "cell_type": "code",
   "execution_count": 21,
   "metadata": {},
   "outputs": [
    {
     "name": "stdout",
     "output_type": "stream",
     "text": [
      "(101, 'Aadarsh', 25, 'Marketing', 50000)\n",
      "(102, 'Aarti', 27, 'Operations', 60000)\n"
     ]
    }
   ],
   "source": [
    "cur.execute('select * from employeeDetail')\n",
    "print(cur.fetchone()) # Row1\n",
    "print(cur.fetchone()) # Row 2"
   ]
  },
  {
   "cell_type": "code",
   "execution_count": 22,
   "metadata": {},
   "outputs": [
    {
     "name": "stdout",
     "output_type": "stream",
     "text": [
      "[(101, 'Aadarsh', 25, 'Marketing', 50000), (102, 'Aarti', 27, 'Operations', 60000), (103, 'Siddharth', 25, 'Finance', 85000), (104, 'Aman', 24, 'Human Resource', 75000), (105, 'Amit', 30, 'Marketing', 50000)]\n"
     ]
    }
   ],
   "source": [
    "cur.execute('select * from employeeDetail')\n",
    "print(cur.fetchmany(5)) # 5 rows"
   ]
  },
  {
   "cell_type": "code",
   "execution_count": 23,
   "metadata": {},
   "outputs": [
    {
     "name": "stdout",
     "output_type": "stream",
     "text": [
      "[(101, 'Aadarsh', 25, 'Marketing', 50000), (102, 'Aarti', 27, 'Operations', 60000), (103, 'Siddharth', 25, 'Finance', 85000), (104, 'Aman', 24, 'Human Resource', 75000), (105, 'Amit', 30, 'Marketing', 50000), (106, 'Shivansh', 26, 'IT', 90000), (107, 'Vaibhav', 23, 'Finance', 85000), (108, 'Himanshu', 26, 'IT', 90000), (109, 'Raman', 25, 'Operations', 60000), (110, 'Kunal', 26, 'Marketing', 50000), (111, 'Adhira', 29, 'Human Resource', 75000), (112, 'Tanya', 24, 'Marketing', 50000)]\n"
     ]
    }
   ],
   "source": [
    "cur.execute('select * from employeeDetail')\n",
    "ans = cur.fetchall()\n",
    "print(ans)"
   ]
  },
  {
   "cell_type": "code",
   "execution_count": 24,
   "metadata": {},
   "outputs": [
    {
     "name": "stdout",
     "output_type": "stream",
     "text": [
      "[(104, 'Aman', 24, 'Human Resource', 75000), (105, 'Amit', 30, 'Marketing', 50000), (106, 'Shivansh', 26, 'IT', 90000), (107, 'Vaibhav', 23, 'Finance', 85000), (108, 'Himanshu', 26, 'IT', 90000)]\n"
     ]
    }
   ],
   "source": [
    "cur.execute('select * from employeeDetail where employeeid>103')\n",
    "print(cur.fetchmany(5)) # 5 rows"
   ]
  },
  {
   "cell_type": "code",
   "execution_count": 25,
   "metadata": {},
   "outputs": [
    {
     "name": "stdout",
     "output_type": "stream",
     "text": [
      "[(101, 'Aadarsh', 25, 'Marketing', 50000), (102, 'Aarti', 27, 'Operations', 60000), (104, 'Aman', 24, 'Human Resource', 75000), (105, 'Amit', 30, 'Marketing', 50000), (111, 'Adhira', 29, 'Human Resource', 75000)]\n"
     ]
    }
   ],
   "source": [
    "cur.execute('select * from employeeDetail where name like \"A%\" ')\n",
    "print(cur.fetchall())"
   ]
  },
  {
   "cell_type": "markdown",
   "metadata": {},
   "source": [
    "### Find the employee_id of employee whose is working in Finance Department in Investment firm from Employee SQLite Database.\n",
    "### Print the employee_id as integer value"
   ]
  },
  {
   "cell_type": "code",
   "execution_count": 26,
   "metadata": {},
   "outputs": [
    {
     "name": "stdout",
     "output_type": "stream",
     "text": [
      "103\n",
      "107\n"
     ]
    }
   ],
   "source": [
    "import sqlite3\n",
    "db = sqlite3.connect('Employee.sqlite')\n",
    "cur = db.cursor()\n",
    "cur.execute('select employeeid from employeedetail where department=\"Finance\" ')\n",
    "for id in cur:\n",
    "    print(id[0])"
   ]
  },
  {
   "cell_type": "markdown",
   "metadata": {},
   "source": [
    "### Find the number of employee working in different department in an investment firm from Employee SQLite Database.\n",
    "### Print the department and number of employee"
   ]
  },
  {
   "cell_type": "code",
   "execution_count": 27,
   "metadata": {},
   "outputs": [
    {
     "name": "stdout",
     "output_type": "stream",
     "text": [
      "('Finance', 2)\n",
      "('Human Resource', 2)\n",
      "('IT', 2)\n",
      "('Marketing', 4)\n",
      "('Operations', 2)\n"
     ]
    }
   ],
   "source": [
    "cur.execute('select department,count(*) from employeedetail group by department')\n",
    "res = cur.fetchall()\n",
    "for r in res:\n",
    "    print(r)"
   ]
  },
  {
   "cell_type": "code",
   "execution_count": 28,
   "metadata": {},
   "outputs": [],
   "source": [
    "db.close()"
   ]
  },
  {
   "cell_type": "markdown",
   "metadata": {},
   "source": [
    "###  SQLite with pandas"
   ]
  },
  {
   "cell_type": "code",
   "execution_count": 31,
   "metadata": {},
   "outputs": [
    {
     "data": {
      "text/html": [
       "<div>\n",
       "<style scoped>\n",
       "    .dataframe tbody tr th:only-of-type {\n",
       "        vertical-align: middle;\n",
       "    }\n",
       "\n",
       "    .dataframe tbody tr th {\n",
       "        vertical-align: top;\n",
       "    }\n",
       "\n",
       "    .dataframe thead th {\n",
       "        text-align: right;\n",
       "    }\n",
       "</style>\n",
       "<table border=\"1\" class=\"dataframe\">\n",
       "  <thead>\n",
       "    <tr style=\"text-align: right;\">\n",
       "      <th></th>\n",
       "      <th>RollNumber</th>\n",
       "      <th>Name</th>\n",
       "      <th>Age</th>\n",
       "    </tr>\n",
       "  </thead>\n",
       "  <tbody>\n",
       "    <tr>\n",
       "      <td>0</td>\n",
       "      <td>101</td>\n",
       "      <td>Aman</td>\n",
       "      <td>30</td>\n",
       "    </tr>\n",
       "    <tr>\n",
       "      <td>1</td>\n",
       "      <td>102</td>\n",
       "      <td>Mohit</td>\n",
       "      <td>25</td>\n",
       "    </tr>\n",
       "    <tr>\n",
       "      <td>2</td>\n",
       "      <td>104</td>\n",
       "      <td>Nikhil</td>\n",
       "      <td>50</td>\n",
       "    </tr>\n",
       "    <tr>\n",
       "      <td>3</td>\n",
       "      <td>105</td>\n",
       "      <td>Nidhi</td>\n",
       "      <td>30</td>\n",
       "    </tr>\n",
       "    <tr>\n",
       "      <td>4</td>\n",
       "      <td>106</td>\n",
       "      <td>Manisha</td>\n",
       "      <td>30</td>\n",
       "    </tr>\n",
       "    <tr>\n",
       "      <td>5</td>\n",
       "      <td>107</td>\n",
       "      <td>Ankush</td>\n",
       "      <td>30</td>\n",
       "    </tr>\n",
       "  </tbody>\n",
       "</table>\n",
       "</div>"
      ],
      "text/plain": [
       "   RollNumber     Name  Age\n",
       "0         101     Aman   30\n",
       "1         102    Mohit   25\n",
       "2         104   Nikhil   50\n",
       "3         105    Nidhi   30\n",
       "4         106  Manisha   30\n",
       "5         107   Ankush   30"
      ]
     },
     "execution_count": 31,
     "metadata": {},
     "output_type": "execute_result"
    }
   ],
   "source": [
    "import pandas as pd\n",
    "import sqlite3\n",
    "\n",
    "db = sqlite3.connect('School.sqlite')\n",
    "data = pd.read_sql_query('Select * from student', db)\n",
    "data\n"
   ]
  },
  {
   "cell_type": "code",
   "execution_count": 34,
   "metadata": {},
   "outputs": [
    {
     "data": {
      "text/html": [
       "<div>\n",
       "<style scoped>\n",
       "    .dataframe tbody tr th:only-of-type {\n",
       "        vertical-align: middle;\n",
       "    }\n",
       "\n",
       "    .dataframe tbody tr th {\n",
       "        vertical-align: top;\n",
       "    }\n",
       "\n",
       "    .dataframe thead th {\n",
       "        text-align: right;\n",
       "    }\n",
       "</style>\n",
       "<table border=\"1\" class=\"dataframe\">\n",
       "  <thead>\n",
       "    <tr style=\"text-align: right;\">\n",
       "      <th></th>\n",
       "      <th>RollNumber</th>\n",
       "      <th>Name</th>\n",
       "      <th>Age</th>\n",
       "    </tr>\n",
       "  </thead>\n",
       "  <tbody>\n",
       "    <tr>\n",
       "      <td>0</td>\n",
       "      <td>101</td>\n",
       "      <td>Aman</td>\n",
       "      <td>30</td>\n",
       "    </tr>\n",
       "    <tr>\n",
       "      <td>3</td>\n",
       "      <td>105</td>\n",
       "      <td>Nidhi</td>\n",
       "      <td>30</td>\n",
       "    </tr>\n",
       "    <tr>\n",
       "      <td>4</td>\n",
       "      <td>106</td>\n",
       "      <td>Manisha</td>\n",
       "      <td>30</td>\n",
       "    </tr>\n",
       "    <tr>\n",
       "      <td>5</td>\n",
       "      <td>107</td>\n",
       "      <td>Ankush</td>\n",
       "      <td>30</td>\n",
       "    </tr>\n",
       "  </tbody>\n",
       "</table>\n",
       "</div>"
      ],
      "text/plain": [
       "   RollNumber     Name  Age\n",
       "0         101     Aman   30\n",
       "3         105    Nidhi   30\n",
       "4         106  Manisha   30\n",
       "5         107   Ankush   30"
      ]
     },
     "execution_count": 34,
     "metadata": {},
     "output_type": "execute_result"
    }
   ],
   "source": [
    "data[data['Age']==30]"
   ]
  },
  {
   "cell_type": "code",
   "execution_count": 35,
   "metadata": {},
   "outputs": [
    {
     "data": {
      "text/html": [
       "<div>\n",
       "<style scoped>\n",
       "    .dataframe tbody tr th:only-of-type {\n",
       "        vertical-align: middle;\n",
       "    }\n",
       "\n",
       "    .dataframe tbody tr th {\n",
       "        vertical-align: top;\n",
       "    }\n",
       "\n",
       "    .dataframe thead th {\n",
       "        text-align: right;\n",
       "    }\n",
       "</style>\n",
       "<table border=\"1\" class=\"dataframe\">\n",
       "  <thead>\n",
       "    <tr style=\"text-align: right;\">\n",
       "      <th></th>\n",
       "      <th>ID</th>\n",
       "      <th>Name</th>\n",
       "      <th>Vourse</th>\n",
       "      <th>Salary</th>\n",
       "    </tr>\n",
       "  </thead>\n",
       "  <tbody>\n",
       "    <tr>\n",
       "      <td>0</td>\n",
       "      <td>201</td>\n",
       "      <td>Aman</td>\n",
       "      <td>English</td>\n",
       "      <td>2000</td>\n",
       "    </tr>\n",
       "    <tr>\n",
       "      <td>1</td>\n",
       "      <td>202</td>\n",
       "      <td>sanjeev</td>\n",
       "      <td>Maths</td>\n",
       "      <td>2200</td>\n",
       "    </tr>\n",
       "    <tr>\n",
       "      <td>2</td>\n",
       "      <td>203</td>\n",
       "      <td>Pankaj</td>\n",
       "      <td>Science</td>\n",
       "      <td>2500</td>\n",
       "    </tr>\n",
       "  </tbody>\n",
       "</table>\n",
       "</div>"
      ],
      "text/plain": [
       "    ID     Name   Vourse  Salary\n",
       "0  201     Aman  English    2000\n",
       "1  202  sanjeev    Maths    2200\n",
       "2  203   Pankaj  Science    2500"
      ]
     },
     "execution_count": 35,
     "metadata": {},
     "output_type": "execute_result"
    }
   ],
   "source": [
    "df = pd.DataFrame([[201,\"Aman\",\"English\",2000], [202,\"sanjeev\",\"Maths\",2200], [203,\"Pankaj\",\"Science\",2500]], columns=['ID','Name','Vourse','Salary'])\n",
    "df"
   ]
  },
  {
   "cell_type": "code",
   "execution_count": 36,
   "metadata": {},
   "outputs": [],
   "source": [
    "df.to_sql(\"Faculty\",db)"
   ]
  },
  {
   "cell_type": "markdown",
   "metadata": {},
   "source": [
    "### Add new column using pandas"
   ]
  },
  {
   "cell_type": "code",
   "execution_count": 38,
   "metadata": {},
   "outputs": [],
   "source": [
    "df['Address'] = 'Test'\n",
    "df.to_sql(\"Faculty\", db, if_exists='replace')"
   ]
  },
  {
   "cell_type": "code",
   "execution_count": 39,
   "metadata": {},
   "outputs": [],
   "source": [
    "db.close()"
   ]
  },
  {
   "cell_type": "markdown",
   "metadata": {},
   "source": [
    "### IMDB.sqlite' database contains all details of movies and has three tables with name IMDB, genre and earning.\n",
    "### Find the count of each genre present in IMDB movie dataset?\n",
    "### Print the Genre and number of movies present in that genre."
   ]
  },
  {
   "cell_type": "code",
   "execution_count": 51,
   "metadata": {},
   "outputs": [
    {
     "name": "stdout",
     "output_type": "stream",
     "text": [
      "Action 33\n",
      "Adventure 43\n",
      "Animation 13\n",
      "Biography 21\n",
      "Comedy 31\n",
      "Crime 11\n",
      "Drama 77\n",
      "Family 3\n",
      "Fantasy 7\n",
      "History 6\n",
      "Horror 2\n",
      "Music 3\n",
      "Musical 1\n",
      "Mystery 7\n",
      "Romance 13\n",
      "Sci-Fi 18\n",
      "Sport 3\n",
      "Thriller 14\n",
      "War 2\n",
      "Western 2\n"
     ]
    }
   ],
   "source": [
    "import pandas as pd\n",
    "import sqlite3\n",
    "\n",
    "db = sqlite3.connect('IMDB.sqlite')\n",
    "data = pd.read_sql_query('Select genre,count(*) from genre group by genre', db)\n",
    "\n",
    "for i in range(1,len(data)):# i starts from 1 bcz at 0 genre is empty which we have to ignore\n",
    "    print(data['genre'].iloc[i], data['count(*)'].iloc[i])"
   ]
  },
  {
   "cell_type": "markdown",
   "metadata": {},
   "source": [
    "### Find the highest-grossing movie (i.e domestic earning + worldwide earning) in IMDB database.\n",
    "### Print the rating of that movie."
   ]
  },
  {
   "cell_type": "code",
   "execution_count": 70,
   "metadata": {},
   "outputs": [
    {
     "name": "stdout",
     "output_type": "stream",
     "text": [
      "8.1\n"
     ]
    }
   ],
   "source": [
    "import pandas as pd\n",
    "import sqlite3\n",
    "\n",
    "db = sqlite3.connect('IMDB.sqlite')\n",
    "imdb_df = pd.read_sql_query('Select * from imdb', db)\n",
    "earning_df = pd.read_sql_query('Select Rating, Domestic, Worldwide from earning join imdb on imdb.Movie_id = earning.Movie_id', db)\n",
    "earning_df['total_earning'] = earning_df['Domestic'] + earning_df['Worldwide']\n",
    "highest_grossing_movie = earning_df[earning_df['total_earning'] == earning_df['total_earning'].max()] # From this we get mmovie_id = 38626\n",
    "highest_grossing_movie_rating = highest_grossing_movie['Rating'].iloc[0]\n",
    "print(highest_grossing_movie_rating)"
   ]
  },
  {
   "cell_type": "code",
   "execution_count": null,
   "metadata": {},
   "outputs": [],
   "source": []
  },
  {
   "cell_type": "code",
   "execution_count": null,
   "metadata": {},
   "outputs": [],
   "source": []
  },
  {
   "cell_type": "code",
   "execution_count": null,
   "metadata": {},
   "outputs": [],
   "source": []
  },
  {
   "cell_type": "code",
   "execution_count": null,
   "metadata": {},
   "outputs": [],
   "source": []
  },
  {
   "cell_type": "code",
   "execution_count": null,
   "metadata": {},
   "outputs": [],
   "source": []
  }
 ],
 "metadata": {
  "kernelspec": {
   "display_name": "Python 3",
   "language": "python",
   "name": "python3"
  },
  "language_info": {
   "codemirror_mode": {
    "name": "ipython",
    "version": 3
   },
   "file_extension": ".py",
   "mimetype": "text/x-python",
   "name": "python",
   "nbconvert_exporter": "python",
   "pygments_lexer": "ipython3",
   "version": "3.7.3"
  }
 },
 "nbformat": 4,
 "nbformat_minor": 2
}
