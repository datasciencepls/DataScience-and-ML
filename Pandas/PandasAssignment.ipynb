{
 "cells": [
  {
   "cell_type": "code",
   "execution_count": 23,
   "metadata": {},
   "outputs": [
    {
     "data": {
      "text/html": [
       "<div>\n",
       "<style scoped>\n",
       "    .dataframe tbody tr th:only-of-type {\n",
       "        vertical-align: middle;\n",
       "    }\n",
       "\n",
       "    .dataframe tbody tr th {\n",
       "        vertical-align: top;\n",
       "    }\n",
       "\n",
       "    .dataframe thead th {\n",
       "        text-align: right;\n",
       "    }\n",
       "</style>\n",
       "<table border=\"1\" class=\"dataframe\">\n",
       "  <thead>\n",
       "    <tr style=\"text-align: right;\">\n",
       "      <th></th>\n",
       "      <th>Year</th>\n",
       "      <th>Month</th>\n",
       "      <th>Day</th>\n",
       "      <th>Country</th>\n",
       "      <th>State</th>\n",
       "      <th>Region</th>\n",
       "      <th>City</th>\n",
       "      <th>Latitude</th>\n",
       "      <th>Longitude</th>\n",
       "      <th>AttackType</th>\n",
       "      <th>Killed</th>\n",
       "      <th>Wounded</th>\n",
       "      <th>Target</th>\n",
       "      <th>Summary</th>\n",
       "      <th>Group</th>\n",
       "      <th>Target_type</th>\n",
       "      <th>Weapon_type</th>\n",
       "    </tr>\n",
       "  </thead>\n",
       "  <tbody>\n",
       "    <tr>\n",
       "      <td>0</td>\n",
       "      <td>1970</td>\n",
       "      <td>7</td>\n",
       "      <td>2</td>\n",
       "      <td>Dominican Republic</td>\n",
       "      <td>NaN</td>\n",
       "      <td>Central America &amp; Caribbean</td>\n",
       "      <td>Santo Domingo</td>\n",
       "      <td>18.456792</td>\n",
       "      <td>-69.951164</td>\n",
       "      <td>Assassination</td>\n",
       "      <td>1.0</td>\n",
       "      <td>0.0</td>\n",
       "      <td>Julio Guzman</td>\n",
       "      <td>NaN</td>\n",
       "      <td>MANO-D</td>\n",
       "      <td>Private Citizens &amp; Property</td>\n",
       "      <td>Unknown</td>\n",
       "    </tr>\n",
       "    <tr>\n",
       "      <td>1</td>\n",
       "      <td>1970</td>\n",
       "      <td>0</td>\n",
       "      <td>0</td>\n",
       "      <td>Mexico</td>\n",
       "      <td>Federal</td>\n",
       "      <td>North America</td>\n",
       "      <td>Mexico city</td>\n",
       "      <td>19.371887</td>\n",
       "      <td>-99.086624</td>\n",
       "      <td>Hostage Taking (Kidnapping)</td>\n",
       "      <td>0.0</td>\n",
       "      <td>0.0</td>\n",
       "      <td>Nadine Chaval, daughter</td>\n",
       "      <td>NaN</td>\n",
       "      <td>23rd of September Communist League</td>\n",
       "      <td>Government (Diplomatic)</td>\n",
       "      <td>Unknown</td>\n",
       "    </tr>\n",
       "    <tr>\n",
       "      <td>2</td>\n",
       "      <td>1970</td>\n",
       "      <td>1</td>\n",
       "      <td>0</td>\n",
       "      <td>Philippines</td>\n",
       "      <td>Tarlac</td>\n",
       "      <td>Southeast Asia</td>\n",
       "      <td>Unknown</td>\n",
       "      <td>15.478598</td>\n",
       "      <td>120.599741</td>\n",
       "      <td>Assassination</td>\n",
       "      <td>1.0</td>\n",
       "      <td>0.0</td>\n",
       "      <td>Employee</td>\n",
       "      <td>NaN</td>\n",
       "      <td>Unknown</td>\n",
       "      <td>Journalists &amp; Media</td>\n",
       "      <td>Unknown</td>\n",
       "    </tr>\n",
       "    <tr>\n",
       "      <td>3</td>\n",
       "      <td>1970</td>\n",
       "      <td>1</td>\n",
       "      <td>0</td>\n",
       "      <td>Greece</td>\n",
       "      <td>Attica</td>\n",
       "      <td>Western Europe</td>\n",
       "      <td>Athens</td>\n",
       "      <td>37.997490</td>\n",
       "      <td>23.762728</td>\n",
       "      <td>Bombing/Explosion</td>\n",
       "      <td>NaN</td>\n",
       "      <td>NaN</td>\n",
       "      <td>U.S. Embassy</td>\n",
       "      <td>NaN</td>\n",
       "      <td>Unknown</td>\n",
       "      <td>Government (Diplomatic)</td>\n",
       "      <td>Explosives</td>\n",
       "    </tr>\n",
       "    <tr>\n",
       "      <td>4</td>\n",
       "      <td>1970</td>\n",
       "      <td>1</td>\n",
       "      <td>0</td>\n",
       "      <td>Japan</td>\n",
       "      <td>Fukouka</td>\n",
       "      <td>East Asia</td>\n",
       "      <td>Fukouka</td>\n",
       "      <td>33.580412</td>\n",
       "      <td>130.396361</td>\n",
       "      <td>Facility/Infrastructure Attack</td>\n",
       "      <td>NaN</td>\n",
       "      <td>NaN</td>\n",
       "      <td>U.S. Consulate</td>\n",
       "      <td>NaN</td>\n",
       "      <td>Unknown</td>\n",
       "      <td>Government (Diplomatic)</td>\n",
       "      <td>Incendiary</td>\n",
       "    </tr>\n",
       "  </tbody>\n",
       "</table>\n",
       "</div>"
      ],
      "text/plain": [
       "   Year  Month  Day             Country    State                       Region  \\\n",
       "0  1970      7    2  Dominican Republic      NaN  Central America & Caribbean   \n",
       "1  1970      0    0              Mexico  Federal                North America   \n",
       "2  1970      1    0         Philippines   Tarlac               Southeast Asia   \n",
       "3  1970      1    0              Greece   Attica               Western Europe   \n",
       "4  1970      1    0               Japan  Fukouka                    East Asia   \n",
       "\n",
       "            City   Latitude   Longitude                      AttackType  \\\n",
       "0  Santo Domingo  18.456792  -69.951164                   Assassination   \n",
       "1    Mexico city  19.371887  -99.086624     Hostage Taking (Kidnapping)   \n",
       "2        Unknown  15.478598  120.599741                   Assassination   \n",
       "3         Athens  37.997490   23.762728               Bombing/Explosion   \n",
       "4        Fukouka  33.580412  130.396361  Facility/Infrastructure Attack   \n",
       "\n",
       "   Killed  Wounded                   Target Summary  \\\n",
       "0     1.0      0.0             Julio Guzman     NaN   \n",
       "1     0.0      0.0  Nadine Chaval, daughter     NaN   \n",
       "2     1.0      0.0                 Employee     NaN   \n",
       "3     NaN      NaN             U.S. Embassy     NaN   \n",
       "4     NaN      NaN           U.S. Consulate     NaN   \n",
       "\n",
       "                                Group                  Target_type Weapon_type  \n",
       "0                              MANO-D  Private Citizens & Property     Unknown  \n",
       "1  23rd of September Communist League      Government (Diplomatic)     Unknown  \n",
       "2                             Unknown          Journalists & Media     Unknown  \n",
       "3                             Unknown      Government (Diplomatic)  Explosives  \n",
       "4                             Unknown      Government (Diplomatic)  Incendiary  "
      ]
     },
     "execution_count": 23,
     "metadata": {},
     "output_type": "execute_result"
    }
   ],
   "source": [
    "import pandas as pd\n",
    "df = pd.read_csv('C:/PYTHON/DataScience_Ninza/DataScience-and-ML/Datasets/terrorismData.csv')\n",
    "df.head()"
   ]
  },
  {
   "cell_type": "markdown",
   "metadata": {},
   "source": [
    "### The Most Dangerous city in Jammu and Kashmir and the terrorist group which is most active in that city?\n",
    "### Print count of number of attacks in that city as integer value.\n",
    "### Note:Ignoring the Unknown Terrorist Group.Here Dangerous related with the number of terrorist attacks."
   ]
  },
  {
   "cell_type": "code",
   "execution_count": 33,
   "metadata": {},
   "outputs": [
    {
     "name": "stdout",
     "output_type": "stream",
     "text": [
      "Srinagar 657 Muslim Separatists\n"
     ]
    }
   ],
   "source": [
    "import pandas as pd\n",
    "df = pd.read_csv('C:/PYTHON/DataScience_Ninza/DataScience-and-ML/Datasets/terrorismData.csv')\n",
    "df = df[(df['State']=='Jammu and Kashmir')]\n",
    "df2 = df.groupby('City')\n",
    "attacks = 0\n",
    "for grp,grp_df in df2:\n",
    "    if len(grp_df) > attacks:\n",
    "        attacks = len(grp_df)\n",
    "        city = grp\n",
    "    \n",
    "df_city = df2.get_group(city) # Get dataframe corresponding to required city\n",
    "df_grp_city = df_city.groupby('Group')\n",
    "\n",
    "# Now find the most frequent grp in city\n",
    "num_attacks=0\n",
    "for grp,grp_df in df_grp_city:\n",
    "    if grp!='Unknown' and len(grp_df) > num_attacks:\n",
    "        num_attacks = len(df_grp_city)\n",
    "        dangerous_grp = grp\n",
    "print(city, attacks, dangerous_grp)"
   ]
  },
  {
   "cell_type": "markdown",
   "metadata": {},
   "source": [
    "## 2nd Way of above question"
   ]
  },
  {
   "cell_type": "code",
   "execution_count": 34,
   "metadata": {},
   "outputs": [
    {
     "name": "stdout",
     "output_type": "stream",
     "text": [
      "Srinagar 657 Muslim Separatists\n"
     ]
    }
   ],
   "source": [
    "import pandas as pd\n",
    "df = pd.read_csv('C:/PYTHON/DataScience_Ninza/DataScience-and-ML/Datasets/terrorismData.csv')\n",
    "df = df[(df['State']=='Jammu and Kashmir')]\n",
    "city_list = df['City'].value_counts()\n",
    "\n",
    "city = city_list.index[0] #Srinagar\n",
    "num_attacks = city_list.values[0] # 657\n",
    "\n",
    "df_terrorism = df[df['City']==city]\n",
    "# Now we find the most active group in city\n",
    "group = df_terrorism['Group'].value_counts().index[1] # not index[0] bcz index[0] is unknowm which we have to ignore\n",
    "print(city, num_attacks,group)"
   ]
  },
  {
   "cell_type": "markdown",
   "metadata": {},
   "source": [
    "## Find out the Country with Highest Number of Terror Attack and in which year the most number of terrorist attack happened in that country ?\n",
    "## Print count of terror attacks as integer value."
   ]
  },
  {
   "cell_type": "code",
   "execution_count": 35,
   "metadata": {},
   "outputs": [
    {
     "name": "stdout",
     "output_type": "stream",
     "text": [
      "Iraq 24636 2014\n"
     ]
    }
   ],
   "source": [
    "import pandas as pd\n",
    "df = pd.read_csv('C:/PYTHON/DataScience_Ninza/DataScience-and-ML/Datasets/terrorismData.csv')\n",
    "\n",
    "df_country = df.groupby('Country')\n",
    "num_attacks = 0\n",
    "\n",
    "# Find country with highest terrorist attacks\n",
    "for coun,coun_df in df_country:\n",
    "    if (len(coun_df)>num_attacks):\n",
    "        num_attacks = len(coun_df)\n",
    "        country = coun\n",
    "\n",
    "df_req_coun = df_country.get_group(country) # Get dataframe corresponding to required country\n",
    "df_year = df_req_coun.groupby('Year')\n",
    "\n",
    "# Find year in which most attacks happened in that country\n",
    "num_yr_attacks = 0\n",
    "for yr,df_yr in df_year:\n",
    "    if len(df_yr)>num_yr_attacks:\n",
    "        num_yr_attacks = len(df_yr)\n",
    "        year = yr\n",
    "\n",
    "print(country, num_attacks, year)"
   ]
  },
  {
   "cell_type": "markdown",
   "metadata": {},
   "source": [
    "## 2nd Way of above question"
   ]
  },
  {
   "cell_type": "code",
   "execution_count": 39,
   "metadata": {},
   "outputs": [
    {
     "name": "stdout",
     "output_type": "stream",
     "text": [
      "Iraq 24636 2014\n"
     ]
    }
   ],
   "source": [
    "import pandas as pd\n",
    "df = pd.read_csv('C:/PYTHON/DataScience_Ninza/DataScience-and-ML/Datasets/terrorismData.csv')\n",
    "\n",
    "country_attack = df['Country'].value_counts()\n",
    "country = country_attack.index[0]\n",
    "attacks = country_attack.values[0]\n",
    "\n",
    "# Now Find year in which most attacks happened in that country\n",
    "df_year = df[df['Country']==country]\n",
    "year = df_year['Year'].value_counts().index[0]\n",
    "\n",
    "print(country, attacks, year)"
   ]
  },
  {
   "cell_type": "markdown",
   "metadata": {},
   "source": [
    "## Most Deadliest attack in a history of HumanKind?\n",
    "## Print count of Killed people as integer value.\n",
    "## Note: Here Deadliest attack means, in which the most number of people killed."
   ]
  },
  {
   "cell_type": "code",
   "execution_count": 56,
   "metadata": {},
   "outputs": [
    {
     "name": "stdout",
     "output_type": "stream",
     "text": [
      "1570 Iraq Islamic State of Iraq and the Levant (ISIL)\n"
     ]
    }
   ],
   "source": [
    "import pandas as pd\n",
    "df = pd.read_csv('C:/PYTHON/DataScience_Ninza/DataScience-and-ML/Datasets/terrorismData.csv')\n",
    "\n",
    "df.Killed.fillna('0.0', inplace=True)\n",
    "\n",
    "# add new column kills with integer values bcz we want to sort values\n",
    "def convert(s):\n",
    "    return int(float(s))\n",
    "df['kills'] = df.Killed.apply(convert)\n",
    "\n",
    "# sort according to kills\n",
    "df.sort_values('kills', ascending=False, inplace=True)\n",
    "row1 = df.iloc[0] # 1st row\n",
    "print(row1['kills'], row1['Country'], row1['Group'])"
   ]
  },
  {
   "cell_type": "markdown",
   "metadata": {},
   "source": [
    "## There was formation of new government in India on 26 May 2014. So current government's span is from 26th May 2014 to current. Find out two things from this period-\n",
    "\n",
    "### 1. Total number of attacks done in this period in India. Find this count as integer.\n",
    "### 2. Which Terrorist group was most active in this period in India. Most active means, group which has done maximum number of attacks. \n",
    "### 3.Ignore the Unknown group. "
   ]
  },
  {
   "cell_type": "code",
   "execution_count": 86,
   "metadata": {},
   "outputs": [
    {
     "name": "stdout",
     "output_type": "stream",
     "text": [
      "3336 Maoists\n"
     ]
    }
   ],
   "source": [
    "import pandas as pd\n",
    "df = pd.read_csv('C:/PYTHON/DataScience_Ninza/DataScience-and-ML/Datasets/terrorismData.csv')\n",
    "df.head()\n",
    "\n",
    "# Add integer valued columns of month, year, and day and remove presvious ones\n",
    "df['month'] = df.Month.apply(int)\n",
    "df['year'] = df.Year.apply(int)\n",
    "df['day'] = df.Day.apply(int)\n",
    "\n",
    "del df['Month']\n",
    "del df['Year']\n",
    "del df['Day']\n",
    "\n",
    "bool_series = (df['year']>2014) | ( (df['year']==2014) & (df['month']>5) ) | ( (df['year']==2014) & (df['month']==5) & (df['day']>=26))\n",
    "df_req = df[(bool_series) & (df['Country']=='India')]\n",
    "num_attacks = df_req.shape[0]\n",
    "\n",
    "#find grp which is most active in this period\n",
    "grp = df_req['Group'].value_counts().index[1] # not index[0]  bcz that value is Unknown which we have to ignore\n",
    "\n",
    "print(num_attacks, grp)"
   ]
  },
  {
   "cell_type": "markdown",
   "metadata": {},
   "source": [
    "## Find the frequency of the Casualty in Red Corridor states and in Jammu and Kashmir ?Here Frequency is (Total Casualty/Total Number of a year)\n",
    "## Print frequency as integer value.\n",
    "## Note:Red Corridor state includes Jharkhand, Odisha, Andhra Pradesh, and Chhattisgarh. Here Casualty=Killed +Wounded.Don't fill the nan value present in Killed and Wounded feature."
   ]
  },
  {
   "cell_type": "code",
   "execution_count": 15,
   "metadata": {},
   "outputs": [
    {
     "name": "stdout",
     "output_type": "stream",
     "text": [
      "115 261\n"
     ]
    },
    {
     "name": "stderr",
     "output_type": "stream",
     "text": [
      "c:\\users\\mehak\\appdata\\local\\programs\\python\\python37-32\\lib\\site-packages\\ipykernel_launcher.py:9: SettingWithCopyWarning: \n",
      "A value is trying to be set on a copy of a slice from a DataFrame.\n",
      "Try using .loc[row_indexer,col_indexer] = value instead\n",
      "\n",
      "See the caveats in the documentation: http://pandas.pydata.org/pandas-docs/stable/user_guide/indexing.html#returning-a-view-versus-a-copy\n",
      "  if __name__ == '__main__':\n",
      "c:\\users\\mehak\\appdata\\local\\programs\\python\\python37-32\\lib\\site-packages\\ipykernel_launcher.py:10: SettingWithCopyWarning: \n",
      "A value is trying to be set on a copy of a slice from a DataFrame.\n",
      "Try using .loc[row_indexer,col_indexer] = value instead\n",
      "\n",
      "See the caveats in the documentation: http://pandas.pydata.org/pandas-docs/stable/user_guide/indexing.html#returning-a-view-versus-a-copy\n",
      "  # Remove the CWD from sys.path while we load stuff.\n"
     ]
    }
   ],
   "source": [
    "import pandas as pd\n",
    "df = pd.read_csv('C:/PYTHON/DataScience_Ninza/DataScience-and-ML/Datasets/terrorismData.csv')\n",
    "\n",
    "total_yr = len(set(df['Year']))\n",
    "\n",
    "df=df[df['Country']=='India']\n",
    "df1=df[df['State']=='Jammu and Kashmir']\n",
    "df2=df[(df['State']=='Jharkhand')|(df['State']=='Odisha')|(df['State']=='Andhra Pradesh')|(df['State']=='Chhattisgarh')]\n",
    "df1['casualty']=df1['Killed']+df1['Wounded']\n",
    "df2['casualty']=df2['Killed']+df2['Wounded']\n",
    "\n",
    "\n",
    "f1=int(df1.casualty.sum()//total_yr)\n",
    "f2=int(df2.casualty.sum()//total_yr)\n",
    "print(f2,f1)"
   ]
  },
  {
   "cell_type": "code",
   "execution_count": null,
   "metadata": {},
   "outputs": [],
   "source": []
  },
  {
   "cell_type": "code",
   "execution_count": null,
   "metadata": {},
   "outputs": [],
   "source": []
  }
 ],
 "metadata": {
  "kernelspec": {
   "display_name": "Python 3",
   "language": "python",
   "name": "python3"
  },
  "language_info": {
   "codemirror_mode": {
    "name": "ipython",
    "version": 3
   },
   "file_extension": ".py",
   "mimetype": "text/x-python",
   "name": "python",
   "nbconvert_exporter": "python",
   "pygments_lexer": "ipython3",
   "version": "3.7.3"
  }
 },
 "nbformat": 4,
 "nbformat_minor": 2
}
