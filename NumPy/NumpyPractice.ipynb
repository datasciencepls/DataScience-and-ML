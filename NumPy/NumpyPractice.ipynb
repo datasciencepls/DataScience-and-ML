{
 "cells": [
  {
   "cell_type": "code",
   "execution_count": 1,
   "metadata": {},
   "outputs": [],
   "source": [
    "import numpy as np"
   ]
  },
  {
   "cell_type": "code",
   "execution_count": 2,
   "metadata": {},
   "outputs": [
    {
     "name": "stdout",
     "output_type": "stream",
     "text": [
      "[1 2 3]\n",
      "<class 'numpy.ndarray'>\n"
     ]
    }
   ],
   "source": [
    "a = [1,2,3]\n",
    "b = np.array(a)\n",
    "print(b)\n",
    "print(type(b))"
   ]
  },
  {
   "cell_type": "code",
   "execution_count": 3,
   "metadata": {},
   "outputs": [
    {
     "name": "stdout",
     "output_type": "stream",
     "text": [
      "[1 2 3 5]\n",
      "<class 'numpy.ndarray'>\n"
     ]
    }
   ],
   "source": [
    "a = [1,2,3, '5']\n",
    "b = np.array(a, dtype=int)\n",
    "print(b)\n",
    "print(type(b))"
   ]
  },
  {
   "cell_type": "code",
   "execution_count": 4,
   "metadata": {},
   "outputs": [
    {
     "name": "stdout",
     "output_type": "stream",
     "text": [
      "[[1 2 3]\n",
      " [4 5 6]]\n",
      "<class 'numpy.ndarray'>\n"
     ]
    }
   ],
   "source": [
    "a = [[1,2,3],[4,5,6]]\n",
    "b = np.array(a)\n",
    "print(b)\n",
    "print(type(b))"
   ]
  },
  {
   "cell_type": "markdown",
   "metadata": {},
   "source": [
    "## np.zeros()"
   ]
  },
  {
   "cell_type": "code",
   "execution_count": 5,
   "metadata": {},
   "outputs": [
    {
     "name": "stdout",
     "output_type": "stream",
     "text": [
      "[0. 0. 0.]\n"
     ]
    }
   ],
   "source": [
    "b = np.zeros(3)\n",
    "print(b)"
   ]
  },
  {
   "cell_type": "code",
   "execution_count": 6,
   "metadata": {},
   "outputs": [
    {
     "data": {
      "text/plain": [
       "array([[0, 0, 0, 0, 0],\n",
       "       [0, 0, 0, 0, 0],\n",
       "       [0, 0, 0, 0, 0]])"
      ]
     },
     "execution_count": 6,
     "metadata": {},
     "output_type": "execute_result"
    }
   ],
   "source": [
    "b = np.zeros((3,5), dtype=int)\n",
    "b"
   ]
  },
  {
   "cell_type": "markdown",
   "metadata": {},
   "source": [
    "##  np.ones()"
   ]
  },
  {
   "cell_type": "code",
   "execution_count": 7,
   "metadata": {},
   "outputs": [
    {
     "name": "stdout",
     "output_type": "stream",
     "text": [
      "[1. 1. 1.]\n"
     ]
    }
   ],
   "source": [
    "b = np.ones(3)\n",
    "print(b)"
   ]
  },
  {
   "cell_type": "code",
   "execution_count": 8,
   "metadata": {},
   "outputs": [
    {
     "name": "stdout",
     "output_type": "stream",
     "text": [
      "[[1 1 1 1 1]\n",
      " [1 1 1 1 1]\n",
      " [1 1 1 1 1]\n",
      " [1 1 1 1 1]]\n"
     ]
    }
   ],
   "source": [
    "b = np.ones((4,5), dtype=int)\n",
    "print(b)"
   ]
  },
  {
   "cell_type": "markdown",
   "metadata": {},
   "source": [
    "##  np.full()\n",
    "### size, fill_value are mandatory arguments"
   ]
  },
  {
   "cell_type": "code",
   "execution_count": 9,
   "metadata": {},
   "outputs": [
    {
     "data": {
      "text/plain": [
       "array([5, 5, 5])"
      ]
     },
     "execution_count": 9,
     "metadata": {},
     "output_type": "execute_result"
    }
   ],
   "source": [
    "b = np.full(3, 5)\n",
    "b"
   ]
  },
  {
   "cell_type": "code",
   "execution_count": 10,
   "metadata": {},
   "outputs": [
    {
     "name": "stdout",
     "output_type": "stream",
     "text": [
      "[['9' '9' '9' '9' '9']\n",
      " ['9' '9' '9' '9' '9']\n",
      " ['9' '9' '9' '9' '9']]\n"
     ]
    }
   ],
   "source": [
    "b = np.full((3,5), 9, dtype=str)\n",
    "print(b)"
   ]
  },
  {
   "cell_type": "markdown",
   "metadata": {},
   "source": [
    "##  np.empty()\n",
    "### used to create new aray witout initializing entries"
   ]
  },
  {
   "cell_type": "code",
   "execution_count": 11,
   "metadata": {},
   "outputs": [
    {
     "data": {
      "text/plain": [
       "array([4.24399158e-314, 1.06099790e-313])"
      ]
     },
     "execution_count": 11,
     "metadata": {},
     "output_type": "execute_result"
    }
   ],
   "source": [
    "b = np.empty(2)\n",
    "b"
   ]
  },
  {
   "cell_type": "code",
   "execution_count": 12,
   "metadata": {},
   "outputs": [
    {
     "data": {
      "text/plain": [
       "array([[1919970921,  792355695,  959983919, 1630823479],\n",
       "       [ 859190115, 1717710898,  842097462,  842622517],\n",
       "       [1664377442,  929129015,        101,          0]])"
      ]
     },
     "execution_count": 12,
     "metadata": {},
     "output_type": "execute_result"
    }
   ],
   "source": [
    "b = np.empty([3,4], dtype=int)\n",
    "b"
   ]
  },
  {
   "cell_type": "markdown",
   "metadata": {},
   "source": [
    "## b = np.arange(start,stop,step,dtype)\n",
    "### stop is mandatory"
   ]
  },
  {
   "cell_type": "code",
   "execution_count": 13,
   "metadata": {},
   "outputs": [
    {
     "data": {
      "text/plain": [
       "array([0, 1, 2, 3, 4, 5, 6, 7, 8, 9])"
      ]
     },
     "execution_count": 13,
     "metadata": {},
     "output_type": "execute_result"
    }
   ],
   "source": [
    "b = np.arange(10)\n",
    "b"
   ]
  },
  {
   "cell_type": "code",
   "execution_count": 14,
   "metadata": {},
   "outputs": [
    {
     "data": {
      "text/plain": [
       "array([2., 4., 6., 8.])"
      ]
     },
     "execution_count": 14,
     "metadata": {},
     "output_type": "execute_result"
    }
   ],
   "source": [
    "b = np.arange(2,10,2,dtype=float)\n",
    "b"
   ]
  },
  {
   "cell_type": "markdown",
   "metadata": {},
   "source": [
    "## np.linspace(start,stop,num=50,endpoint=True,retstep=False,dtype=None,axis=0)\n",
    "\n",
    "### using linspace() we have control over no. of evenly spaced samples generated within a given range [start,stop]"
   ]
  },
  {
   "cell_type": "code",
   "execution_count": 15,
   "metadata": {},
   "outputs": [
    {
     "data": {
      "text/plain": [
       "array([ 1.        ,  1.18367347,  1.36734694,  1.55102041,  1.73469388,\n",
       "        1.91836735,  2.10204082,  2.28571429,  2.46938776,  2.65306122,\n",
       "        2.83673469,  3.02040816,  3.20408163,  3.3877551 ,  3.57142857,\n",
       "        3.75510204,  3.93877551,  4.12244898,  4.30612245,  4.48979592,\n",
       "        4.67346939,  4.85714286,  5.04081633,  5.2244898 ,  5.40816327,\n",
       "        5.59183673,  5.7755102 ,  5.95918367,  6.14285714,  6.32653061,\n",
       "        6.51020408,  6.69387755,  6.87755102,  7.06122449,  7.24489796,\n",
       "        7.42857143,  7.6122449 ,  7.79591837,  7.97959184,  8.16326531,\n",
       "        8.34693878,  8.53061224,  8.71428571,  8.89795918,  9.08163265,\n",
       "        9.26530612,  9.44897959,  9.63265306,  9.81632653, 10.        ])"
      ]
     },
     "execution_count": 15,
     "metadata": {},
     "output_type": "execute_result"
    }
   ],
   "source": [
    "b = np.linspace(1,10)\n",
    "b"
   ]
  },
  {
   "cell_type": "code",
   "execution_count": 16,
   "metadata": {},
   "outputs": [
    {
     "name": "stdout",
     "output_type": "stream",
     "text": [
      "(array([2. , 3.6, 5.2, 6.8, 8.4]), 1.6)\n"
     ]
    }
   ],
   "source": [
    "b = np.linspace(2,10, 5, retstep=True, dtype=float, endpoint=False)\n",
    "print(b)"
   ]
  },
  {
   "cell_type": "markdown",
   "metadata": {},
   "source": [
    "## np.identity()"
   ]
  },
  {
   "cell_type": "code",
   "execution_count": 17,
   "metadata": {},
   "outputs": [
    {
     "data": {
      "text/plain": [
       "array([[1., 0., 0.],\n",
       "       [0., 1., 0.],\n",
       "       [0., 0., 1.]])"
      ]
     },
     "execution_count": 17,
     "metadata": {},
     "output_type": "execute_result"
    }
   ],
   "source": [
    "b = np.identity(3)\n",
    "b"
   ]
  },
  {
   "cell_type": "markdown",
   "metadata": {},
   "source": [
    "## np.eye()"
   ]
  },
  {
   "cell_type": "code",
   "execution_count": 18,
   "metadata": {},
   "outputs": [
    {
     "data": {
      "text/plain": [
       "array([[1., 0., 0.],\n",
       "       [0., 1., 0.],\n",
       "       [0., 0., 1.]])"
      ]
     },
     "execution_count": 18,
     "metadata": {},
     "output_type": "execute_result"
    }
   ],
   "source": [
    "b = np.eye(3)\n",
    "b"
   ]
  },
  {
   "cell_type": "code",
   "execution_count": 19,
   "metadata": {},
   "outputs": [
    {
     "name": "stdout",
     "output_type": "stream",
     "text": [
      "[[1. 0. 0. 0.]\n",
      " [0. 1. 0. 0.]\n",
      " [0. 0. 1. 0.]]\n"
     ]
    }
   ],
   "source": [
    "b = np.eye(3,4)\n",
    "print(b)"
   ]
  },
  {
   "cell_type": "markdown",
   "metadata": {},
   "source": [
    "##  np.random.rand()"
   ]
  },
  {
   "cell_type": "code",
   "execution_count": 20,
   "metadata": {},
   "outputs": [
    {
     "name": "stdout",
     "output_type": "stream",
     "text": [
      "[0.50128529 0.02479087 0.00837066 0.90885279 0.80216846 0.40897982\n",
      " 0.88830036 0.17754816 0.10719949 0.11555546]\n"
     ]
    }
   ],
   "source": [
    "# everytime you execute it returns random values\n",
    "b = np.random.rand(10)\n",
    "print(b)"
   ]
  },
  {
   "cell_type": "code",
   "execution_count": 21,
   "metadata": {},
   "outputs": [
    {
     "name": "stdout",
     "output_type": "stream",
     "text": [
      "[7.35588208 7.97160293 1.03531516 2.08292395 3.62170985 0.19614556\n",
      " 4.77223539 8.73829012 6.98482808 2.61683972]\n"
     ]
    }
   ],
   "source": [
    "# To get values in range 0-10 we multiply each element by 10\n",
    "b = np.random.rand(10)*10\n",
    "print(b)"
   ]
  },
  {
   "cell_type": "code",
   "execution_count": 22,
   "metadata": {},
   "outputs": [
    {
     "name": "stdout",
     "output_type": "stream",
     "text": [
      "[[0.26606221 0.54700709 0.87319506]\n",
      " [0.88482576 0.44822137 0.63772716]]\n"
     ]
    }
   ],
   "source": [
    "# For 2d \n",
    "b = np.random.rand(2,3) # here 2,3 is not in form of tuple\n",
    "print(b)"
   ]
  },
  {
   "cell_type": "markdown",
   "metadata": {},
   "source": [
    "## np.random.randint(low, high, size=None, dtype=int)"
   ]
  },
  {
   "cell_type": "code",
   "execution_count": 23,
   "metadata": {},
   "outputs": [
    {
     "name": "stdout",
     "output_type": "stream",
     "text": [
      "[6 9 3]\n"
     ]
    }
   ],
   "source": [
    "b = np.random.randint(1,10, size=3)\n",
    "print(b)"
   ]
  },
  {
   "cell_type": "code",
   "execution_count": 24,
   "metadata": {},
   "outputs": [
    {
     "name": "stdout",
     "output_type": "stream",
     "text": [
      "[[0 4 2 4]\n",
      " [2 1 0 3]]\n"
     ]
    }
   ],
   "source": [
    "b = np.random.randint(5, size=(2,4))\n",
    "print(b)"
   ]
  },
  {
   "cell_type": "code",
   "execution_count": 25,
   "metadata": {},
   "outputs": [
    {
     "name": "stdout",
     "output_type": "stream",
     "text": [
      "[8 9 8]\n"
     ]
    }
   ],
   "source": [
    "b = np.random.randint([1,9,7],10, size=3)\n",
    "print(b)"
   ]
  },
  {
   "cell_type": "markdown",
   "metadata": {},
   "source": [
    "##  Slicing and Indexing"
   ]
  },
  {
   "cell_type": "code",
   "execution_count": 26,
   "metadata": {},
   "outputs": [
    {
     "name": "stdout",
     "output_type": "stream",
     "text": [
      "[1, 2, 3, 4, 5]\n",
      "[ 4  3 16  8  5]\n",
      "[ 4  3 16]\n",
      "16\n"
     ]
    }
   ],
   "source": [
    "li = [1,2,3,4,5]\n",
    "a = np.random.randint(1,20,5)\n",
    "print(li)\n",
    "print(a)\n",
    "print(a[:3])\n",
    "print(a[2])"
   ]
  },
  {
   "cell_type": "code",
   "execution_count": 27,
   "metadata": {},
   "outputs": [
    {
     "name": "stdout",
     "output_type": "stream",
     "text": [
      "[[1, 2, 3, 4], [5, 6, 7, 8], [9, 10, 11, 12], [13, 14, 15, 16], [17, 18, 19, 20]]\n",
      "[[ 1  2  3  4]\n",
      " [ 5  6  7  8]\n",
      " [ 9 10 11 12]\n",
      " [13 14 15 16]\n",
      " [17 18 19 20]]\n"
     ]
    }
   ],
   "source": [
    "li_2d = [[j for j in range(i*4+1, i*4+5)] for i in range(5)]\n",
    "print(li_2d)\n",
    "arr_2d = np.array(li_2d)\n",
    "print(arr_2d)"
   ]
  },
  {
   "cell_type": "code",
   "execution_count": 28,
   "metadata": {},
   "outputs": [
    {
     "name": "stdout",
     "output_type": "stream",
     "text": [
      "[ 3  7 11]\n",
      "[9, 10, 11, 12]\n"
     ]
    }
   ],
   "source": [
    "print(arr_2d[:3, 2])\n",
    "print(li_2d[:3][2])"
   ]
  },
  {
   "cell_type": "markdown",
   "metadata": {},
   "source": [
    "##  Mathematical operations"
   ]
  },
  {
   "cell_type": "code",
   "execution_count": 29,
   "metadata": {},
   "outputs": [
    {
     "name": "stdout",
     "output_type": "stream",
     "text": [
      "[1, 2, 3, 4, 5]\n",
      "[ 2 19  6 11 14]\n",
      "[15 13 18 18 19]\n"
     ]
    }
   ],
   "source": [
    "li = [1,2,3,4,5]\n",
    "a = np.random.randint(1,20,5)\n",
    "b = np.random.randint(1,20,size=5)\n",
    "print(li)\n",
    "print(a)\n",
    "print(b)"
   ]
  },
  {
   "cell_type": "code",
   "execution_count": 30,
   "metadata": {},
   "outputs": [
    {
     "name": "stdout",
     "output_type": "stream",
     "text": [
      "[2, 3, 4, 5, 6]\n",
      "[ 3 20  7 12 15]\n"
     ]
    }
   ],
   "source": [
    "# Add 1 to every element\n",
    "li = [1+i for i in li] # in case of list\n",
    "print(li)\n",
    "\n",
    "a = a+1 # in case of numpy array\n",
    "print(a)"
   ]
  },
  {
   "cell_type": "code",
   "execution_count": 31,
   "metadata": {},
   "outputs": [
    {
     "name": "stdout",
     "output_type": "stream",
     "text": [
      "[0 1 2 3 4]\n",
      "[0 1 0 3 4]\n",
      "[0 0 2 0 0]\n",
      "[ 0  1  0  9 16]\n",
      "[nan  1. inf  1.  1.]\n",
      "[0 1 0 1 1]\n",
      "[  1   1   1  27 256]\n"
     ]
    },
    {
     "name": "stderr",
     "output_type": "stream",
     "text": [
      "c:\\users\\mehak\\appdata\\local\\programs\\python\\python37-32\\lib\\site-packages\\ipykernel_launcher.py:6: RuntimeWarning: divide by zero encountered in true_divide\n",
      "  \n",
      "c:\\users\\mehak\\appdata\\local\\programs\\python\\python37-32\\lib\\site-packages\\ipykernel_launcher.py:6: RuntimeWarning: invalid value encountered in true_divide\n",
      "  \n",
      "c:\\users\\mehak\\appdata\\local\\programs\\python\\python37-32\\lib\\site-packages\\ipykernel_launcher.py:7: RuntimeWarning: divide by zero encountered in floor_divide\n",
      "  import sys\n"
     ]
    }
   ],
   "source": [
    "a = np.array([0,1,2,3,4])\n",
    "b = np.array([0,1,0,3,4])\n",
    "# Other mathematical opertions\n",
    "d = a-b\n",
    "e = a*b\n",
    "f = a/b\n",
    "g = a//b\n",
    "h = a**b\n",
    "\n",
    "print(a,b, d, e, f, g, h, sep=\"\\n\")"
   ]
  },
  {
   "cell_type": "code",
   "execution_count": 32,
   "metadata": {},
   "outputs": [
    {
     "name": "stdout",
     "output_type": "stream",
     "text": [
      "[0 1 2 3 4]\n",
      "10\n",
      "2.0\n",
      "0\n",
      "0\n",
      "4\n",
      "4\n"
     ]
    }
   ],
   "source": [
    "print(a)\n",
    "print(a.sum())\n",
    "print(a.mean())\n",
    "print(a.min())\n",
    "print(a.argmin())#min element index\n",
    "print(a.max())\n",
    "print(a.argmax())# max ele index"
   ]
  },
  {
   "cell_type": "markdown",
   "metadata": {},
   "source": [
    "## Relational and logical operators"
   ]
  },
  {
   "cell_type": "code",
   "execution_count": 33,
   "metadata": {},
   "outputs": [
    {
     "name": "stdout",
     "output_type": "stream",
     "text": [
      "[ True False False False False]\n",
      "[False False False False False]\n",
      "[ True  True  True  True  True]\n",
      "[ True  True  True  True  True]\n",
      "[False False False False False]\n"
     ]
    }
   ],
   "source": [
    "a = np.array([7,16,14,20,24])\n",
    "b = np.array([12,11,11,4,16])\n",
    "\n",
    "print(a<b)\n",
    "print(a==b)\n",
    "\n",
    "# logical operators\n",
    "print(np.logical_and(a,b))\n",
    "print(np.logical_or(a,b))\n",
    "print(np.logical_not(a))"
   ]
  },
  {
   "cell_type": "markdown",
   "metadata": {},
   "source": [
    "##  Mathematical operations for 2-d array"
   ]
  },
  {
   "cell_type": "code",
   "execution_count": 34,
   "metadata": {},
   "outputs": [
    {
     "name": "stdout",
     "output_type": "stream",
     "text": [
      "[[1 2 3 4]\n",
      " [5 6 7 8]]\n",
      "[[13 14 15 16]\n",
      " [17 18 19 20]]\n"
     ]
    }
   ],
   "source": [
    "a = np.array([[1,2,3,4], [5,6,7,8]])\n",
    "b = np.array([[13,14,15,16], [17,18,19,20]])\n",
    "print(a)\n",
    "print(b)"
   ]
  },
  {
   "cell_type": "code",
   "execution_count": 35,
   "metadata": {},
   "outputs": [
    {
     "name": "stdout",
     "output_type": "stream",
     "text": [
      "[[2 3 4 5]\n",
      " [6 7 8 9]]\n",
      "[[26 28 30 32]\n",
      " [34 36 38 40]]\n"
     ]
    }
   ],
   "source": [
    "print(a+1)\n",
    "print(b*2)"
   ]
  },
  {
   "cell_type": "code",
   "execution_count": 36,
   "metadata": {},
   "outputs": [
    {
     "name": "stdout",
     "output_type": "stream",
     "text": [
      "[[1 2 3 4]\n",
      " [5 6 7 8]]\n",
      "[[13 14 15 16]\n",
      " [17 18 19 20]]\n",
      "[[-12 -12 -12 -12]\n",
      " [-12 -12 -12 -12]]\n",
      "[[ 13  28  45  64]\n",
      " [ 85 108 133 160]]\n",
      "[[0.07692308 0.14285714 0.2        0.25      ]\n",
      " [0.29411765 0.33333333 0.36842105 0.4       ]]\n",
      "[[0 0 0 0]\n",
      " [0 0 0 0]]\n",
      "[[          1       16384    14348907           0]\n",
      " [-1564725563  1159987200   442181591           0]]\n"
     ]
    }
   ],
   "source": [
    "# Other mathematical opertions\n",
    "d = a-b\n",
    "e = a*b\n",
    "f = a/b\n",
    "g = a//b\n",
    "h = a**b\n",
    "\n",
    "print(a,b, d, e, f, g, h, sep=\"\\n\")"
   ]
  },
  {
   "cell_type": "code",
   "execution_count": 37,
   "metadata": {},
   "outputs": [
    {
     "name": "stdout",
     "output_type": "stream",
     "text": [
      "[[1 2 3 4]\n",
      " [5 6 7 8]]\n",
      "[1 2 3 4]\n",
      "[[ 1  4  9 16]\n",
      " [ 5 12 21 32]]\n"
     ]
    }
   ],
   "source": [
    "c = np.array([1,2,3,4])\n",
    "print(a,c,sep=\"\\n\")\n",
    "print(a*c)"
   ]
  },
  {
   "cell_type": "code",
   "execution_count": 38,
   "metadata": {},
   "outputs": [
    {
     "name": "stdout",
     "output_type": "stream",
     "text": [
      "[[1 2 3 4]\n",
      " [5 6 7 8]]\n",
      "36\n",
      "4.5\n",
      "1\n",
      "0\n",
      "8\n",
      "7\n",
      "(2, 4)\n"
     ]
    }
   ],
   "source": [
    "print(a)\n",
    "print(a.sum())\n",
    "print(a.mean())\n",
    "print(a.min())\n",
    "print(a.argmin())#min element index\n",
    "print(a.max())\n",
    "print(a.argmax())# max ele index\n",
    "print(a.shape)"
   ]
  },
  {
   "cell_type": "markdown",
   "metadata": {},
   "source": [
    "##  Boolean 1-d indexing"
   ]
  },
  {
   "cell_type": "code",
   "execution_count": 39,
   "metadata": {},
   "outputs": [
    {
     "name": "stdout",
     "output_type": "stream",
     "text": [
      "[[13 14 15 16]\n",
      " [17 18 19 20]]\n",
      "[15 16 17 18]\n"
     ]
    }
   ],
   "source": [
    "print(b)\n",
    "new_arr = b[(b>14) & (b<19)]\n",
    "print(new_arr)"
   ]
  },
  {
   "cell_type": "code",
   "execution_count": 40,
   "metadata": {},
   "outputs": [
    {
     "name": "stdout",
     "output_type": "stream",
     "text": [
      "[100 100 100   3 100 100   3   5]\n"
     ]
    }
   ],
   "source": [
    "c = np.array([14, 12, 7, 3, 19, 19, 3, 5])\n",
    "c[:3] = 19\n",
    "c[c>15] = 100\n",
    "print(c)"
   ]
  },
  {
   "cell_type": "markdown",
   "metadata": {},
   "source": [
    "## np.where()"
   ]
  },
  {
   "cell_type": "code",
   "execution_count": 41,
   "metadata": {},
   "outputs": [
    {
     "name": "stdout",
     "output_type": "stream",
     "text": [
      "['t' 'b' 'r' 'd' 'e' 'f' 'z' 'a']\n",
      "[100 100 100   3 100 100   3   5]\n",
      "(array([0, 1, 2, 4, 5], dtype=int32),)\n",
      "['t' 'b' 'r' 'e' 'f']\n",
      "['t' 'b' 'r' 'e' 'f']\n"
     ]
    }
   ],
   "source": [
    "a = np.array(['t','b','r','d','e','f','z','a'])\n",
    "b = np.array([100, 100, 100, 3, 100, 100, 3, 5])\n",
    "print(a)\n",
    "print(b)\n",
    "ind = np.where(b==100) # (array([0, 1, 2, 4, 5], dtype=int32),)  \n",
    "print(ind)\n",
    "print(a[ind])\n",
    "print(a[b==100])"
   ]
  },
  {
   "cell_type": "markdown",
   "metadata": {},
   "source": [
    "## Boolean-Indexing 2D array"
   ]
  },
  {
   "cell_type": "code",
   "execution_count": 42,
   "metadata": {},
   "outputs": [
    {
     "name": "stdout",
     "output_type": "stream",
     "text": [
      "[[24 13 11 27 14 19]\n",
      " [15 28  2 16  2  5]\n",
      " [17 21 20  5 23 19]\n",
      " [12 27 11 29 17 10]\n",
      " [10 23  8  8  2 23]]\n"
     ]
    }
   ],
   "source": [
    "arr = np.random.randint(1,30,(5,6))\n",
    "print(arr)"
   ]
  },
  {
   "cell_type": "code",
   "execution_count": 43,
   "metadata": {},
   "outputs": [
    {
     "name": "stdout",
     "output_type": "stream",
     "text": [
      "[[100  13  11 100  14  19]\n",
      " [ 15 100   2  16   2   5]\n",
      " [ 17 100  20   5 100  19]\n",
      " [ 12 100  11 100  17  10]\n",
      " [ 10 100   8   8   2 100]]\n"
     ]
    }
   ],
   "source": [
    "bool_arr = arr>20\n",
    "arr[bool_arr] = 100\n",
    "print(arr)"
   ]
  },
  {
   "cell_type": "code",
   "execution_count": 44,
   "metadata": {},
   "outputs": [
    {
     "name": "stdout",
     "output_type": "stream",
     "text": [
      "[ True False False  True False]\n",
      "[[100  13  11  99  14  19]\n",
      " [ 15 100   2  16   2   5]\n",
      " [ 17 100  20   5 100  19]\n",
      " [ 12 100  11  99  17  10]\n",
      " [ 10 100   8   8   2 100]]\n"
     ]
    }
   ],
   "source": [
    "# Update column 3 of arr where 100 is present\n",
    "bool_arr = arr[:, 3]==100\n",
    "print(bool_arr)\n",
    "arr[bool_arr, 3] = 99\n",
    "print(arr)"
   ]
  },
  {
   "cell_type": "markdown",
   "metadata": {},
   "source": [
    "## \tnumpy.sort(array, axis=-1, kind='quicksort', order=None)"
   ]
  },
  {
   "cell_type": "markdown",
   "metadata": {},
   "source": [
    "If we don’t provide any value for ‘axis’ parameter then its default value is -1 i.e. it sort along the last axis which in 2D array is 1"
   ]
  },
  {
   "cell_type": "code",
   "execution_count": 45,
   "metadata": {},
   "outputs": [
    {
     "name": "stdout",
     "output_type": "stream",
     "text": [
      "[[ 8  7  1  2]\n",
      " [ 3  2  3  1]\n",
      " [29 32 11  9]]\n",
      "[[ 1  2  7  8]\n",
      " [ 1  2  3  3]\n",
      " [ 9 11 29 32]]\n",
      "[[ 3  2  1  1]\n",
      " [ 8  7  3  2]\n",
      " [29 32 11  9]]\n"
     ]
    }
   ],
   "source": [
    "# Create a 2D Numpy array list of list\n",
    "arr_2d = np.array([[8, 7, 1, 2], [3, 2, 3, 1], [29, 32, 11, 9]])\n",
    "print(arr_2d)\n",
    "\n",
    "sort_by_row = np.sort(arr_2d, 1) # axis = 1 for rows\n",
    "print(sort_by_row)\n",
    "\n",
    "sort_by_col = np.sort(arr_2d, 0) # axis = 0 for column-wise\n",
    "print(sort_by_col)"
   ]
  },
  {
   "cell_type": "code",
   "execution_count": 46,
   "metadata": {},
   "outputs": [
    {
     "name": "stdout",
     "output_type": "stream",
     "text": [
      "[[21 20 19 18 17]\n",
      " [16 15 14 13 12]\n",
      " [11 10  9  8  7]\n",
      " [ 6  5  4  3  2]]\n",
      "[[ 6  5  4  3  2]\n",
      " [11 10  9  8  7]\n",
      " [16 15 14 13 12]\n",
      " [21 20 19 18 17]]\n"
     ]
    }
   ],
   "source": [
    "# Create a 2D Numpy array list of list\n",
    "arr_2d = np.array([[21,20,19,18,17], [16,15,14,13,12], [11,10, 9, 8, 7], [6, 5, 4, 3, 2]])\n",
    "print(arr_2d)\n",
    "\n",
    "sort_by_col = np.sort(arr_2d, axis=0) # axis = 0 for column wise sorting\n",
    "print(sort_by_col)"
   ]
  },
  {
   "cell_type": "code",
   "execution_count": 5,
   "metadata": {},
   "outputs": [
    {
     "name": "stdout",
     "output_type": "stream",
     "text": [
      "1167.0\n",
      "51372.0\n"
     ]
    }
   ],
   "source": [
    "import numpy as np\n",
    "import csv\n",
    "\n",
    "file_obj = open('C:/PYTHON/DataScience_Ninza/DataScience-and-ML/Datasets/year2017.csv')\n",
    "data = csv.DictReader(file_obj, skipinitialspace=True)\n",
    "\n",
    "killed=[]\n",
    "country=[]\n",
    "wounded=[]\n",
    "for row in data:\n",
    "    killed.append(row['Killed'])\n",
    "    wounded.append(row['Wounded'])\n",
    "    country.append(row['Country'])\n",
    "\n",
    "np_killed = np.array(killed)\n",
    "np_wounded = np.array(wounded)\n",
    "\n",
    "np_killed[np_killed==''] = '0.0'\n",
    "np_wounded[np_wounded==''] = '0.0'\n",
    "\n",
    "np_killed = np.array(np_killed, dtype=float)\n",
    "np_wounded = np.array(np_wounded, dtype=float)\n",
    "\n",
    "killed_wounded = np_killed+np_wounded\n",
    "np_country = np.array(country)\n",
    "\n",
    "bool_array = np_country=='India'\n",
    "ans = killed_wounded[bool_array]\n",
    "\n",
    "print(np.sum(ans)) # killed+wounded for India\n",
    "print(np.sum(killed_wounded)) # Total killed+wounded"
   ]
  },
  {
   "cell_type": "code",
   "execution_count": null,
   "metadata": {},
   "outputs": [],
   "source": []
  },
  {
   "cell_type": "code",
   "execution_count": null,
   "metadata": {},
   "outputs": [],
   "source": []
  }
 ],
 "metadata": {
  "kernelspec": {
   "display_name": "Python 3",
   "language": "python",
   "name": "python3"
  },
  "language_info": {
   "codemirror_mode": {
    "name": "ipython",
    "version": 3
   },
   "file_extension": ".py",
   "mimetype": "text/x-python",
   "name": "python",
   "nbconvert_exporter": "python",
   "pygments_lexer": "ipython3",
   "version": "3.7.3"
  }
 },
 "nbformat": 4,
 "nbformat_minor": 2
}
