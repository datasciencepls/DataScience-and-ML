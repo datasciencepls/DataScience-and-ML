{
 "cells": [
  {
   "cell_type": "code",
   "execution_count": 36,
   "metadata": {},
   "outputs": [
    {
     "data": {
      "text/plain": [
       "<selenium.webdriver.chrome.webdriver.WebDriver (session=\"33054681d525913df366bd3762afba5d\")>"
      ]
     },
     "execution_count": 36,
     "metadata": {},
     "output_type": "execute_result"
    }
   ],
   "source": [
    "path = 'C:/Users/mehak/Downloads/chromedriver'\n",
    "from selenium import webdriver\n",
    "driver = webdriver.Chrome(executable_path = path)\n",
    "driver"
   ]
  },
  {
   "cell_type": "markdown",
   "metadata": {},
   "source": [
    "### Search for gaming laptops"
   ]
  },
  {
   "cell_type": "code",
   "execution_count": 12,
   "metadata": {},
   "outputs": [],
   "source": [
    "driver.get('https://www.dell.com/en-in')"
   ]
  },
  {
   "cell_type": "markdown",
   "metadata": {},
   "source": [
    "### Implicit Wait"
   ]
  },
  {
   "cell_type": "code",
   "execution_count": 9,
   "metadata": {},
   "outputs": [],
   "source": [
    "text_box = driver.find_element_by_class_name('mh-search-input')\n",
    "text_box.send_keys(\"Gaming laptops\")\n",
    "search_btn = driver.find_element_by_xpath('//button[contains(@class,\"mh-search-btn\")]')\n",
    "search_btn.click()\n",
    "driver.implicitly_wait(10); # Implicit wait for 10 seconds \n",
    "lap1 = driver.find_element_by_id('systems-image3') #If we don't use wait we get NoSuchElementException, bcz page is not loaded yet where laptop is present\n",
    "lap1.click()"
   ]
  },
  {
   "cell_type": "markdown",
   "metadata": {},
   "source": [
    "### Explicit Wait"
   ]
  },
  {
   "cell_type": "code",
   "execution_count": 14,
   "metadata": {},
   "outputs": [],
   "source": [
    "from selenium.webdriver.support.ui import WebDriverWait\n",
    "from selenium.webdriver.support import expected_conditions as EC\n",
    "from selenium.webdriver.common.by import By\n",
    "\n",
    "text_box = driver.find_element_by_class_name('mh-search-input')\n",
    "text_box.send_keys(\"Gaming laptops\")\n",
    "search_btn = driver.find_element_by_xpath('//button[contains(@class,\"mh-search-btn\")]')\n",
    "search_btn.click()\n",
    "\n",
    "wait = WebDriverWait(driver,10) # 10 is the upper limit\n",
    "lap1 = wait.until(EC.presence_of_element_located( (By.XPATH, '//a[@id=\"systems-image3\"]') ))\n",
    "lap1.click()"
   ]
  },
  {
   "cell_type": "markdown",
   "metadata": {},
   "source": [
    "### Open https://www.quora.com/\n",
    "### Search ‘Avengers’ and find the first 100 questions that are displayed as results."
   ]
  },
  {
   "cell_type": "code",
   "execution_count": 19,
   "metadata": {},
   "outputs": [],
   "source": [
    "driver.get('https://www.quora.com/')"
   ]
  },
  {
   "cell_type": "code",
   "execution_count": 20,
   "metadata": {},
   "outputs": [],
   "source": [
    "search_box = driver.find_element_by_xpath('//input[contains(@class,\"q-input\")]')\n",
    "search_box.send_keys('Avengers')"
   ]
  },
  {
   "cell_type": "code",
   "execution_count": 21,
   "metadata": {},
   "outputs": [],
   "source": [
    "search_box.send_keys(u'\\ue007') #press enter"
   ]
  },
  {
   "cell_type": "code",
   "execution_count": 27,
   "metadata": {},
   "outputs": [],
   "source": [
    "import time\n",
    "currentHeight = driver.execute_script('return document.body.scrollHeight;')\n",
    "while True:\n",
    "    driver.execute_script('window.scrollTo(0,arguments[0]);',currentHeight)\n",
    "    time.sleep(3) # wait for 3 seconds to load next questions\n",
    "    nextHeight = driver.execute_script('return document.body.scrollHeight;')\n",
    "    li = driver.find_elements_by_class_name('ui_qtext_rendered_qtext')\n",
    "    if len(li)>=100:\n",
    "        break\n",
    "    currentHeight = nextHeight"
   ]
  },
  {
   "cell_type": "code",
   "execution_count": 28,
   "metadata": {},
   "outputs": [
    {
     "name": "stdout",
     "output_type": "stream",
     "text": [
      "1) :  What is something you noticed in Avengers: Endgame that you believe others have missed?\n",
      "                  --------------------                -----------------             --------------\n",
      "2) :  Who would win in a fight between the Avengers and the Justice League?\n",
      "                  --------------------                -----------------             --------------\n",
      "3) :  Is Avengers: Endgame the last Avengers movie?\n",
      "                  --------------------                -----------------             --------------\n",
      "4) :  What are your predictions for what will happen in Avengers 4?\n",
      "                  --------------------                -----------------             --------------\n",
      "5) :  What is the best site to Download Avengers: Infinity War in HD?\n",
      "                  --------------------                -----------------             --------------\n",
      "6) :  What is your review of Avengers: Endgame (2019 movie)?\n",
      "                  --------------------                -----------------             --------------\n",
      "7) :  What did you hate about Avengers: Endgame?\n",
      "                  --------------------                -----------------             --------------\n",
      "8) :  What is your review of Avengers: Infinity War (2018 movie)?\n",
      "                  --------------------                -----------------             --------------\n",
      "9) :  Who will die in Avengers: Endgame?\n",
      "                  --------------------                -----------------             --------------\n",
      "10) :  What movie is better, Avengers: Endgame or Avengers: Infinity War?\n",
      "                  --------------------                -----------------             --------------\n",
      "11) :  What would you like to see happen in Avengers: Endgame?\n",
      "                  --------------------                -----------------             --------------\n",
      "12) :  What is your review of the first Avengers: Endgame movie trailer (December 2018)?\n",
      "                  --------------------                -----------------             --------------\n",
      "13) :  Is Tony Stark (Iron Man) going to die in Avengers: Endgame?\n",
      "                  --------------------                -----------------             --------------\n",
      "14) :  Who is the powerful hero in Avengers?\n",
      "                  --------------------                -----------------             --------------\n",
      "15) :  Who died in Avengers: Infinity War?\n",
      "                  --------------------                -----------------             --------------\n",
      "16) :  What is something you noticed in Avengers: Infinity War that you believe others have missed?\n",
      "                  --------------------                -----------------             --------------\n",
      "17) :  Who is the most powerful in the Avengers: Endgame?\n",
      "                  --------------------                -----------------             --------------\n",
      "18) :  What is your biggest complaint about Avengers: Infinity War (2018 movie)?\n",
      "                  --------------------                -----------------             --------------\n",
      "19) :  How are the <span class=\"matched_term\">avengers</span> supposed to defeat Thanos?\n",
      "                  --------------------                -----------------             --------------\n",
      "20) :  What was an underrated scene in Avengers: Endgame?\n",
      "                  --------------------                -----------------             --------------\n",
      "21) :  SPOILER: What was your favorite moment in Avengers: Endgame that others might have missed?\n",
      "                  --------------------                -----------------             --------------\n",
      "22) :  Which of the Avengers do you think might die in the Infinity War movies?\n",
      "                  --------------------                -----------------             --------------\n",
      "23) :  Why couldn’t Steve Rogers lift Mjölnir in <i>Avengers: Age of Ultron</i>?\n",
      "                  --------------------                -----------------             --------------\n",
      "24) :  What is your favorite scene in Avengers: Infinity War?\n",
      "                  --------------------                -----------------             --------------\n",
      "25) :  What happens in the Marvel Cinematic Universe (MCU) after Avengers: Endgame?\n",
      "                  --------------------                -----------------             --------------\n",
      "26) :  Who's stronger in Avengers?\n",
      "                  --------------------                -----------------             --------------\n",
      "27) :  What was one thing you wish was done differently in Avengers: Endgame?\n",
      "                  --------------------                -----------------             --------------\n",
      "28) :  How was Scarlet Witch able to defend herself against the mighty Thanos when the other Avengers couldn't in Avengers: Infinity War?\n",
      "                  --------------------                -----------------             --------------\n",
      "29) :  What films do I need to watch to best understand and appreciate Avengers: Infinity War?\n",
      "                  --------------------                -----------------             --------------\n",
      "30) :  Which part of Marvel’s Avengers: Endgame did you like the most?\n",
      "                  --------------------                -----------------             --------------\n",
      "31) :  Which funny scene in Avengers: Infinity War is your favorite?\n",
      "                  --------------------                -----------------             --------------\n",
      "32) :  Are the Avengers finished?\n",
      "                  --------------------                -----------------             --------------\n",
      "33) :  After the conclusion of Avengers endgame, who are the top 5 powerful Avengers in the MCU?\n",
      "                  --------------------                -----------------             --------------\n",
      "34) :  Where can I watch Avengers: Infinity War online in HD?\n",
      "                  --------------------                -----------------             --------------\n",
      "35) :  What one thing or scene do you want to see in Avengers: Infinity War?\n",
      "                  --------------------                -----------------             --------------\n",
      "36) :  What was the most shocking moment in Avengers: Endgame for you?\n",
      "                  --------------------                -----------------             --------------\n",
      "37) :  What is the title of Avengers 4?\n",
      "                  --------------------                -----------------             --------------\n",
      "38) :  How many more Avengers movies will there be ever?\n",
      "                  --------------------                -----------------             --------------\n",
      "39) :  Why is Thor weak in Endgame?\n",
      "                  --------------------                -----------------             --------------\n",
      "40) :  Who can kill Thanos in Avengers: Endgame?\n",
      "                  --------------------                -----------------             --------------\n",
      "41) :  Will Avengers: Endgame beat Avatar's box office?\n",
      "                  --------------------                -----------------             --------------\n",
      "42) :  If the Avengers had an Indian star cast, who do you think would play the important roles?\n",
      "                  --------------------                -----------------             --------------\n",
      "43) :  After Avengers: Endgame, what will the next Avengers movie be?\n",
      "                  --------------------                -----------------             --------------\n",
      "44) :  Who were the Avengers?\n",
      "                  --------------------                -----------------             --------------\n",
      "45) :  What in Avengers: Endgame didn't make any sense to you?\n",
      "                  --------------------                -----------------             --------------\n",
      "46) :  Is Avengers: Endgame overrated?\n",
      "                  --------------------                -----------------             --------------\n",
      "47) :  Do you agree with Thanos' ideology in Avengers: Infinity War?\n",
      "                  --------------------                -----------------             --------------\n",
      "48) :  Will Loki be revived in Avengers: Endgame?\n",
      "                  --------------------                -----------------             --------------\n",
      "49) :  What were your favorite lines from The Avengers?\n",
      "                  --------------------                -----------------             --------------\n",
      "50) :  Will Avengers: Endgame be a good film?\n",
      "                  --------------------                -----------------             --------------\n",
      "51) :  Will Thanos die in Avengers: Endgame?\n",
      "                  --------------------                -----------------             --------------\n",
      "52) :  Do you think Avengers: Endgame will be the final Avengers film?\n",
      "                  --------------------                -----------------             --------------\n",
      "53) :  Why is Thor fat in Avengers: Endgame?\n",
      "                  --------------------                -----------------             --------------\n",
      "54) :  What were some plotholes you noticed in Avengers: Endgame?\n",
      "                  --------------------                -----------------             --------------\n",
      "55) :  In the Marvel comics, which would win, the X-Men or the Avengers?\n",
      "                  --------------------                -----------------             --------------\n",
      "56) :  If you could add 2 minutes to Avengers: Endgame, what would those minutes contain?\n",
      "                  --------------------                -----------------             --------------\n",
      "57) :  What do you think the best <span class=\"matched_term\">Avenger’s</span> movie is?\n",
      "                  --------------------                -----------------             --------------\n",
      "58) :  How will the dead Avengers return in Avengers: Endgame?\n",
      "                  --------------------                -----------------             --------------\n",
      "59) :  Will Iron Man die in Avengers: Infinity War?\n",
      "                  --------------------                -----------------             --------------\n",
      "60) :  What is the ending explanation of Avengers Infinity War?\n",
      "                  --------------------                -----------------             --------------\n",
      "61) :  Who will be the main members of the MCU Avengers after Avengers: Endgame?\n",
      "                  --------------------                -----------------             --------------\n",
      "62) :  Do all the Avengers die in Avengers: Infinity War?\n",
      "                  --------------------                -----------------             --------------\n"
     ]
    },
    {
     "name": "stdout",
     "output_type": "stream",
     "text": [
      "63) :  What is the order of the Avengers movies?\n",
      "                  --------------------                -----------------             --------------\n",
      "64) :  Who is your favorite character in Avengers: Endgame (2019 movie)?\n",
      "                  --------------------                -----------------             --------------\n",
      "65) :  What are some of the incredible moments in Avengers Endgame movie?\n",
      "                  --------------------                -----------------             --------------\n",
      "66) :  Why wasn't Batman in The Avengers?\n",
      "                  --------------------                -----------------             --------------\n",
      "67) :  Do you think Avengers: Endgame will become the highest grossing film of all time?\n",
      "                  --------------------                -----------------             --------------\n",
      "68) :  How do you think Avengers: Endgame will end?\n",
      "                  --------------------                -----------------             --------------\n",
      "69) :  Why is the Hulk so small in The Avengers movies?\n",
      "                  --------------------                -----------------             --------------\n",
      "70) :  Who is Noobmaster69 from Avengers Endgame?\n",
      "                  --------------------                -----------------             --------------\n",
      "71) :  Who do you think are going to be the new Avengers?\n",
      "                  --------------------                -----------------             --------------\n",
      "72) :  Why didn't Vision appear in Avengers: Endgame?\n",
      "                  --------------------                -----------------             --------------\n",
      "73) :  SPOILER ALERT: Which character’s death in Avengers: Infinity War moved you the most emotionally?\n",
      "                  --------------------                -----------------             --------------\n",
      "74) :  What are the spoilers for Avengers: Endgame?\n",
      "                  --------------------                -----------------             --------------\n",
      "75) :  Which original Avengers will you miss the most after Avengers: Endgame?\n",
      "                  --------------------                -----------------             --------------\n",
      "76) :  What disappointed you about Avengers: Endgame?\n",
      "                  --------------------                -----------------             --------------\n",
      "77) :  What if Batman crashes into The Avengers?\n",
      "                  --------------------                -----------------             --------------\n",
      "78) :  What would be the perfect post-credit scene for Avengers: Endgame?\n",
      "                  --------------------                -----------------             --------------\n",
      "79) :  What is the story of the movie \"Avengers: Endgame\"?\n",
      "                  --------------------                -----------------             --------------\n",
      "80) :  Who is the most awesome <span class=\"matched_term\">Avenger</span>?\n",
      "                  --------------------                -----------------             --------------\n",
      "81) :  If Quorans were The Avengers, who would they be?\n",
      "                  --------------------                -----------------             --------------\n",
      "82) :  In Avengers: Endgame, why didn't anyone allow Thor to wield the new Infinity Gauntlet?\n",
      "                  --------------------                -----------------             --------------\n",
      "83) :  What are your top 10 memorable scenes from Avengers: Endgame?\n",
      "                  --------------------                -----------------             --------------\n",
      "84) :  What makes Captain America stand out among the Avengers?\n",
      "                  --------------------                -----------------             --------------\n",
      "85) :  What is your review of the first Avengers: Infinity War teaser trailer?\n",
      "                  --------------------                -----------------             --------------\n",
      "86) :  Why was Thanos crying when he won the battle? What was he sad about in Avengers: Infinity War?\n",
      "                  --------------------                -----------------             --------------\n",
      "87) :  Were there any major plot holes in Avengers: Infinity War?\n",
      "                  --------------------                -----------------             --------------\n",
      "88) :  What do you think Avengers 4 will be called? What would you like it to be called?\n",
      "                  --------------------                -----------------             --------------\n",
      "89) :  What is your reaction after watching <span class=\"matched_term\">‘Avengers</span>: End game’ movie trailer (March 2019)?\n",
      "                  --------------------                -----------------             --------------\n",
      "90) :  Why is “Captain America: Civil War” a “Captain America” film rather than an “Avengers” film?\n",
      "                  --------------------                -----------------             --------------\n",
      "91) :  What did you notice in the first Avengers: Endgame trailer (December 2018) that other people probably missed?\n",
      "                  --------------------                -----------------             --------------\n",
      "92) :  Thanos has all the Infinity Stones. Will Avengers be able to defeat Thanos in Avengers: Endgame?\n",
      "                  --------------------                -----------------             --------------\n",
      "93) :  Can you compare Indian cricket team and The Avengers?\n",
      "                  --------------------                -----------------             --------------\n",
      "94) :  Since I haven't watched any of the Avengers series, what should I know before watching <span class=\"matched_term\">'Avengers</span>: Infinity War' to fully enjoy the experience?\n",
      "                  --------------------                -----------------             --------------\n",
      "95) :  Hypothetical Scenarios: What if the Avengers actually existed?\n",
      "                  --------------------                -----------------             --------------\n",
      "96) :  What single scene from Avengers: Endgame was an absolute masterpiece?\n",
      "                  --------------------                -----------------             --------------\n",
      "97) :  When will the Avengers: Endgame trailer be released?\n",
      "                  --------------------                -----------------             --------------\n",
      "98) :  Did Avengers: Infinity War meet your expectations?\n",
      "                  --------------------                -----------------             --------------\n",
      "99) :  Why are they called The Avengers? What are they <span class=\"matched_term\">avenging</span>?\n",
      "                  --------------------                -----------------             --------------\n",
      "100) :  What would have happened if Batman were in The Avengers?\n",
      "                  --------------------                -----------------             --------------\n"
     ]
    }
   ],
   "source": [
    "for i in range(100):\n",
    "    print(str(i+1)+\") : \", li[i].get_attribute(\"innerHTML\").replace('<span class=\"matched_term\">Avengers</span>', 'Avengers'))\n",
    "    print(\"                  --------------------                -----------------             --------------\")"
   ]
  },
  {
   "cell_type": "markdown",
   "metadata": {},
   "source": [
    "### Switch Tab Focus"
   ]
  },
  {
   "cell_type": "code",
   "execution_count": 37,
   "metadata": {},
   "outputs": [
    {
     "name": "stdout",
     "output_type": "stream",
     "text": [
      "Coding Ninjas\n",
      "Coding Ninjas\n",
      "Explore / Twitter\n"
     ]
    }
   ],
   "source": [
    "driver.get(\"https://codingninjas.com\")\n",
    "print(driver.title) # Title of coding ninja website\n",
    "\n",
    "# Open another site in new tab\n",
    "driver.execute_script('window.open(\"https://twitter.com\")')\n",
    "print(driver.title) # Title of coding ninja website bcz tab focus is not changed \n",
    "\n",
    "# shift focus\n",
    "tabs = driver.window_handles\n",
    "driver.switch_to.window(tabs[1]) # tabs[1] = handle(id) for twitter tab\n",
    "print(driver.title) # Now title of twitter \n"
   ]
  },
  {
   "cell_type": "code",
   "execution_count": 38,
   "metadata": {},
   "outputs": [],
   "source": [
    "driver.quit()"
   ]
  },
  {
   "cell_type": "code",
   "execution_count": null,
   "metadata": {},
   "outputs": [],
   "source": []
  },
  {
   "cell_type": "code",
   "execution_count": null,
   "metadata": {},
   "outputs": [],
   "source": []
  },
  {
   "cell_type": "code",
   "execution_count": null,
   "metadata": {},
   "outputs": [],
   "source": []
  },
  {
   "cell_type": "code",
   "execution_count": null,
   "metadata": {},
   "outputs": [],
   "source": []
  }
 ],
 "metadata": {
  "kernelspec": {
   "display_name": "Python 3",
   "language": "python",
   "name": "python3"
  },
  "language_info": {
   "codemirror_mode": {
    "name": "ipython",
    "version": 3
   },
   "file_extension": ".py",
   "mimetype": "text/x-python",
   "name": "python",
   "nbconvert_exporter": "python",
   "pygments_lexer": "ipython3",
   "version": "3.7.3"
  }
 },
 "nbformat": 4,
 "nbformat_minor": 2
}
