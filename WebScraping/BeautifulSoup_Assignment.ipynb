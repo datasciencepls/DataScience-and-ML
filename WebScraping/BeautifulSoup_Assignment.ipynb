{
 "cells": [
  {
   "cell_type": "markdown",
   "metadata": {},
   "source": [
    "### Find and print the name and genre of the first 3 titles\n",
    "### https://www.imdb.com/search/title/?release_date=2018&sort=num_votes,desc&page=1&ref_=adv_nxt"
   ]
  },
  {
   "cell_type": "code",
   "execution_count": 12,
   "metadata": {},
   "outputs": [
    {
     "name": "stdout",
     "output_type": "stream",
     "text": [
      "Avengers: Infinity War ; Action, Adventure, Sci-Fi\n",
      "Black Panther ; Action, Adventure, Sci-Fi\n",
      "Deadpool 2 ; Action, Adventure, Comedy\n"
     ]
    }
   ],
   "source": [
    "from bs4 import BeautifulSoup\n",
    "import requests\n",
    "\n",
    "res = requests.get('https://www.imdb.com/search/title/?release_date=2018&sort=num_votes,desc&page=1&ref_=adv_nxt')\n",
    "data = BeautifulSoup(res.text, 'html.parser')\n",
    "titles = data.find_all(class_ = 'lister-item-content') # it is of type bs4.element.ResultSet\n",
    "genres = data.find_all(class_ = 'genre') # it is of type bs4.element.ResultSet\n",
    "for i in range(3):\n",
    "    gen_i = genres[i].string.strip()\n",
    "    print(titles[i].a.string.strip(),';',gen_i)"
   ]
  },
  {
   "cell_type": "markdown",
   "metadata": {},
   "source": [
    "### Print the names of movies with highest number of votes from year 2010 to 2014\n",
    "https://www.imdb.com/search/title/?release_date=2010&sort=num_votes,desc&page=1&ref_=adv_nxt"
   ]
  },
  {
   "cell_type": "code",
   "execution_count": 15,
   "metadata": {},
   "outputs": [
    {
     "name": "stdout",
     "output_type": "stream",
     "text": [
      "Inception\n",
      "Game of Thrones\n",
      "The Dark Knight Rises\n",
      "The Wolf of Wall Street\n",
      "Interstellar\n"
     ]
    }
   ],
   "source": [
    "# acc to link url movies are already sorted according to number of votes. So we just need to call url 4 times with diff. year\n",
    "from bs4 import BeautifulSoup\n",
    "import requests\n",
    "\n",
    "base_url1 = 'https://www.imdb.com/search/title/?release_date='\n",
    "base_url2 = '&sort=num_votes,desc&page=1&ref_=adv_nxt'\n",
    "\n",
    "for i in range(2010,2015):\n",
    "    res = requests.get(base_url1 + str(i) + base_url2)\n",
    "    data = BeautifulSoup(res.text, 'html.parser')\n",
    "    print(data.h3.a.string)\n"
   ]
  },
  {
   "cell_type": "markdown",
   "metadata": {},
   "source": [
    "### Out of the first 250 titles with highest number of votes in 2018,find which title has the maximum duration.\n",
    "https://www.imdb.com/search/title/?release_date=2018&sort=num_votes,desc&page=1&ref_=adv_nxt"
   ]
  },
  {
   "cell_type": "code",
   "execution_count": 21,
   "metadata": {},
   "outputs": [
    {
     "name": "stdout",
     "output_type": "stream",
     "text": [
      "Sharp Objects 421\n"
     ]
    }
   ],
   "source": [
    "from bs4 import BeautifulSoup\n",
    "import requests\n",
    "import re\n",
    "\n",
    "#If we use above link then we need to handle separate case for 1st time. So we use \n",
    "#https://www.imdb.com/search/title/?release_date=2018-01-01,2018-12-31&amp;sort=num_votes,desc&amp;start=1&amp;ref_=adv_nxt\n",
    "\n",
    "url1 = 'https://www.imdb.com/search/title/?release_date=2018-01-01,2018-12-31&amp;sort=num_votes,desc&amp;start='\n",
    "url2 = '&amp;ref_=adv_nxt'\n",
    "\n",
    "max_dur = 0\n",
    "for i in range(5): # in 1 call we get 50 results . So call 5 times bcz we want 250 results\n",
    "    curr_url = url1 + str(i*50+1) + url2\n",
    "    res = requests.get(curr_url)\n",
    "    data = BeautifulSoup(res.text, 'html.parser')\n",
    "    \n",
    "    movies = data.find_all(class_ = 'lister-item-content')\n",
    "    for c in range(50): # bcz 50 results in 1 page\n",
    "        title = movies[c].h3.a.string\n",
    "        duration = movies[c].find(class_='runtime')\n",
    "        if duration is not None: # bcz out of 250 1 movie has no duration given\n",
    "            duration = duration.string.strip()\n",
    "            dur = int(re.search('\\d+',str(duration)).group())\n",
    "            if(dur > max_dur):\n",
    "                max_dur = dur\n",
    "                dur_title = dur\n",
    "                title_name = title\n",
    "        \n",
    "print(title_name, dur_title)"
   ]
  },
  {
   "cell_type": "markdown",
   "metadata": {},
   "source": [
    "### Find and print all applications of AI (As present in Contents of the page)\n",
    "### Note : Print applications line wise\n",
    "https://en.wikipedia.org/wiki/Artificial_intelligence"
   ]
  },
  {
   "cell_type": "code",
   "execution_count": 23,
   "metadata": {},
   "outputs": [
    {
     "name": "stdout",
     "output_type": "stream",
     "text": [
      "Healthcare\n",
      "Automotive\n",
      "Finance and economics\n",
      "Cybersecurity\n",
      "Government\n",
      "Law-related professions\n",
      "Video games\n",
      "Military\n",
      "Hospitality\n",
      "Audit\n",
      "Advertising\n",
      "Art\n"
     ]
    }
   ],
   "source": [
    "from bs4 import BeautifulSoup\n",
    "import requests\n",
    "\n",
    "res = requests.get('https://en.wikipedia.org/wiki/Artificial_intelligence')\n",
    "data = BeautifulSoup(res.text,'html.parser')\n",
    "\n",
    "app_section = data.find(class_='toclevel-1 tocsection-36')\n",
    "applications = app_section.ul.find_all('li')\n",
    "for apps in applications:\n",
    "    print(apps.find(class_='toctext').string)"
   ]
  },
  {
   "cell_type": "markdown",
   "metadata": {},
   "source": [
    "### Find and print the src of the image tag which occupies the maximum area on the page.\n",
    "### Note : Ignore images which doesn't have height or width attributes\n",
    "https://en.wikipedia.org/wiki/Artificial_intelligence"
   ]
  },
  {
   "cell_type": "code",
   "execution_count": 32,
   "metadata": {},
   "outputs": [
    {
     "name": "stdout",
     "output_type": "stream",
     "text": [
      "//upload.wikimedia.org/wikipedia/commons/6/69/EM_Clustering_of_Old_Faithful_data.gif\n"
     ]
    }
   ],
   "source": [
    "from bs4 import BeautifulSoup\n",
    "import requests\n",
    "\n",
    "res = requests.get('https://en.wikipedia.org/wiki/Artificial_intelligence')\n",
    "data = BeautifulSoup(res.text,'html.parser')\n",
    "\n",
    "images = data.find_all('img')\n",
    "max_area = 0\n",
    "for img in images:\n",
    "    w = img.get('width',\"\")\n",
    "    h = img.get('height',\"\")\n",
    "    if w!=\"\" and h!=\"\":\n",
    "        area = int(w)*int(h)\n",
    "        if area > max_area:\n",
    "            max_area = area\n",
    "            src = img.get('src')\n",
    "print(src)"
   ]
  },
  {
   "cell_type": "markdown",
   "metadata": {},
   "source": [
    "### Find all the quotes that have the tag as \"humor\" \n",
    "http://quotes.toscrape.com/"
   ]
  },
  {
   "cell_type": "code",
   "execution_count": 40,
   "metadata": {},
   "outputs": [
    {
     "name": "stdout",
     "output_type": "stream",
     "text": [
      "“The person, be it gentleman or lady, who has not pleasure in a good novel, must be intolerably stupid.”\n",
      "“A day without sunshine is like, you know, night.”\n",
      "“Anyone who thinks sitting in church can make you a Christian must also think that sitting in a garage can make you a car.”\n",
      "“Beauty is in the eye of the beholder and it may be necessary from time to time to give a stupid or misinformed beholder a black eye.”\n",
      "“All you need is love. But a little chocolate now and then doesn't hurt.”\n",
      "“Remember, we're madly in love, so it's all right to kiss me anytime you feel like it.”\n",
      "“Some people never go crazy. What truly horrible lives they must lead.”\n",
      "“The trouble with having an open mind, of course, is that people will insist on coming along and trying to put things in it.”\n",
      "“Think left and think right and think low and think high. Oh, the thinks you can think up if only you try!”\n",
      "“The reason I talk to myself is because I’m the only one whose answers I accept.”\n",
      "“I am free of all prejudice. I hate everyone equally. ”\n",
      "“A lady's imagination is very rapid; it jumps from admiration to love, from love to matrimony in a moment.”\n"
     ]
    }
   ],
   "source": [
    "from bs4 import BeautifulSoup\n",
    "import requests\n",
    "\n",
    "base_url = 'http://quotes.toscrape.com'\n",
    "curr_url = 'http://quotes.toscrape.com/page/1/'\n",
    "while True:\n",
    "    res = requests.get(curr_url)\n",
    "    data = BeautifulSoup(res.text,'html.parser')\n",
    "\n",
    "    quotes = data.find_all(class_='quote')\n",
    "    for q in quotes:\n",
    "        tags =  q.find(class_ = 'keywords').get('content') # or tag.find(class_ = 'keywords')['content'] \n",
    "        tag_list = tags.split(',')\n",
    "        if \"humor\" in tag_list:\n",
    "            print(q.find(class_='text').string)\n",
    "    \n",
    "    next_page = data.find(class_='next')\n",
    "    if next_page is None:\n",
    "        break\n",
    "    \n",
    "    curr_url = base_url + next_page.a['href']\n"
   ]
  },
  {
   "cell_type": "markdown",
   "metadata": {},
   "source": [
    "### Find and print the names of all the different authors from all pages of http://quotes.toscrape.com/\n",
    "### Note : Print the names of all authors line wise sorted in dictionary order"
   ]
  },
  {
   "cell_type": "code",
   "execution_count": 44,
   "metadata": {},
   "outputs": [
    {
     "name": "stdout",
     "output_type": "stream",
     "text": [
      "Albert Einstein\n",
      "Alexandre Dumas fils\n",
      "Alfred Tennyson\n",
      "Allen Saunders\n",
      "André Gide\n",
      "Ayn Rand\n",
      "Bob Marley\n",
      "C.S. Lewis\n",
      "Charles Bukowski\n",
      "Charles M. Schulz\n",
      "Douglas Adams\n",
      "Dr. Seuss\n",
      "E.E. Cummings\n",
      "Eleanor Roosevelt\n",
      "Elie Wiesel\n",
      "Ernest Hemingway\n",
      "Friedrich Nietzsche\n",
      "Garrison Keillor\n",
      "George Bernard Shaw\n",
      "George Carlin\n",
      "George Eliot\n",
      "George R.R. Martin\n",
      "Harper Lee\n",
      "Haruki Murakami\n",
      "Helen Keller\n",
      "J.D. Salinger\n",
      "J.K. Rowling\n",
      "J.M. Barrie\n",
      "J.R.R. Tolkien\n",
      "James Baldwin\n",
      "Jane Austen\n",
      "Jim Henson\n",
      "Jimi Hendrix\n",
      "John Lennon\n",
      "Jorge Luis Borges\n",
      "Khaled Hosseini\n",
      "Madeleine L'Engle\n",
      "Marilyn Monroe\n",
      "Mark Twain\n",
      "Martin Luther King Jr.\n",
      "Mother Teresa\n",
      "Pablo Neruda\n",
      "Ralph Waldo Emerson\n",
      "Stephenie Meyer\n",
      "Steve Martin\n",
      "Suzanne Collins\n",
      "Terry Pratchett\n",
      "Thomas A. Edison\n",
      "W.C. Fields\n",
      "William Nicholson\n"
     ]
    }
   ],
   "source": [
    "from bs4 import BeautifulSoup\n",
    "import requests\n",
    "\n",
    "base_url = 'http://quotes.toscrape.com'\n",
    "curr_url = 'http://quotes.toscrape.com/page/1/'\n",
    "authors = {}\n",
    "authors_list = []\n",
    "while True:\n",
    "    res = requests.get(curr_url)\n",
    "    data = BeautifulSoup(res.text,'html.parser')\n",
    "\n",
    "    quotes = data.find_all(class_='quote')\n",
    "    for q in quotes:\n",
    "        author = q.find(class_='author')\n",
    "        if author is not None and authors.get(author.string,0)==0:\n",
    "            authors[author.string] = 1\n",
    "            authors_list.append(author.string)\n",
    "        \n",
    "    next_page = data.find(class_='next')\n",
    "    if next_page is None:\n",
    "        break\n",
    "    \n",
    "    curr_url = base_url + next_page.a['href']\n",
    "\n",
    "authors_list.sort()\n",
    "for author in authors_list:\n",
    "    print(author)"
   ]
  },
  {
   "cell_type": "markdown",
   "metadata": {},
   "source": [
    "### Find the birth date of authors whose name start with 'J' from http://quotes.toscrape.com/\n",
    "### Note : Print a dictionary containing the name as key and the birth date as value.The Names of authors should be alphabetically sorted."
   ]
  },
  {
   "cell_type": "code",
   "execution_count": 55,
   "metadata": {},
   "outputs": [
    {
     "name": "stdout",
     "output_type": "stream",
     "text": [
      "{'J.D. Salinger': 'January 01, 1919', 'J.K. Rowling': 'July 31, 1965', 'J.M. Barrie': 'May 09, 1860', 'J.R.R. Tolkien': 'January 03, 1892', 'James Baldwin': 'August 02, 1924', 'Jane Austen': 'December 16, 1775', 'Jim Henson': 'September 24, 1936', 'Jimi Hendrix': 'November 27, 1942', 'John Lennon': 'October 09, 1940', 'Jorge Luis Borges': 'August 24, 1899'}\n"
     ]
    }
   ],
   "source": [
    "from bs4 import BeautifulSoup\n",
    "import requests\n",
    "\n",
    "base_url = 'http://quotes.toscrape.com'\n",
    "curr_url = 'http://quotes.toscrape.com/page/1/'\n",
    "authors = {}\n",
    "authors_list = []\n",
    "while True:\n",
    "    res = requests.get(curr_url)\n",
    "    data = BeautifulSoup(res.text,'html.parser')\n",
    "\n",
    "    quotes = data.find_all(class_='quote')\n",
    "    for q in quotes:\n",
    "        author = q.find(class_='author')\n",
    "        if author is not None and authors.get(author.string,0)==0 and author.string[0]=='J':\n",
    "            about_auhor = base_url + q.find_all('a')[0]['href'] # 1st link gives detail about author\n",
    "            response = requests.get(about_auhor)\n",
    "            auth_data = BeautifulSoup(response.text, 'html.parser')\n",
    "            \n",
    "            birth = auth_data.find(class_='author-born-date').string\n",
    "            authors[author.string] = str(birth),\n",
    "            authors_list.append((author.string,birth))\n",
    "        \n",
    "    next_page = data.find(class_='next')\n",
    "    if next_page is None:\n",
    "        break\n",
    "    \n",
    "    curr_url = base_url + next_page.a['href']\n",
    "\n",
    "authors_list.sort(key=lambda x: x[0])\n",
    "print('{',end='')\n",
    "for i in range(len(authors_list)):\n",
    "    if i==len(authors_list)-1 :\n",
    "        print(\"'\"+authors_list[i][0]+\"': '\"+authors_list[i][1],end=\"'\")\n",
    "    else:\n",
    "        print(\"'\"+authors_list[i][0]+\"': '\"+authors_list[i][1],end=\"', \")\n",
    "print('}')"
   ]
  },
  {
   "cell_type": "markdown",
   "metadata": {},
   "source": [
    "### Find all the quotes by Albert Einstein(in the order they appear on the page) from http://quotes.toscrape.com/\n",
    "### Note : Fetch data from all the pages."
   ]
  },
  {
   "cell_type": "code",
   "execution_count": 56,
   "metadata": {},
   "outputs": [
    {
     "name": "stdout",
     "output_type": "stream",
     "text": [
      "“The world as we have created it is a process of our thinking. It cannot be changed without changing our thinking.”\n",
      "“There are only two ways to live your life. One is as though nothing is a miracle. The other is as though everything is a miracle.”\n",
      "“Try not to become a man of success. Rather become a man of value.”\n",
      "“If you can't explain it to a six year old, you don't understand it yourself.”\n",
      "“If you want your children to be intelligent, read them fairy tales. If you want them to be more intelligent, read them more fairy tales.”\n",
      "“Logic will get you from A to Z; imagination will get you everywhere.”\n",
      "“Any fool can know. The point is to understand.”\n",
      "“Life is like riding a bicycle. To keep your balance, you must keep moving.”\n",
      "“If I were not a physicist, I would probably be a musician. I often think in music. I live my daydreams in music. I see my life in terms of music.”\n",
      "“Anyone who has never made a mistake has never tried anything new.”\n"
     ]
    }
   ],
   "source": [
    "from bs4 import BeautifulSoup\n",
    "import requests\n",
    "\n",
    "base_url = 'http://quotes.toscrape.com'\n",
    "curr_url = 'http://quotes.toscrape.com/page/1/'\n",
    "\n",
    "while True:\n",
    "    res = requests.get(curr_url)\n",
    "    data = BeautifulSoup(res.text,'html.parser')\n",
    "\n",
    "    quotes = data.find_all(class_='quote')\n",
    "    for q in quotes:\n",
    "        author = q.find(class_='author')\n",
    "        if author is not None and author.string==\"Albert Einstein\":\n",
    "            print(q.find(class_='text').string)\n",
    "            \n",
    "    next_page = data.find(class_='next')\n",
    "    if next_page is None:\n",
    "        break\n",
    "    \n",
    "    curr_url = base_url + next_page.a['href']"
   ]
  },
  {
   "cell_type": "code",
   "execution_count": null,
   "metadata": {},
   "outputs": [],
   "source": []
  },
  {
   "cell_type": "code",
   "execution_count": null,
   "metadata": {},
   "outputs": [],
   "source": []
  },
  {
   "cell_type": "code",
   "execution_count": null,
   "metadata": {},
   "outputs": [],
   "source": []
  },
  {
   "cell_type": "code",
   "execution_count": null,
   "metadata": {},
   "outputs": [],
   "source": []
  },
  {
   "cell_type": "code",
   "execution_count": null,
   "metadata": {},
   "outputs": [],
   "source": []
  },
  {
   "cell_type": "code",
   "execution_count": null,
   "metadata": {},
   "outputs": [],
   "source": []
  }
 ],
 "metadata": {
  "kernelspec": {
   "display_name": "Python 3",
   "language": "python",
   "name": "python3"
  },
  "language_info": {
   "codemirror_mode": {
    "name": "ipython",
    "version": 3
   },
   "file_extension": ".py",
   "mimetype": "text/x-python",
   "name": "python",
   "nbconvert_exporter": "python",
   "pygments_lexer": "ipython3",
   "version": "3.7.3"
  }
 },
 "nbformat": 4,
 "nbformat_minor": 2
}
