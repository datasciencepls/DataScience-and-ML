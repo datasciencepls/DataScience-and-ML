{
 "cells": [
  {
   "cell_type": "markdown",
   "metadata": {},
   "source": [
    "Boston dataset is one of the datasets available in sklearn.\n",
    "You are given a Training dataset csv file with X train and Y train data. As studied in lecture, your task is to come up with Gradient Descent algorithm and thus predictions for the test dataset given.\n",
    "Your task is to:\n",
    "1. Code Gradient Descent for N features and come with predictions.\n",
    "2. Try and test with various combinations of learning rates and number of iterations.\n",
    "3. Try using Feature Scaling, and see if it helps you in getting better results. "
   ]
  },
  {
   "cell_type": "markdown",
   "metadata": {},
   "source": [
    "### Imports needed"
   ]
  },
  {
   "cell_type": "code",
   "execution_count": 2,
   "metadata": {},
   "outputs": [],
   "source": [
    "from sklearn import model_selection\n",
    "from sklearn import preprocessing\n",
    "\n",
    "import numpy as np"
   ]
  },
  {
   "cell_type": "markdown",
   "metadata": {},
   "source": [
    "### Gradient descent"
   ]
  },
  {
   "cell_type": "code",
   "execution_count": 33,
   "metadata": {},
   "outputs": [],
   "source": [
    "def step_gradient(X_train, Y_train, learning_rate, coeff):\n",
    "    n = len(X_train[0]) # num_features and last is 1 ; last 1 bcz we calculate c(intercept) in this array also\n",
    "    coefficients = np.zeros(n) # [m1, m2, m3, ... mn, m(n+1)] where m(n+1) is c\n",
    "    M = len(X_train)\n",
    "    \n",
    "    for i in range(M):\n",
    "        x = X_train[i]\n",
    "        y = Y_train[i]\n",
    "        for j in range(n):\n",
    "            coefficients[j] += (-2/M)*(y - (coeff*x).sum())*x[j]\n",
    "    new_coeff = coeff - learning_rate*coefficients\n",
    "    return new_coeff"
   ]
  },
  {
   "cell_type": "code",
   "execution_count": 34,
   "metadata": {},
   "outputs": [],
   "source": [
    "def cost(X_train, Y_train, coeff):\n",
    "    total_cost = 0\n",
    "    M = len(X_train)\n",
    "    for i in range(M):\n",
    "        x = X_train[i]\n",
    "        y = Y_train[i]\n",
    "        total_cost += (1/M)*( (y - (coeff*x).sum())**2 )\n",
    "    return total_cost"
   ]
  },
  {
   "cell_type": "code",
   "execution_count": 69,
   "metadata": {},
   "outputs": [],
   "source": [
    "def gd(X_train, Y_train, learning_rate, num_iterations):\n",
    "    # append column of 1's in X_train\n",
    "    ones_col = np.ones(len(X_train)).reshape(-1,1) # reshape bcz we want column of 1's\n",
    "    X_train = np.append(X_train, ones_col, axis=1)\n",
    "    \n",
    "    n = len(X_train[0]) # num_features+1 ; +1 bcz we calculate c(intercept) in this array also\n",
    "    \n",
    "    # choose random value for coefficients lets say 0\n",
    "    coefficients = np.zeros(n) # [m1, m2, m3, ... mn, m(n+1)] where m(n+1) is c\n",
    "    \n",
    "    for i in range(num_iterations):\n",
    "        coefficients = step_gradient(X_train, Y_train, learning_rate, coefficients)\n",
    "        \n",
    "        '''\n",
    "        # printing cost after every iteration, we can see that cost is not decreasing much after 23\n",
    "        print(\"After iteration \",i+1, \"Cost is:\", cost(X_train, Y_train, coefficients))\n",
    "        '''\n",
    "        \n",
    "    return coefficients"
   ]
  },
  {
   "cell_type": "code",
   "execution_count": 70,
   "metadata": {},
   "outputs": [],
   "source": [
    "def predictions(X_test, m, c):\n",
    "    M = len(X_test)\n",
    "    y_pred = np.zeros(M)\n",
    "    for i in range(M):\n",
    "        x = X_test[i]\n",
    "        y_pred[i] += ((m*x).sum()+c)\n",
    "    return y_pred"
   ]
  },
  {
   "cell_type": "markdown",
   "metadata": {},
   "source": [
    "### run function which loads data apply feature scaling on it and calls gradient descent "
   ]
  },
  {
   "cell_type": "code",
   "execution_count": 75,
   "metadata": {},
   "outputs": [],
   "source": [
    "def run():\n",
    "    training_data = np.genfromtxt('boston_traindata.csv', delimiter=',')\n",
    "    X_train = training_data[:, :-1]\n",
    "    Y_train = training_data[:, -1]\n",
    "    \n",
    "    X_test = np.genfromtxt('boston_testdata.csv', delimiter=',')\n",
    "    \n",
    "    # Appply feature scaling\n",
    "    scaler = preprocessing.StandardScaler() # create scaler object\n",
    "    scaler.fit(X_train)\n",
    "    transformed_X_train = scaler.transform(X_train)\n",
    "    transformed_X_test = scaler.transform(X_test)\n",
    "    \n",
    "    learning_rate = 0.01\n",
    "    num_iterations = 500\n",
    "    parameters = gd(transformed_X_train, Y_train, learning_rate, num_iterations)\n",
    "    m = parameters[:-1]\n",
    "    c = parameters[-1]\n",
    "    print(m, c, sep=\"\\n\")\n",
    "    \n",
    "    # call prediction\n",
    "    pred = predictions(transformed_X_test, m, c).reshape(-1,1)\n",
    "    # Rounding off upto 5 decimal places\n",
    "    y_predictions = np.round(pred, decimals=5)\n",
    "    # Save Predictions\n",
    "    np.savetxt('predictions.csv', y_predictions, delimiter=',')\n",
    "    print(y_predictions)\n",
    "    "
   ]
  },
  {
   "cell_type": "markdown",
   "metadata": {},
   "source": [
    "### call run function"
   ]
  },
  {
   "cell_type": "code",
   "execution_count": 76,
   "metadata": {},
   "outputs": [
    {
     "name": "stdout",
     "output_type": "stream",
     "text": [
      "[-0.8878117   0.47011598 -0.37636565  0.85749068 -1.71767189  2.55305219\n",
      "  0.01777964 -2.66759426  1.52159361 -0.68420465 -2.13710386  0.60204279\n",
      " -4.24292261]\n",
      "22.608571149000767\n",
      "[[11.84935]\n",
      " [28.83632]\n",
      " [22.42073]\n",
      " [24.27571]\n",
      " [21.06144]\n",
      " [ 2.83708]\n",
      " [29.4433 ]\n",
      " [24.46179]\n",
      " [18.8336 ]\n",
      " [23.42835]\n",
      " [24.37026]\n",
      " [17.94788]\n",
      " [18.58063]\n",
      " [21.90184]\n",
      " [42.70948]\n",
      " [24.15681]\n",
      " [24.49279]\n",
      " [27.68599]\n",
      " [20.48507]\n",
      " [31.40943]\n",
      " [24.18992]\n",
      " [24.68162]\n",
      " [33.74936]\n",
      " [35.91619]\n",
      " [32.25429]\n",
      " [16.04764]\n",
      " [23.06614]\n",
      " [33.02843]\n",
      " [24.57147]\n",
      " [33.45631]\n",
      " [17.20688]\n",
      " [26.27674]\n",
      " [23.52075]\n",
      " [25.44282]\n",
      " [15.0326 ]\n",
      " [29.38085]\n",
      " [26.12807]\n",
      " [20.68787]\n",
      " [24.12311]\n",
      " [ 9.54885]\n",
      " [ 7.63047]\n",
      " [28.67847]\n",
      " [29.57139]\n",
      " [20.13685]\n",
      " [20.35366]\n",
      " [ 2.76561]\n",
      " [39.58457]\n",
      " [25.77855]\n",
      " [29.94135]\n",
      " [16.9882 ]\n",
      " [17.72466]\n",
      " [39.95896]\n",
      " [17.75897]\n",
      " [21.17062]\n",
      " [15.89629]\n",
      " [21.30488]\n",
      " [18.4961 ]\n",
      " [23.12099]\n",
      " [13.9172 ]\n",
      " [17.2685 ]\n",
      " [15.2252 ]\n",
      " [29.15062]\n",
      " [25.23402]\n",
      " [25.62446]\n",
      " [16.96927]\n",
      " [16.94684]\n",
      " [34.57906]\n",
      " [17.08646]\n",
      " [26.60891]\n",
      " [22.41785]\n",
      " [29.4369 ]\n",
      " [26.84915]\n",
      " [18.30252]\n",
      " [ 5.45338]\n",
      " [36.10444]\n",
      " [25.15135]\n",
      " [29.45951]\n",
      " [26.83233]\n",
      " [16.1242 ]\n",
      " [32.72716]\n",
      " [19.49252]\n",
      " [22.96751]\n",
      " [23.33225]\n",
      " [ 8.31848]\n",
      " [17.4925 ]\n",
      " [29.57843]\n",
      " [27.08402]\n",
      " [ 5.57872]\n",
      " [20.47356]\n",
      " [19.97451]\n",
      " [22.09654]\n",
      " [20.84163]\n",
      " [21.17679]\n",
      " [13.30554]\n",
      " [20.03514]\n",
      " [26.70403]\n",
      " [39.78966]\n",
      " [18.31333]\n",
      " [33.23414]\n",
      " [26.68811]\n",
      " [28.21669]\n",
      " [22.16465]\n",
      " [25.38496]\n",
      " [31.36944]\n",
      " [17.31707]\n",
      " [26.13546]\n",
      " [21.81157]\n",
      " [37.02905]\n",
      " [22.00774]\n",
      " [16.76221]\n",
      " [27.78791]\n",
      " [-0.64453]\n",
      " [14.1484 ]\n",
      " [15.81557]\n",
      " [35.79467]\n",
      " [21.20184]\n",
      " [21.23619]\n",
      " [25.21015]\n",
      " [22.18567]\n",
      " [19.28674]\n",
      " [13.75091]\n",
      " [34.88697]\n",
      " [23.18096]\n",
      " [24.55759]\n",
      " [18.6529 ]\n",
      " [20.96427]\n",
      " [15.20817]]\n"
     ]
    }
   ],
   "source": [
    "run()"
   ]
  }
 ],
 "metadata": {
  "kernelspec": {
   "display_name": "Python 3",
   "language": "python",
   "name": "python3"
  },
  "language_info": {
   "codemirror_mode": {
    "name": "ipython",
    "version": 3
   },
   "file_extension": ".py",
   "mimetype": "text/x-python",
   "name": "python",
   "nbconvert_exporter": "python",
   "pygments_lexer": "ipython3",
   "version": "3.7.3"
  }
 },
 "nbformat": 4,
 "nbformat_minor": 2
}
