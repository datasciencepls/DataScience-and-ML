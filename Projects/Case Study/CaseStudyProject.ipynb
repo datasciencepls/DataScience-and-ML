{
 "cells": [
  {
   "cell_type": "raw",
   "metadata": {},
   "source": [
    "Dataset has funding information of the Indian startups from January 2015 to August 2017.\n",
    "Feature Details :\n",
    "SNo - Serial number.\n",
    "Date - Date of funding in format DD/MM/YYYY.\n",
    "StartupName - Name of the startup which got funded.\n",
    "IndustryVertical - Industry to which the startup belongs.\n",
    "SubVertical - Sub-category of the industry type.\n",
    "CityLocation - City which the startup is based out of.\n",
    "InvestorsName - Name of the investors involved in the funding round.\n",
    "InvestmentType - Either Private Equity or Seed Funding.\n",
    "AmountInUSD - Funding Amount in USD.\n",
    "Remarks - Other information, if any.\n",
    "Insights -\n",
    "Find out what type of startups are getting funded in the last few years?\n",
    "Who are the important investors?\n",
    "What are the hot fields that get a lot of funding these days?\n",
    "\n"
   ]
  },
  {
   "cell_type": "code",
   "execution_count": 5,
   "metadata": {},
   "outputs": [
    {
     "data": {
      "text/html": [
       "<div>\n",
       "<style scoped>\n",
       "    .dataframe tbody tr th:only-of-type {\n",
       "        vertical-align: middle;\n",
       "    }\n",
       "\n",
       "    .dataframe tbody tr th {\n",
       "        vertical-align: top;\n",
       "    }\n",
       "\n",
       "    .dataframe thead th {\n",
       "        text-align: right;\n",
       "    }\n",
       "</style>\n",
       "<table border=\"1\" class=\"dataframe\">\n",
       "  <thead>\n",
       "    <tr style=\"text-align: right;\">\n",
       "      <th></th>\n",
       "      <th>SNo</th>\n",
       "      <th>Date</th>\n",
       "      <th>StartupName</th>\n",
       "      <th>IndustryVertical</th>\n",
       "      <th>SubVertical</th>\n",
       "      <th>CityLocation</th>\n",
       "      <th>InvestorsName</th>\n",
       "      <th>InvestmentType</th>\n",
       "      <th>AmountInUSD</th>\n",
       "      <th>Remarks</th>\n",
       "    </tr>\n",
       "  </thead>\n",
       "  <tbody>\n",
       "    <tr>\n",
       "      <td>0</td>\n",
       "      <td>0</td>\n",
       "      <td>01/08/2017</td>\n",
       "      <td>TouchKin</td>\n",
       "      <td>Technology</td>\n",
       "      <td>Predictive Care Platform</td>\n",
       "      <td>Bangalore</td>\n",
       "      <td>Kae Capital</td>\n",
       "      <td>Private Equity</td>\n",
       "      <td>1,300,000</td>\n",
       "      <td>NaN</td>\n",
       "    </tr>\n",
       "    <tr>\n",
       "      <td>1</td>\n",
       "      <td>1</td>\n",
       "      <td>02/08/2017</td>\n",
       "      <td>Ethinos</td>\n",
       "      <td>Technology</td>\n",
       "      <td>Digital Marketing Agency</td>\n",
       "      <td>Mumbai</td>\n",
       "      <td>Triton Investment Advisors</td>\n",
       "      <td>Private Equity</td>\n",
       "      <td>NaN</td>\n",
       "      <td>NaN</td>\n",
       "    </tr>\n",
       "    <tr>\n",
       "      <td>2</td>\n",
       "      <td>2</td>\n",
       "      <td>02/08/2017</td>\n",
       "      <td>Leverage Edu</td>\n",
       "      <td>Consumer Internet</td>\n",
       "      <td>Online platform for Higher Education Services</td>\n",
       "      <td>New Delhi</td>\n",
       "      <td>Kashyap Deorah, Anand Sankeshwar, Deepak Jain,...</td>\n",
       "      <td>Seed Funding</td>\n",
       "      <td>NaN</td>\n",
       "      <td>NaN</td>\n",
       "    </tr>\n",
       "    <tr>\n",
       "      <td>3</td>\n",
       "      <td>3</td>\n",
       "      <td>02/08/2017</td>\n",
       "      <td>Zepo</td>\n",
       "      <td>Consumer Internet</td>\n",
       "      <td>DIY Ecommerce platform</td>\n",
       "      <td>Mumbai</td>\n",
       "      <td>Kunal Shah, LetsVenture, Anupam Mittal, Hetal ...</td>\n",
       "      <td>Seed Funding</td>\n",
       "      <td>500,000</td>\n",
       "      <td>NaN</td>\n",
       "    </tr>\n",
       "    <tr>\n",
       "      <td>4</td>\n",
       "      <td>4</td>\n",
       "      <td>02/08/2017</td>\n",
       "      <td>Click2Clinic</td>\n",
       "      <td>Consumer Internet</td>\n",
       "      <td>healthcare service aggregator</td>\n",
       "      <td>Hyderabad</td>\n",
       "      <td>Narottam Thudi, Shireesh Palle</td>\n",
       "      <td>Seed Funding</td>\n",
       "      <td>850,000</td>\n",
       "      <td>NaN</td>\n",
       "    </tr>\n",
       "  </tbody>\n",
       "</table>\n",
       "</div>"
      ],
      "text/plain": [
       "   SNo        Date   StartupName   IndustryVertical  \\\n",
       "0    0  01/08/2017      TouchKin         Technology   \n",
       "1    1  02/08/2017       Ethinos         Technology   \n",
       "2    2  02/08/2017  Leverage Edu  Consumer Internet   \n",
       "3    3  02/08/2017          Zepo  Consumer Internet   \n",
       "4    4  02/08/2017  Click2Clinic  Consumer Internet   \n",
       "\n",
       "                                     SubVertical CityLocation  \\\n",
       "0                       Predictive Care Platform    Bangalore   \n",
       "1                       Digital Marketing Agency       Mumbai   \n",
       "2  Online platform for Higher Education Services    New Delhi   \n",
       "3                         DIY Ecommerce platform       Mumbai   \n",
       "4                  healthcare service aggregator    Hyderabad   \n",
       "\n",
       "                                       InvestorsName  InvestmentType  \\\n",
       "0                                        Kae Capital  Private Equity   \n",
       "1                         Triton Investment Advisors  Private Equity   \n",
       "2  Kashyap Deorah, Anand Sankeshwar, Deepak Jain,...    Seed Funding   \n",
       "3  Kunal Shah, LetsVenture, Anupam Mittal, Hetal ...    Seed Funding   \n",
       "4                     Narottam Thudi, Shireesh Palle    Seed Funding   \n",
       "\n",
       "  AmountInUSD Remarks  \n",
       "0   1,300,000     NaN  \n",
       "1         NaN     NaN  \n",
       "2         NaN     NaN  \n",
       "3     500,000     NaN  \n",
       "4     850,000     NaN  "
      ]
     },
     "execution_count": 5,
     "metadata": {},
     "output_type": "execute_result"
    }
   ],
   "source": [
    "import pandas as pd\n",
    "df = pd.read_csv('C:/PYTHON/DataScience_Ninza/DataScience-and-ML/Datasets/startup_funding.csv')\n",
    "df.head()"
   ]
  },
  {
   "cell_type": "markdown",
   "metadata": {},
   "source": [
    "## Find total number of fundings done in each year.\n",
    "## Plot a line graph between year and number of fundings. Take year on x-axis and number of fundings on y-axis.\n",
    "## Print year-wise total number of fundings also. Print years in ascending order."
   ]
  },
  {
   "cell_type": "code",
   "execution_count": 17,
   "metadata": {},
   "outputs": [
    {
     "data": {
      "image/png": "[encoded data removed]",
      "text/plain": [
       "<Figure size 432x288 with 1 Axes>"
      ]
     },
     "metadata": {
      "needs_background": "light"
     },
     "output_type": "display_data"
    },
    {
     "name": "stdout",
     "output_type": "stream",
     "text": [
      "2015 936\n",
      "2016 993\n",
      "2017 443\n"
     ]
    }
   ],
   "source": [
    "import pandas as pd\n",
    "import numpy as np\n",
    "import matplotlib.pyplot as plt\n",
    "\n",
    "def get_yr(s): # s is string of form 01/08/2017\n",
    "    return int(s[-4:])\n",
    "\n",
    "df = pd.read_csv('C:/PYTHON/DataScience_Ninza/DataScience-and-ML/Datasets/startup_funding.csv')    \n",
    "df['year'] = df.Date.apply(get_yr)\n",
    "yr_count = df.year.value_counts()\n",
    "#print(yr_count)\n",
    "\n",
    "# By printing we get the data\n",
    "yr = np.array([2015, 2016, 2017], dtype=int)\n",
    "num_fundings = np.array([936, 993, 443], dtype=int)\n",
    "\n",
    "plt.plot(yr,num_fundings,color='r')\n",
    "plt.xticks(rotation=60)\n",
    "plt.show()\n",
    "\n",
    "for i in range(3):\n",
    "    print(yr[i],num_fundings[i])"
   ]
  },
  {
   "cell_type": "markdown",
   "metadata": {},
   "source": [
    "### Find out which cities are generally chosen for starting a startup.\n",
    "### Find top 10 Indian cities which have most number of startups ?\n",
    "### Plot a pie chart and visualise it.\n",
    "### Print the city name and number of startups in that city also.\n"
   ]
  },
  {
   "cell_type": "markdown",
   "metadata": {},
   "source": [
    "Note :\n",
    "Take city name \"Delhi\" as \"New Delhi\".\n",
    "Check the case-sensitiveness of cities also. That means - at some place, instead of \"Bangalore\", \"bangalore\" is given. Take city name as \"Bangalore\".\n",
    "For few startups multiple locations are given, one Indian and one Foreign. Count those startups in Indian startup also. Indian city name is first.\n",
    "Print the city in descending order with respect to the number of startups."
   ]
  },
  {
   "cell_type": "code",
   "execution_count": 44,
   "metadata": {},
   "outputs": [
    {
     "data": {
      "image/png": "[encoded data removed]",
      "text/plain": [
       "<Figure size 432x288 with 1 Axes>"
      ]
     },
     "metadata": {},
     "output_type": "display_data"
    },
    {
     "name": "stdout",
     "output_type": "stream",
     "text": [
      "Bangalore 635\n",
      "Mumbai 449\n",
      "New Delhi 389\n",
      "Gurgaon 241\n",
      "Pune 91\n",
      "Noida 79\n",
      "Hyderabad 77\n",
      "Chennai 67\n",
      "Ahmedabad 35\n",
      "Jaipur 25\n"
     ]
    }
   ],
   "source": [
    "import pandas as pd\n",
    "import numpy as np\n",
    "import matplotlib.pyplot as plt\n",
    "\n",
    "def correct_city(s):\n",
    "    l = s.split('/')\n",
    "    city = l[0].strip()\n",
    "    if city=='Delhi':\n",
    "        return 'New Delhi'\n",
    "    if city=='bangalore':\n",
    "        return 'Bangalore'\n",
    "    return city\n",
    "\n",
    "df = pd.read_csv('C:/PYTHON/DataScience_Ninza/DataScience-and-ML/Datasets/startup_funding.csv') \n",
    "df.CityLocation.dropna(inplace=True) # drop rows having nan values in CityLocation column\n",
    "# Make a new column of correct city names\n",
    "df['city'] = df.CityLocation.apply(correct_city)\n",
    "city_count = df.city.value_counts()\n",
    "\n",
    "top_cities = np.array(city_count.index[:10])\n",
    "num_startups = np.array(city_count.values[:10])\n",
    "\n",
    "plt.pie(num_startups, labels=top_cities, autopct='%.2f%%')\n",
    "plt.show()\n",
    "for i in range(10):\n",
    "    print(top_cities[i], num_startups[i])\n"
   ]
  },
  {
   "cell_type": "markdown",
   "metadata": {},
   "source": [
    "### Find out if cities play any role in receiving funding.\n",
    "### Find top 10 Indian cities with most amount of fundings received. Find out percentage of funding each city has got (among top 10 Indian cities only).\n",
    "### Print the city and percentage with 2 decimal place after rounding off."
   ]
  },
  {
   "cell_type": "code",
   "execution_count": 1,
   "metadata": {},
   "outputs": [
    {
     "name": "stdout",
     "output_type": "stream",
     "text": [
      "Bangalore 49.71\n",
      "New Delhi 16.63\n",
      "Mumbai 13.90\n",
      "Gurgaon 12.21\n",
      "Chennai 2.43\n",
      "Pune 2.16\n",
      "Hyderabad 1.15\n",
      "Noida 1.01\n",
      "Ahmedabad 0.58\n",
      "Jaipur 0.21\n"
     ]
    }
   ],
   "source": [
    "import pandas as pd\n",
    "import numpy as np\n",
    "import matplotlib.pyplot as plt\n",
    "\n",
    "file = pd.read_csv('C:/PYTHON/DataScience_Ninza/DataScience-and-ML/Datasets/startup_funding.csv')\n",
    "\n",
    "df = file.copy()\n",
    "\n",
    "df['CityLocation'].dropna(inplace = True)\n",
    "\n",
    "def doubleCity(city):\n",
    "    return city.split('/')[0].strip()\n",
    "\n",
    "df['CityLocation'] = df['CityLocation'].apply(doubleCity) #To make column of Indian cities only if more than 1 city is present\n",
    "\n",
    "df['CityLocation'].replace(\"Delhi\", \"New Delhi\", inplace = True)\n",
    "df['CityLocation'].replace(\"bangalore\", \"Bangalore\", inplace = True)\n",
    "\n",
    "\n",
    "df['AmountInUSD'] = df['AmountInUSD'].str.replace(',','').fillna(0).astype(int)\n",
    "\n",
    "investment = df.groupby('CityLocation')['AmountInUSD'].sum().sort_values(ascending = False)\n",
    "cities = investment[:10].index\n",
    "invesment = investment[:10].values\n",
    "\n",
    "count = np.array(invesment)\n",
    "\n",
    "x = np.true_divide(count, count.sum(axis = 0, keepdims = True)) * 100\n",
    "\n",
    "\n",
    "for i in range(len(cities)):\n",
    "    print(cities[i], format(x[i], '.2f'))\n"
   ]
  },
  {
   "cell_type": "code",
   "execution_count": null,
   "metadata": {},
   "outputs": [],
   "source": []
  },
  {
   "cell_type": "markdown",
   "metadata": {},
   "source": [
    "### There are 4 different type of investments. Find out percentage of amount funded for each investment type.\n",
    "### Plot a pie chart to visualise.\n",
    "### Print the investment type and percentage of amount funded with 2 decimal places after rounding off."
   ]
  },
  {
   "cell_type": "markdown",
   "metadata": {},
   "source": [
    "Note :\n",
    "Correct spelling of investment types are - \"Private Equity\", \"Seed Funding\", \"Debt Funding\", and \"Crowd Funding\". Keep an eye for any spelling mistake. You can find this by printing unique values from this column."
   ]
  },
  {
   "cell_type": "code",
   "execution_count": 63,
   "metadata": {},
   "outputs": [
    {
     "data": {
      "image/png": "[encoded data removed]",
      "text/plain": [
       "<Figure size 432x288 with 1 Axes>"
      ]
     },
     "metadata": {},
     "output_type": "display_data"
    },
    {
     "name": "stdout",
     "output_type": "stream",
     "text": [
      "Private Equity 98.15\n",
      "Seed Funding 1.81\n",
      "Debt Funding 0.04\n",
      "Crowd Funding 0.00\n"
     ]
    }
   ],
   "source": [
    "import pandas as pd\n",
    "import numpy as np\n",
    "import matplotlib.pyplot as plt\n",
    "import csv\n",
    "\n",
    "#df = pd.read_csv('C:/PYTHON/DataScience_Ninza/DataScience-and-ML/Datasets/startup_funding.csv') \n",
    "#df['InvestmentType'].unique() # Byt this we know various types \n",
    "#['Private Equity', 'Seed Funding', 'Debt Funding', nan,'SeedFunding', 'PrivateEquity', 'Crowd funding', 'Crowd Funding']\n",
    "\n",
    "\n",
    "inves_funds = {'Private Equity':0, 'Seed Funding':0, 'Debt Funding':0, 'Crowd Funding':0}\n",
    "with open('C:/PYTHON/DataScience_Ninza/DataScience-and-ML/Datasets/startup_funding.csv', encoding='utf8') as obj:\n",
    "    file_data = csv.DictReader(obj, skipinitialspace=True)\n",
    "    for row in file_data:\n",
    "        inves_type = row['InvestmentType']\n",
    "        amt = row['AmountInUSD']\n",
    "        if not pd.isnull(inves_type) and not pd.isnull(amt) and amt!='':\n",
    "            amount = amt.replace(',','')\n",
    "            amount = int(amount)\n",
    "            \n",
    "            if inves_type=='Private Equity' or inves_type=='PrivateEquity':\n",
    "                inves_funds['Private Equity'] = inves_funds['Private Equity'] + amount\n",
    "            if inves_type=='SeedFunding' or inves_type=='Seed Funding':\n",
    "                inves_funds['Seed Funding'] = inves_funds['Seed Funding'] + amount\n",
    "            if inves_type=='Crowd funding' or inves_type=='Crowd Funding':\n",
    "                inves_funds['Crowd Funding'] = inves_funds['Crowd Funding'] + amount\n",
    "            if inves_type=='Debt Funding':\n",
    "                inves_funds['Debt Funding'] = inves_funds['Debt Funding'] + amount\n",
    "\n",
    "#print(inves_funds.items())\n",
    "#Create numpy arrays . Chk values by printing as above\n",
    "types = np.array(list(inves_funds.keys()))\n",
    "funds = np.array(list(inves_funds.values()))\n",
    "total = np.sum(funds)\n",
    "\n",
    "plt.pie(funds, colors=['red','green','blue','purple'])\n",
    "plt.show()\n",
    "\n",
    "for i in range(4):\n",
    "    per = funds[i]*100/total\n",
    "    print(types[i],format(per,'.2f'))\n",
    "#df.head()"
   ]
  },
  {
   "cell_type": "markdown",
   "metadata": {},
   "source": [
    "### Which type of companies got more easily funding. To answer this question, find -\n",
    "### Top 5 industries and percentage of the total amount funded to that industry. (among top 5 only)\n",
    "### Print the industry name and percentage of the amount funded with 2 decimal place after rounding off."
   ]
  },
  {
   "cell_type": "markdown",
   "metadata": {},
   "source": [
    "Note :\n",
    "Ecommerce is the right word in IndustryVertical, so correct it.\n",
    "Print the industry in descending order with respect to the percentage of the amount funded."
   ]
  },
  {
   "cell_type": "code",
   "execution_count": 89,
   "metadata": {},
   "outputs": [
    {
     "name": "stdout",
     "output_type": "stream",
     "text": [
      "Ecommerce 40.53\n",
      "Consumer Internet 35.95\n",
      "Technology 10.45\n",
      "Online Marketplace 6.63\n",
      "E-Commerce & M-Commerce platform 6.44\n"
     ]
    }
   ],
   "source": [
    "import pandas as pd\n",
    "import numpy as np\n",
    "import matplotlib.pyplot as plt\n",
    "import csv\n",
    "\n",
    "#df = pd.read_csv('C:/PYTHON/DataScience_Ninza/DataScience-and-ML/Datasets/startup_funding.csv') \n",
    "#df['IndustryVertical'].unique() # Byt this we know various types \n",
    "\n",
    "comp_funds = {}\n",
    "with open('C:/PYTHON/DataScience_Ninza/DataScience-and-ML/Datasets/startup_funding.csv', encoding='utf8') as obj:\n",
    "    file_data = csv.DictReader(obj, skipinitialspace=True)\n",
    "    for row in file_data:\n",
    "        comp_type = row['IndustryVertical']\n",
    "        amt = row['AmountInUSD']\n",
    "        if not pd.isnull(comp_type) and comp_type!='' and not pd.isnull(amt) and amt!='':\n",
    "            amount = amt.replace(',','')\n",
    "            amount = int(amount)\n",
    "            \n",
    "            if comp_type.lower() == 'ecommerce':\n",
    "                req_comp = 'Ecommerce'\n",
    "            else:\n",
    "                req_comp = comp_type\n",
    "            \n",
    "            comp_funds[req_comp] = comp_funds.get(req_comp,0) + amount\n",
    "            \n",
    "arr = list(comp_funds.items())\n",
    "arr.sort(key= lambda x:x[1])\n",
    "req_arr = arr[::-1]\n",
    "total = 0\n",
    "for i in range(5):\n",
    "    total = total + req_arr[i][1]\n",
    "\n",
    "for i in range(5):\n",
    "    per = req_arr[i][1]/total*100\n",
    "    print(req_arr[i][0], format(per, '.2f'))"
   ]
  },
  {
   "cell_type": "markdown",
   "metadata": {},
   "source": [
    "### Find top 5 startups with most amount of total funding.\n",
    "### Print the startup name in descending order with respect to amount of funding.\n",
    "#### Note: Ola, Flipkart, Oyo, Paytm are important startups, so correct their names. There are many errors in startup names, ignore correcting all, just handle important ones."
   ]
  },
  {
   "cell_type": "code",
   "execution_count": 16,
   "metadata": {},
   "outputs": [
    {
     "name": "stdout",
     "output_type": "stream",
     "text": [
      "Paytm\n",
      "Flipkart\n",
      "Ola\n",
      "Snapdeal\n",
      "Oyo\n"
     ]
    }
   ],
   "source": [
    "import pandas as pd\n",
    "import numpy as np\n",
    "import matplotlib.pyplot as plt\n",
    "import csv\n",
    "\n",
    "#df = pd.read_csv('C:/PYTHON/DataScience_Ninza/DataScience-and-ML/Datasets/startup_funding.csv') \n",
    "#df['StartupName'].unique() # Byt this we know various types \n",
    "\n",
    "startup_funds = {}\n",
    "with open('C:/PYTHON/DataScience_Ninza/DataScience-and-ML/Datasets/startup_funding.csv', encoding='utf8') as obj:\n",
    "    file_data = csv.DictReader(obj, skipinitialspace=True)\n",
    "    for row in file_data:\n",
    "        s_name = row['StartupName']\n",
    "        amt = row['AmountInUSD']\n",
    "        if not pd.isnull(s_name) and s_name!='' and not pd.isnull(amt) and amt!='': # pd.isnull() -> chk nan value\n",
    "            amount = amt.replace(',','')\n",
    "            amount = int(amount)\n",
    "            \n",
    "            lwr_str = s_name.lower()\n",
    "            l1 = lwr_str.split() # to chk against oyo rooms\n",
    "            l2 = lwr_str.split('.') # To chk against flipkart.com\n",
    "            \n",
    "            #if 'ola' in s_name.lower(): # can't do like that bcz it will also include startups like kolabro which is not ola\n",
    "            \n",
    "            if 'olacabs' in l1 or 'ola' in l2 or 'olacabs' in l1:\n",
    "                req_startup = 'Ola'\n",
    "            elif 'flipkart' in l1 or 'flipkart' in l2:\n",
    "                req_startup = 'Flipkart'\n",
    "            elif 'oyo' in l1 or 'oyo' in l2 or 'oyorooms' in l1:\n",
    "                req_startup = 'Oyo'\n",
    "            elif 'paytm' in l1 or 'paytm' in l2:\n",
    "                req_startup = 'Paytm'\n",
    "            else:\n",
    "                req_startup = s_name\n",
    "            \n",
    "            startup_funds[req_startup] = startup_funds.get(req_startup,0) + amount\n",
    "            \n",
    "arr = list(startup_funds.items())\n",
    "arr.sort(key= lambda x:x[1])\n",
    "req_arr = arr[::-1]\n",
    "total = 0\n",
    "for i in range(5):\n",
    "    total = total + req_arr[i][1]\n",
    "\n",
    "for i in range(5):\n",
    "    per = req_arr[i][1]/total*100\n",
    "    print(req_arr[i][0])"
   ]
  },
  {
   "cell_type": "markdown",
   "metadata": {},
   "source": [
    "### Find the top 5 startups who received the most number of funding rounds. That means, startups which got fundings maximum number of times.\n",
    "### Print the startup name in descending order with respect to the number of funding round as integer value.\n",
    "#### Note:  Ola, Flipkart, Oyo, Paytm are important startups, so correct their names. There are many errors in startup names, ignore correcting all, just handle important ones."
   ]
  },
  {
   "cell_type": "code",
   "execution_count": 17,
   "metadata": {},
   "outputs": [
    {
     "name": "stdout",
     "output_type": "stream",
     "text": [
      "Ola 9\n",
      "Swiggy 7\n",
      "Oyo 6\n",
      "Paytm 6\n",
      "UrbanClap 6\n"
     ]
    }
   ],
   "source": [
    "import pandas as pd\n",
    "import numpy as np\n",
    "import matplotlib.pyplot as plt\n",
    "import csv\n",
    "\n",
    "#df = pd.read_csv('C:/PYTHON/DataScience_Ninza/DataScience-and-ML/Datasets/startup_funding.csv') \n",
    "#df['StartupName'].unique() # Byt this we know various types \n",
    "\n",
    "startup_funds = {}\n",
    "with open('C:/PYTHON/DataScience_Ninza/DataScience-and-ML/Datasets/startup_funding.csv', encoding='utf8') as obj:\n",
    "    file_data = csv.DictReader(obj, skipinitialspace=True)\n",
    "    for row in file_data:\n",
    "        s_name = row['StartupName']\n",
    "        if not pd.isnull(s_name) and s_name!='': # pd.isnull() -> chk nan value\n",
    "            lwr_str = s_name.lower()\n",
    "            l1 = lwr_str.split() # to chk against oyo rooms\n",
    "            l2 = lwr_str.split('.') # To chk against flipkart.com\n",
    "            \n",
    "            #if 'ola' in s_name.lower(): # can't do like that bcz it will also include startups like kolabro which is not ola\n",
    "            \n",
    "            if 'ola' in l1 or 'ola' in l2 or 'olacabs' in l1:\n",
    "                req_startup = 'Ola'\n",
    "            elif 'flipkart' in l1 or 'flipkart' in l2:\n",
    "                req_startup = 'Flipkart'\n",
    "            elif 'oyo' in l1 or 'oyo' in l2 or 'oyorooms' in l1:\n",
    "                req_startup = 'Oyo'\n",
    "            elif 'paytm' in l1 or 'paytm' in l2:\n",
    "                req_startup = 'Paytm'\n",
    "            elif 'snapdeal' in l1 or 'snapdeal' in l2:\n",
    "                req_startup = 'Snapdeal'\n",
    "            elif 'urbanclap' in l1 or 'urbanclap' in l2:\n",
    "                req_startup = 'UrbanClap'\n",
    "            elif 'jugnoo' in l1 or 'jugnoo' in l2:\n",
    "                req_startup = 'Jugnoo'\n",
    "            else:\n",
    "                req_startup = s_name\n",
    "            \n",
    "            startup_funds[req_startup] = startup_funds.get(req_startup,0) + 1\n",
    "            \n",
    "arr = list(startup_funds.items())\n",
    "arr.sort(key= lambda x:x[1])\n",
    "req_arr = arr[::-1]\n",
    "total = 0\n",
    "for i in range(5):\n",
    "    total = total + req_arr[i][1]\n",
    "\n",
    "for i in range(5):\n",
    "    per = req_arr[i][1]/total*100\n",
    "    print(req_arr[i][0], req_arr[i][1])"
   ]
  },
  {
   "cell_type": "markdown",
   "metadata": {},
   "source": [
    "### Find the Investors who have invested maximum number of times.\n",
    "### Print the investor name and number of times invested as integer value.\n",
    "#### Note: In startup, multiple investors might have invested. So consider each investor for that startup.\n",
    "#### Ignore the undisclosed investors."
   ]
  },
  {
   "cell_type": "code",
   "execution_count": 35,
   "metadata": {},
   "outputs": [
    {
     "name": "stdout",
     "output_type": "stream",
     "text": [
      "Sequoia Capital 64\n"
     ]
    }
   ],
   "source": [
    "import pandas as pd\n",
    "import numpy as np\n",
    "import csv\n",
    "\n",
    "invest_count = {}\n",
    "max_time = 0\n",
    "with open('C:/PYTHON/DataScience_Ninza/DataScience-and-ML/Datasets/startup_funding.csv', encoding='utf8') as obj:\n",
    "    file_data = csv.DictReader(obj, skipinitialspace=True)\n",
    "    for row in file_data:\n",
    "        investors = row['InvestorsName']\n",
    "        if not pd.isnull(investors):\n",
    "            inves_list = [investr.strip() for investr in investors.split(',')]\n",
    "            for i in inves_list:\n",
    "                invest_count[i] = invest_count.get(i,0)+1\n",
    "                if invest_count[i] > max_time :\n",
    "                    max_time = invest_count[i]\n",
    "                    max_investor_name = i\n",
    "print(max_investor_name, max_time)"
   ]
  },
  {
   "cell_type": "code",
   "execution_count": null,
   "metadata": {},
   "outputs": [],
   "source": []
  },
  {
   "cell_type": "code",
   "execution_count": null,
   "metadata": {},
   "outputs": [],
   "source": []
  },
  {
   "cell_type": "code",
   "execution_count": null,
   "metadata": {},
   "outputs": [],
   "source": []
  }
 ],
 "metadata": {
  "kernelspec": {
   "display_name": "Python 3",
   "language": "python",
   "name": "python3"
  },
  "language_info": {
   "codemirror_mode": {
    "name": "ipython",
    "version": 3
   },
   "file_extension": ".py",
   "mimetype": "text/x-python",
   "name": "python",
   "nbconvert_exporter": "python",
   "pygments_lexer": "ipython3",
   "version": "3.7.3"
  }
 },
 "nbformat": 4,
 "nbformat_minor": 2
}
