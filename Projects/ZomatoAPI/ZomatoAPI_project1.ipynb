{
 "cells": [
  {
   "cell_type": "markdown",
   "metadata": {},
   "source": [
    "## Project Details"
   ]
  },
  {
   "cell_type": "markdown",
   "metadata": {},
   "source": [
    "For this project, we are using the Zomato API.\n",
    "Zomato APIs give you access to the freshest and most exhaustive information for over 1.5 million restaurants across 10,000 cities globally.\n",
    "\n",
    "Zomato API documentation link : https://developers.zomato.com/api"
   ]
  },
  {
   "cell_type": "markdown",
   "metadata": {},
   "source": [
    "## Why Zomato API ?\n"
   ]
  },
  {
   "cell_type": "markdown",
   "metadata": {},
   "source": [
    "By Collecting the data using Zomato API one can recommend restaurants on the basis of user’s affinity to specific cuisines, establishment types, locations, and price bands.\n",
    "We can find out whether restaurant support online reservation or not.\n",
    "We can find what is the most popular and/ or exclusive/new at a given location & time."
   ]
  },
  {
   "cell_type": "markdown",
   "metadata": {},
   "source": [
    "## Zomato cuisine problem details"
   ]
  },
  {
   "cell_type": "markdown",
   "metadata": {},
   "source": [
    " Mexican cuisine began about 9,000 years ago, when agricultural communities such as the Maya formed, domesticating maize, creating the standard process of corn nixtamalization, and establishing their foodways.\n",
    " You are a huge fan of ‘Mexican’ cuisine. Now using the Zomato API you want to analyse the best restaurant serving the Mexican Cuisine, their locations, and cost for two, etc."
   ]
  },
  {
   "cell_type": "markdown",
   "metadata": {},
   "source": [
    "### Fetch the cuisine_id of ‘Mexican’ cuisine using Zomato API.\n",
    "### Print the cuisine_id."
   ]
  },
  {
   "cell_type": "code",
   "execution_count": 3,
   "metadata": {},
   "outputs": [],
   "source": [
    "user_key = \"..................\" # Generate your own user key"
   ]
  },
  {
   "cell_type": "code",
   "execution_count": 8,
   "metadata": {},
   "outputs": [
    {
     "name": "stdout",
     "output_type": "stream",
     "text": [
      "73\n"
     ]
    }
   ],
   "source": [
    "# first we chk through documentation that mexican cuisine is served in city_id=1(delhi) also.\n",
    "import requests\n",
    "response = requests.get('https://developers.zomato.com/api/v2.1/cuisines', headers={'user-key':user_key},params={'city_id':1})\n",
    "py_data = response.json()\n",
    "for i in py_data['cuisines']:\n",
    "    if i['cuisine']['cuisine_name']=='Mexican':\n",
    "        print(i['cuisine']['cuisine_id'])"
   ]
  },
  {
   "cell_type": "markdown",
   "metadata": {},
   "source": [
    "### Fetch the entityid and entitytype of place Connaught Place.\n",
    "### Print the entityid and entitytype,"
   ]
  },
  {
   "cell_type": "code",
   "execution_count": 12,
   "metadata": {},
   "outputs": [
    {
     "name": "stdout",
     "output_type": "stream",
     "text": [
      "subzone 104\n"
     ]
    }
   ],
   "source": [
    "import requests\n",
    "response = requests.get('https://developers.zomato.com/api/v2.1/locations', headers={'user-key':user_key},params={'query':'Connaught Place'})\n",
    "py_data = response.json()\n",
    "print(py_data['location_suggestions'][0]['entity_type'],py_data['location_suggestions'][0]['entity_id'])"
   ]
  },
  {
   "cell_type": "markdown",
   "metadata": {},
   "source": [
    "### Fetch the top 10 best-rated restaurant serving ‘Mexican’ cuisine present in Connaught Place.\n",
    "### Print the restaurant name, user rating and restaurant id."
   ]
  },
  {
   "cell_type": "code",
   "execution_count": 25,
   "metadata": {},
   "outputs": [],
   "source": [
    "# from above questions we get\n",
    "# Mexican_id = 73 , entityid of Cannaught Place = 104 and entity_type = subzone\n",
    "# Using aove we get required results\n",
    "import requests\n",
    "info = {'entity_id':104,'entity_type':'subzone', 'query':'Connaught Place', 'count':10, 'cuisines':73,\n",
    "        'sort':'rating'}\n",
    "response = requests.get('https://developers.zomato.com/api/v2.1/search', headers={'user-key':user_key},params=info)\n",
    "py_data = response.json()"
   ]
  },
  {
   "cell_type": "code",
   "execution_count": 26,
   "metadata": {},
   "outputs": [
    {
     "name": "stdout",
     "output_type": "stream",
     "text": [
      "Chili's Grill & Bar 4.6 18537536\n",
      "Farzi Cafe 4.5 18233593\n",
      "Xero Degrees 4.3 18729557\n",
      "Ministry Of Beer 4.3 18418277\n",
      "Unplugged Courtyard 4.2 18216901\n",
      "The Beer Cafe - BIGGIE 4.2 307060\n",
      "Chaayos - Meri Wali Chai 4.2 18237315\n",
      "Rodeo Cantina & Kitchen 4.1 18673403\n",
      "38 Barracks 4.1 18241537\n",
      "Pebble Street 4.1 309859\n"
     ]
    }
   ],
   "source": [
    "rest_list = py_data['restaurants']\n",
    "for i in rest_list:\n",
    "    print(i['restaurant']['name'], float(i['restaurant']['user_rating']['aggregate_rating']), i['restaurant']['R']['res_id'])\n"
   ]
  },
  {
   "cell_type": "markdown",
   "metadata": {},
   "source": [
    "### Fetch the category id of category type ‘Cafes’ using Zomato API.\n",
    "### Print the category_id."
   ]
  },
  {
   "cell_type": "code",
   "execution_count": 28,
   "metadata": {},
   "outputs": [
    {
     "name": "stdout",
     "output_type": "stream",
     "text": [
      "6\n"
     ]
    }
   ],
   "source": [
    "import requests\n",
    "response = requests.get('https://developers.zomato.com/api/v2.1/categories', headers={'user-key':user_key})\n",
    "py_data = response.json()\n",
    "for i in py_data['categories']:\n",
    "    if i['categories']['name']=='Cafes':\n",
    "        print(i['categories']['id'])"
   ]
  },
  {
   "cell_type": "markdown",
   "metadata": {},
   "source": [
    "### Fetch the best-rated restaurant for ‘Mexican’ cuisine with category type ‘ Cafes’ present in Connaught Place using Zomato API.\n",
    "### Print the restaurant name, user rating and restaurant id"
   ]
  },
  {
   "cell_type": "code",
   "execution_count": 30,
   "metadata": {},
   "outputs": [
    {
     "name": "stdout",
     "output_type": "stream",
     "text": [
      "Xero Degrees 4.3 18729557\n",
      "Chaayos - Meri Wali Chai 4.2 18237315\n",
      "The Art House Bar n Cafe 3.9 18863766\n",
      "Cafe Coffee Day - The Square 3.5 303034\n"
     ]
    }
   ],
   "source": [
    "# from above questions we get\n",
    "# Mexican_id = 73 , entityid of Cannaught Place = 104 and entity_type = subzone, category id for Cafes = 6\n",
    "# Using aove we get required results\n",
    "import requests\n",
    "info = {'entity_id':104,'entity_type':'subzone', 'query':'Connaught Place', 'cuisines':73,\n",
    "        'sort':'rating', 'category':6}\n",
    "response = requests.get('https://developers.zomato.com/api/v2.1/search', headers={'user-key':user_key},params=info)\n",
    "py_data = response.json()\n",
    "rest_list = py_data['restaurants']\n",
    "for i in rest_list:\n",
    "    print(i['restaurant']['name'], float(i['restaurant']['user_rating']['aggregate_rating']), i['restaurant']['R']['res_id'])\n"
   ]
  },
  {
   "cell_type": "markdown",
   "metadata": {},
   "source": [
    "### Fetch the latest review of the best-rated restaurant for ‘Mexican’ cuisine with Category type ‘Cafes’ present in Connaught Place using Zomato API.\n",
    "### Print the name of user ,user rating and review text.\n",
    "### Note : Due to limitation of basic API plan it, can only fetch 5 latest review"
   ]
  },
  {
   "cell_type": "code",
   "execution_count": 32,
   "metadata": {},
   "outputs": [
    {
     "name": "stdout",
     "output_type": "stream",
     "text": [
      "Yashaa Aarushi 5 Here's our favourite cafe. Little ambience but amazing food. The peri peri fries are soo yummy that we never leave cp without eating these fries at xero degrees!! From the fries to freaky shakes everything is just delicious. One must visit.\n",
      "Sugandh Singhal 4 Their ambiance is a bit small in size but their menu has a variety of options to choose from. Order a shake or fries or a pizza but you will not get disappointed. The taste of each and everything is really amazing and the prices are also too affordable.\n",
      "Yash Sharma 4 There shakes are super amazing. Lovely ambience and great crowd.\n",
      "Tandoori Tummy 4 So went to this place after my colleagues recommended it..coz its nearby my college ..n i never regretted going there...from then hav been ordering from them .their fries,those cute multicolored burgers are something to munch upon...u shud not think even once before going there..just do it❤️the only drawback here is that during peak hours u ll hav to wait..n the seating space is a bit small..\n",
      "Chhavi Gola 3 Space is little but food is great. Serive is good. And ambience is okay. Must visit for great food. Quantity and quality is great. Portions are well for three group of friends.\n"
     ]
    }
   ],
   "source": [
    "# Best restaurant_id = 18729557 from above\n",
    "import requests\n",
    "response = requests.get('https://developers.zomato.com/api/v2.1/reviews', headers={'user-key':user_key},\n",
    "                        params={'res_id':18729557, 'count':5})\n",
    "py_data = response.json()\n",
    "for i in py_data['user_reviews']:\n",
    "    print(i['review']['user']['name'], i['review']['rating'],i['review']['review_text'])"
   ]
  },
  {
   "cell_type": "code",
   "execution_count": null,
   "metadata": {},
   "outputs": [],
   "source": []
  },
  {
   "cell_type": "markdown",
   "metadata": {},
   "source": [
    "## \"Pa Pa Ya\" is a modern Asian bistro & tapas bar from the House of Massive Restaurants and best described as a chic, modern and radical reinterpretation of Asian cuisine.\n",
    "## You have heard from your friends that restaurant \"Pa Pa Ya\" in Delhi is quite good. So now you want to extract the information related to \"Pa Pa Ya\" using Zomato API."
   ]
  },
  {
   "cell_type": "markdown",
   "metadata": {},
   "source": [
    "### Fetch the details of \"Pa Pa Ya\" restaurant using Zomato API.\n",
    "### Print the user rating, the average cost for two, cuisines and address of \"Pa Pa Ya\" restaurant."
   ]
  },
  {
   "cell_type": "code",
   "execution_count": 43,
   "metadata": {},
   "outputs": [
    {
     "name": "stdout",
     "output_type": "stream",
     "text": [
      "4.9\n",
      "2500\n",
      "Asian, Chinese, Thai, Japanese\n",
      "A-3, Select Citywalk, District Centre, Saket, New Delhi\n"
     ]
    }
   ],
   "source": [
    "import requests\n",
    "info = {'res_id':18429148} # from documentation using search endpoint\n",
    "response = requests.get('https://developers.zomato.com/api/v2.1/restaurant', headers={'user-key':user_key},params=info)\n",
    "py_data = response.json() \n",
    "print(float(py_data['user_rating']['aggregate_rating']), \n",
    "      py_data['average_cost_for_two'],py_data['cuisines'], py_data['location']['address'], sep=\"\\n\")"
   ]
  },
  {
   "cell_type": "markdown",
   "metadata": {},
   "source": [
    "### Find out whether online table reservation is supported in \"Pa Pa Ya\" restaurant or not using Zomato API.\n",
    "### Print 'yes' if online table reservation is supported else 'no'"
   ]
  },
  {
   "cell_type": "code",
   "execution_count": 44,
   "metadata": {},
   "outputs": [
    {
     "name": "stdout",
     "output_type": "stream",
     "text": [
      "yes\n"
     ]
    }
   ],
   "source": [
    "import requests\n",
    "info = {'res_id':18429148} # from documentation using search endpoint\n",
    "response = requests.get('https://developers.zomato.com/api/v2.1/restaurant', headers={'user-key':user_key},params=info)\n",
    "py_data = response.json() \n",
    "if py_data['is_table_reservation_supported']:\n",
    "    print('yes')\n",
    "else:\n",
    "    print('no')"
   ]
  },
  {
   "cell_type": "markdown",
   "metadata": {},
   "source": [
    "### Fetch the latest review of \"Pa Pa Ya\" restaurant using Zomato API.\n",
    "### Print the name of the user, user rating and review text.\n",
    "### Note :Due to the limitation of the basic API plan, it can only fetch 5 latest review"
   ]
  },
  {
   "cell_type": "code",
   "execution_count": 45,
   "metadata": {},
   "outputs": [
    {
     "name": "stdout",
     "output_type": "stream",
     "text": [
      "Simon 4 Great Ambiance, Lovely staff members, Delighted with the quality of food and the presentation. Would surely come back for more.\n",
      "The_foodeats 3 \n",
      "Twofoodieforks 4 \n",
      "Sreekanth S 5 \n",
      "Jyoti Verma 5 Before covid hit, happened to trap a quick lunch from ever so popular restaurant Papaya. Man, their service is so fast that it wasn’t even funny! We happened to grab veg Padh Thai with veggie red Curry.    *not giving detailed ratings until this stupid covid19 gets over\n"
     ]
    }
   ],
   "source": [
    "# Pa Pa Ya restaurant_id = 18429148 from documentation using search endpoint\n",
    "import requests\n",
    "response = requests.get('https://developers.zomato.com/api/v2.1/reviews', headers={'user-key':user_key},\n",
    "                        params={'res_id':18429148, 'count':5})\n",
    "py_data = response.json()\n",
    "for i in py_data['user_reviews']:\n",
    "    print(i['review']['user']['name'], i['review']['rating'],i['review']['review_text'])"
   ]
  },
  {
   "cell_type": "markdown",
   "metadata": {},
   "source": [
    "## Zomato Distance Problem"
   ]
  },
  {
   "cell_type": "markdown",
   "metadata": {},
   "source": [
    "Distance is also a very important factor while selecting a restaurant. Suppose you are at Coding Ninjas and you want to select the restaurant which is near to you using Zomato API.\n",
    "Note down the latitude and longitude of Coding Ninjas using Google Maps\n",
    "\n",
    "latitude = 28.697821 \n",
    "longitude = 77.140681"
   ]
  },
  {
   "cell_type": "markdown",
   "metadata": {},
   "source": [
    "### Fetch the cuisine_id of of cuisine ‘BBQ’ using Zomato API.\n",
    "### Print the cuisine_id"
   ]
  },
  {
   "cell_type": "code",
   "execution_count": 47,
   "metadata": {},
   "outputs": [
    {
     "name": "stdout",
     "output_type": "stream",
     "text": [
      "193\n"
     ]
    }
   ],
   "source": [
    "import requests\n",
    "# city_id = 1 for delhi, means we are searching in delhi as almost every cuisine is served in delhi\n",
    "res = requests.get('https://developers.zomato.com/api/v2.1/cuisines', headers={'user-key':user_key}, params={'city_id':1}) \n",
    "py_data = res.json()\n",
    "for i in py_data['cuisines']:\n",
    "    if i['cuisine']['cuisine_name'] == 'BBQ':\n",
    "        print(i['cuisine']['cuisine_id'])"
   ]
  },
  {
   "cell_type": "markdown",
   "metadata": {},
   "source": [
    "### Fetch the list of the top 10 restaurants serving cuisine ‘BBQ’ which are nearest to Coding Ninjas.\n",
    "### Print the restaurant name, user rating, restaurant id and locality in which restaurant is present."
   ]
  },
  {
   "cell_type": "code",
   "execution_count": 2,
   "metadata": {},
   "outputs": [
    {
     "name": "stdout",
     "output_type": "stream",
     "text": [
      "Themis Barbecue House 4.2 18204820 Netaji Subhash Place\n",
      "Barbeque Nation 4.5 9561 Netaji Subhash Place\n",
      "New Bombay Bar-Be-Que 3.5 5303 Prashant Vihar\n",
      "Amazings Kitchen 0 19370424 Prashant Vihar\n",
      "Moet's Barbeque 0 19238917 Alipur\n",
      "UBQ by Barbeque Nation 3.2 18889760 Rohini\n",
      "Kays Bar-Be-Que 3.9 3079 Ashok Vihar Phase 1\n",
      "Chicken Adda 0 19179179 Rohini\n",
      "7teen BBQ Bistro Bnq 3.9 18595610 Moti Nagar\n",
      "Pishori Chicken 0 19061375 Kirti Nagar\n"
     ]
    }
   ],
   "source": [
    "# Using aove results we get required results\n",
    "import requests\n",
    "info = {'lat':28.697821,'lon':77.140681, 'count':10, 'cuisines':193,'sort':'real_distance'} # sort by ratings bcz we have to find best restaurants\n",
    "response = requests.get('https://developers.zomato.com/api/v2.1/search', headers={'user-key':user_key},params=info)\n",
    "py_data = response.json()\n",
    "\n",
    "rest_list = py_data['restaurants']\n",
    "for i in rest_list:\n",
    "    print(i['restaurant']['name'], i['restaurant']['user_rating']['aggregate_rating'], i['restaurant']['R']['res_id'],\n",
    "         i['restaurant']['location']['locality'])"
   ]
  },
  {
   "cell_type": "markdown",
   "metadata": {},
   "source": [
    "### Fetch the latest review of the restaurant serving cuisine ‘BBQ’ which is most nearest to Coding ninjas?\n",
    "### Print the name of user ,user rating and review text.\n",
    "### Note :Due to limitation of basic API plan it, can only fetch 5 latest review"
   ]
  },
  {
   "cell_type": "code",
   "execution_count": 9,
   "metadata": {},
   "outputs": [],
   "source": [
    "# we get the restaurant id from above que\n",
    "import requests\n",
    "info = {'res_id':18204820, 'count':5}\n",
    "res = requests.get('https://developers.zomato.com/api/v2.1/reviews', params=info, headers={'user-key':user_key})\n",
    "py_data = res.json()"
   ]
  },
  {
   "cell_type": "code",
   "execution_count": 11,
   "metadata": {},
   "outputs": [
    {
     "name": "stdout",
     "output_type": "stream",
     "text": [
      "Sakshi Sabnani 4 We organized a get together here..ambiance and drinks was good but the food was not upto the mark but if you are going for dine out the food is good..maybe they weren't able to cater the party well.\n",
      "ANNANT VASHIST 5 I celebrated my bday in Themis barbecue . I enjoyed a lot and the staff was really good nd the food is very delicious .\n",
      "Sangeeta Kalita (thatcravingfoodie) 4 Visited them last month. On entering, you realise that the indoor seating area is not that spacious. I wanted to be seated outdoors, but then it's only allowed for dinner time. I wasn't very taken by the ambiance.  Coming to the food, I opted for the non-vegetarian buffet option. For drinks, I chose a litchi based mocktail. You could also go for beer or whisky which I think I should have chosen too, now that I think of it. But there's no use crying over spilled milk now. So coming back to my litchi mocktail, let me say it was awesome. Tart and sweet and zingy. Was a pleasant accompaniment to the starters. I really liked the chilly fish, chicken tikka, crispy corn. Cajun potatoes lacked that kick and mutton seekh was really dry. The paneer tikka too wasn't flavourful enough. And the pizza base was very tough.  The main course was so delicious. I am a manchow soup lover. And I helped myself to bowls of the veg manchow soup. Then I came across chicken hot and sour soup and gobbled that up too. I also tried different salads I think you could and should skip them. The chicken biryani and mutton rogan josh warmed up my soul with their distinctly spiced flavours. The biryani deserves special mention with the overwhelming aroma of whole spices and chunky chicken pieces. The rogan josh curry was hot and spicy and I was satisfied then and there. Nevertheless, greed occupied me again while going through other dishes and this time I helped myself to hakka chowmein and stir fried veggies in basil chilly sauce (yeah it's veg. Don't be surprised). The veggie gravy was utterly savoury and had so much going on. Sweet, sour, salty, that fresh basil hit. And by then I realised I was almost full and had to end my main course eating spree.  Coming to desserts, gulab jamuns were soul warming. The chocolate pastry was lush and bitter and kept me wanting more. The tarts were creamy and crumbley. Delicious. Moong dal halwa was all ghee and nuts and heavenly. And the strawberry ice cream was creamy and screamed fresh strawberries and not the artificial colour and flavour stuff.  Overall, it was a decent experience. Although I think cutting out the live music part during afternoons wouldn't be a bad idea afterall. It felt kinda loud and claustrophobic. The service was not bad. The prices were moderate. I paid 1300+ for two non-veg lunch buffets.\n",
      "Medhavi 5 Enjoyed a wide range of dishes at this buffet outlet with aesthetic interiors and designer exteriors. Scrumptious barbeque starters with grilled chicken,fish tikka in skewers on the table. Sipped on a variety of mocktails plus the singer was there to entertain throughout our time there. The main course dishes were made very well with excellent sea food, dum biryani , paneer dishes, types of breads and exquisite desserts to choose from namely white chocolate brownie , pineapple pastries , truffle cake and cut fruits. Would definitely recommend to one and all.\n",
      "Piyush Matreja 5 Live singing, spectacular ambience and every one enjoying to the grilled kebabs on their table, that's Themis barbeque all about. Based on the concept of buffet where you start with snacks on the table with cool mocktails. I tried the lemon ice tea and charred prawns tikka as well as chicken malai tikka ,their non veg starters were great. Main course I had mutton rogan josh with lachha parantha and enjoyed a few of my favourite desserts namely strawberry tarts and a chocolate truffle cake with cherries. I must say that was a good lunch I relished after long.\n"
     ]
    }
   ],
   "source": [
    "for com in py_data['user_reviews']:\n",
    "    print(com['review']['user']['name'], com['review']['rating'], com['review']['review_text'])"
   ]
  },
  {
   "cell_type": "markdown",
   "metadata": {},
   "source": [
    "### Experiment with the radius parameter that is present in ‘GET/search’. Fetch the list of top 10 best-restaurant present in a radius of 4 km of coding ninjas.\n",
    "### Print the restaurant name, user rating, restaurant id and locality in which restaurant is present."
   ]
  },
  {
   "cell_type": "code",
   "execution_count": 18,
   "metadata": {},
   "outputs": [
    {
     "name": "stdout",
     "output_type": "stream",
     "text": [
      "Indian Accent 4.9 2004 The Lodhi, Lodhi Road\n",
      "Pa Pa Ya 4.9 18429148 Select Citywalk Mall, Saket\n",
      "Kuremal Mohan Lal Kulfi Wale 4.9 303642 Chawri Bazar\n",
      "Dum-Pukht - ITC Maurya 4.9 2744 ITC Maurya, Chanakyapuri\n",
      "Cafe Lota 4.9 305525 Pragati Maidan\n",
      "Cocktails & Dreams, Speakeasy 4.9 300716 Sector 15\n",
      "Carnatic Cafe 4.9 7843 Lodhi Colony\n",
      "The Big Chill 4.9 8244 Khan Market\n",
      "The Big Chill Cakery 4.8 18665943 Khan Market\n",
      "The Big Chill 4.9 1614 Khan Market\n"
     ]
    }
   ],
   "source": [
    "import requests\n",
    "info = {'count':10, 'lat':28.697821 ,'lon': 77.140681, 'radius':4000, 'sort':'rating'}\n",
    "response = requests.get('https://developers.zomato.com/api/v2.1/search', headers={'user-key':user_key},params=info)\n",
    "py_data = response.json()\n",
    "rest_list = py_data['restaurants']\n",
    "for i in rest_list:\n",
    "    print(i['restaurant']['name'], float(i['restaurant']['user_rating']['aggregate_rating']), i['restaurant']['R']['res_id'],\n",
    "         i['restaurant']['location']['locality'])\n"
   ]
  },
  {
   "cell_type": "markdown",
   "metadata": {},
   "source": [
    "### Compare the location of the restaurant whether really they are in a distance of 4 km to Coding Ninjas. Find out whether these API radius feature is working or not.\n",
    "### Print 'yes' if radius feature work else print 'no'.\n",
    "### Note : Use google search to find whether restaurant lie in range of 4km or not."
   ]
  },
  {
   "cell_type": "code",
   "execution_count": null,
   "metadata": {},
   "outputs": [],
   "source": []
  },
  {
   "cell_type": "code",
   "execution_count": null,
   "metadata": {},
   "outputs": [],
   "source": []
  },
  {
   "cell_type": "code",
   "execution_count": null,
   "metadata": {},
   "outputs": [],
   "source": []
  },
  {
   "cell_type": "code",
   "execution_count": null,
   "metadata": {},
   "outputs": [],
   "source": []
  },
  {
   "cell_type": "code",
   "execution_count": null,
   "metadata": {},
   "outputs": [],
   "source": []
  }
 ],
 "metadata": {
  "kernelspec": {
   "display_name": "Python 3",
   "language": "python",
   "name": "python3"
  },
  "language_info": {
   "codemirror_mode": {
    "name": "ipython",
    "version": 3
   },
   "file_extension": ".py",
   "mimetype": "text/x-python",
   "name": "python",
   "nbconvert_exporter": "python",
   "pygments_lexer": "ipython3",
   "version": "3.7.3"
  }
 },
 "nbformat": 4,
 "nbformat_minor": 2
}
