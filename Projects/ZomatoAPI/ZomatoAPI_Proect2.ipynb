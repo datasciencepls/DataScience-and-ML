{
 "cells": [
  {
   "cell_type": "markdown",
   "metadata": {},
   "source": [
    "The dataset is highly skewed toward the cities included in Delhi-NCR. So, we will summarise all the other cities in Rest of India while those in New Delhi, Ghaziabad, Noida, Gurgaon, Faridabad to Delhi-NCR. Doing this would make our analysis turn toward Delhi-NCR v Rest of India."
   ]
  },
  {
   "cell_type": "markdown",
   "metadata": {},
   "source": [
    "### Plot the bar graph of number of restaurants present in Delhi NCR vs Rest of India."
   ]
  },
  {
   "cell_type": "code",
   "execution_count": 63,
   "metadata": {},
   "outputs": [
    {
     "data": {
      "image/png": "[encoded data removed]",
      "text/plain": [
       "<Figure size 432x288 with 1 Axes>"
      ]
     },
     "metadata": {
      "needs_background": "light"
     },
     "output_type": "display_data"
    }
   ],
   "source": [
    "import pandas as pd\n",
    "import matplotlib.pyplot as plt\n",
    "\n",
    "df = pd.read_csv('zomato.csv', encoding='latin-1')\n",
    "df2 = df[df['Country Code']==1].copy(deep=True)\n",
    "df_ncr = df[(df['City']=='Ghaziabad') | (df['City']=='Noida') | (df['City']=='Gurgaon') | (df['City']=='Faridabad') | (df['City']=='New Delhi')]\n",
    "len_ncr = df_ncr.count()[0] # 7947\n",
    "len_rest = df2.count()[0] - len_ncr\n",
    "\n",
    "num_res = [len_ncr, len_rest]\n",
    "res_city = ['Delhi NCR', 'Rest of India']\n",
    "\n",
    "plt.bar(res_city, num_res, width=0.6)\n",
    "plt.show()\n"
   ]
  },
  {
   "cell_type": "markdown",
   "metadata": {},
   "source": [
    "### Find the cuisines which are not present in restaurant of Delhi NCR but present in rest of India.Check using Zomato API whether this cuisines are actually not served in restaurants of Delhi-NCR or just it due to incomplete dataset."
   ]
  },
  {
   "cell_type": "code",
   "execution_count": 51,
   "metadata": {},
   "outputs": [
    {
     "name": "stdout",
     "output_type": "stream",
     "text": [
      "['German', 'Malwani', 'BBQ', 'Cajun']\n"
     ]
    }
   ],
   "source": [
    "import pandas as pd\n",
    "\n",
    "df = pd.read_csv('zomato.csv', encoding='latin-1')\n",
    "df_India = df[df['Country Code']==1].copy(deep=True)\n",
    "df_India.reset_index(drop=True,inplace=True)\n",
    "df_ncr = df_India[(df_India['City']=='Ghaziabad') | (df_India['City']=='Noida') | (df_India['City']=='Gurgaon') | (df_India['City']=='Faridabad') | (df_India['City']=='New Delhi')].copy(deep=True)\n",
    "df_rest = df_India[(df_India['City']!='Ghaziabad') & (df_India['City']!='Noida') & (df_India['City']!='Gurgaon') & (df_India['City']!='Faridabad') & (df_India['City']!='New Delhi')].copy(deep=True)\n",
    "df_ncr.reset_index(drop=True,inplace=True)\n",
    "df_rest.reset_index(drop=True,inplace=True)\n",
    "\n",
    "ncr_cuisines = {}\n",
    "rest_cuisines = {}\n",
    "def fill_ncr_cuisines(cuisines):\n",
    "    cuis_list = [cuis.strip() for cuis in cuisines.strip().split(',')]\n",
    "    for cuis in cuis_list:\n",
    "        ncr_cuisines[cuis] = ncr_cuisines.get(cuis,0) + 1\n",
    "\n",
    "def fill_rest_cuisines(cuisines):\n",
    "    cuis_list = [cuis.strip() for cuis in cuisines.strip().split(',')]\n",
    "    for cuis in cuis_list:\n",
    "        rest_cuisines[cuis] = rest_cuisines.get(cuis,0) + 1\n",
    "\n",
    "df_ncr['Cuisines'].apply(fill_ncr_cuisines)\n",
    "df_rest['Cuisines'].apply(fill_rest_cuisines)\n",
    "cuis_not_in_ncr = []\n",
    "for city in rest_cuisines:\n",
    "    if ncr_cuisines.get(city,0)==0:\n",
    "        cuis_not_in_ncr.append(city)\n",
    "\n",
    "print(cuis_not_in_ncr)"
   ]
  },
  {
   "cell_type": "code",
   "execution_count": 52,
   "metadata": {},
   "outputs": [
    {
     "name": "stdout",
     "output_type": "stream",
     "text": [
      "BBQ is servered in NCR\n",
      "Malwani is servered in NCR\n"
     ]
    }
   ],
   "source": [
    "# Now we chk in Api whether above cuisines not served in NCR or it is due to incomplete dataset\n",
    "import requests\n",
    "res = requests.get('https://developers.zomato.com/api/v2.1/cuisines', headers={'user-key':'7012e5af5250463bb007a5c4ef01f4fd'},\n",
    "                   params={'city_id':1})\n",
    "py_data = res.json()\n",
    "for i in py_data['cuisines']:\n",
    "    if i['cuisine']['cuisine_name'].strip()=='German':\n",
    "        print('Gernam is servered in NCR')\n",
    "    elif i['cuisine']['cuisine_name'].strip()=='Malwani':\n",
    "        print('Malwani is servered in NCR')\n",
    "    elif i['cuisine']['cuisine_name'].strip()=='BBQ':\n",
    "        print('BBQ is servered in NCR')\n",
    "    elif i['cuisine']['cuisine_name'].strip()=='Cajun'.strip:\n",
    "        print('Cajun is servered in NCR')"
   ]
  },
  {
   "cell_type": "markdown",
   "metadata": {},
   "source": [
    "### Find the top 10 cuisines served by maximum number of restaurants in Delhi NCR and rest of India."
   ]
  },
  {
   "cell_type": "code",
   "execution_count": 62,
   "metadata": {},
   "outputs": [
    {
     "name": "stdout",
     "output_type": "stream",
     "text": [
      "North Indian  -  3597 restaurants\n",
      "Chinese  -  2448 restaurants\n",
      "Fast Food  -  1866 restaurants\n",
      "Mughlai  -  933 restaurants\n",
      "Bakery  -  697 restaurants\n",
      "South Indian  -  569 restaurants\n",
      "Continental  -  547 restaurants\n",
      "Desserts  -  542 restaurants\n",
      "Street Food  -  538 restaurants\n",
      "Italian  -  535 restaurants\n",
      "---------------------------------\n",
      "North Indian  -  349 restaurants\n",
      "Chinese  -  242 restaurants\n",
      "Continental  -  177 restaurants\n",
      "Italian  -  147 restaurants\n",
      "Cafe  -  136 restaurants\n",
      "Fast Food  -  97 restaurants\n",
      "South Indian  -  62 restaurants\n",
      "Mughlai  -  59 restaurants\n",
      "Desserts  -  55 restaurants\n",
      "Mexican  -  50 restaurants\n"
     ]
    },
    {
     "data": {
      "image/png": "[encoded data removed]",
      "text/plain": [
       "<Figure size 432x288 with 1 Axes>"
      ]
     },
     "metadata": {
      "needs_background": "light"
     },
     "output_type": "display_data"
    },
    {
     "data": {
      "image/png": "[encoded data removed]",
      "text/plain": [
       "<Figure size 432x288 with 1 Axes>"
      ]
     },
     "metadata": {
      "needs_background": "light"
     },
     "output_type": "display_data"
    }
   ],
   "source": [
    "import pandas as pd\n",
    "import matplotlib.pyplot as plt\n",
    "\n",
    "df = pd.read_csv('zomato.csv', encoding='latin-1')\n",
    "df_India = df[df['Country Code']==1].copy(deep=True)\n",
    "df_India.reset_index(drop=True,inplace=True)\n",
    "df_ncr = df_India[(df_India['City']=='Ghaziabad') | (df_India['City']=='Noida') | (df_India['City']=='Gurgaon') | (df_India['City']=='Faridabad') | (df_India['City']=='New Delhi')].copy(deep=True)\n",
    "df_rest = df_India[(df_India['City']!='Ghaziabad') & (df_India['City']!='Noida') & (df_India['City']!='Gurgaon') & (df_India['City']!='Faridabad') & (df_India['City']!='New Delhi')].copy(deep=True)\n",
    "df_ncr.reset_index(drop=True,inplace=True)\n",
    "df_rest.reset_index(drop=True,inplace=True)\n",
    "\n",
    "ncr_cuisines = {}\n",
    "rest_cuisines = {}\n",
    "def fill_ncr_cuisines(cuisines):\n",
    "    cuis_list = [cuis.strip() for cuis in cuisines.strip().split(',')]\n",
    "    for cuis in cuis_list:\n",
    "        ncr_cuisines[cuis] = ncr_cuisines.get(cuis,0) + 1\n",
    "\n",
    "def fill_rest_cuisines(cuisines):\n",
    "    cuis_list = [cuis.strip() for cuis in cuisines.strip().split(',')]\n",
    "    for cuis in cuis_list:\n",
    "        rest_cuisines[cuis] = rest_cuisines.get(cuis,0) + 1\n",
    "\n",
    "df_ncr['Cuisines'].apply(fill_ncr_cuisines)\n",
    "df_rest['Cuisines'].apply(fill_rest_cuisines)\n",
    "\n",
    "num_ncr_cuis = list(ncr_cuisines.items())\n",
    "num_rest_cuis = list(rest_cuisines.items())\n",
    "\n",
    "num_ncr_cuis.sort(key = lambda x: x[1])\n",
    "num_ncr_cuis = num_ncr_cuis[::-1]\n",
    "\n",
    "num_rest_cuis.sort(key = lambda x: x[1])\n",
    "num_rest_cuis = num_rest_cuis[::-1]\n",
    "\n",
    "rest_cuis = []\n",
    "num_rest = [] # Number of restaurants which are in rest of India\n",
    "ncr_cuis = []\n",
    "num_ncr  =[] # Number of restaurants which are in NCR\n",
    "\n",
    "# Print top 10 cuisines served by maximum number of restaurants in Delhi NCR\n",
    "for i in range(10):\n",
    "    print(num_ncr_cuis[i][0], \" - \", num_ncr_cuis[i][1],'restaurants')\n",
    "    ncr_cuis.append(num_ncr_cuis[i][0])\n",
    "    num_ncr.append(num_ncr_cuis[i][1])\n",
    "    \n",
    "print(\"---------------------------------\")\n",
    "\n",
    "# Print top 10 cuisines served by maximum number of restaurants in rest of India\n",
    "for i in range(10):\n",
    "    print(num_rest_cuis[i][0], \" - \", num_rest_cuis[i][1], 'restaurants')\n",
    "    rest_cuis.append(num_rest_cuis[i][0])\n",
    "    num_rest.append(num_rest_cuis[i][1])\n",
    "\n",
    "plt.bar(ncr_cuis, num_ncr, width=0.6)\n",
    "plt.xticks(rotation=90)\n",
    "plt.title(\"Top 10 NCR Cuisines Vs Number of Restaurants\")\n",
    "plt.show()\n",
    "\n",
    "plt.bar(rest_cuis, num_rest, width=0.6)\n",
    "plt.xticks(rotation=90)\n",
    "plt.title(\"Top 10 Rest India Cuisines Vs Number of Restaurants\")\n",
    "plt.show()\n"
   ]
  },
  {
   "cell_type": "markdown",
   "metadata": {},
   "source": [
    "### Write a short detailed analysis of how cuisine served is different from Delhi NCR to Rest of India. Plot the suitable graph to explain your inference."
   ]
  },
  {
   "cell_type": "code",
   "execution_count": 67,
   "metadata": {},
   "outputs": [
    {
     "data": {
      "image/png": "[encoded data removed]",
      "text/plain": [
       "<Figure size 432x288 with 1 Axes>"
      ]
     },
     "metadata": {},
     "output_type": "display_data"
    }
   ],
   "source": [
    "import pandas as pd\n",
    "import matplotlib.pyplot as plt\n",
    "\n",
    "# Here we plot pie graph showing percentage of restaurants seving cuisines in delhi ncr vs rest of india\n",
    "df = pd.read_csv('zomato.csv', encoding='latin-1')\n",
    "df2 = df[df['Country Code']==1].copy(deep=True)\n",
    "df_ncr = df[(df['City']=='Ghaziabad') | (df['City']=='Noida') | (df['City']=='Gurgaon') | (df['City']=='Faridabad') | (df['City']=='New Delhi')]\n",
    "len_ncr = df_ncr.count()[0] # 7947\n",
    "len_rest = df2.count()[0] - len_ncr\n",
    "\n",
    "num_res = [len_ncr, len_rest]\n",
    "res_city = ['Delhi NCR restaurants', 'Rest of India restaurants']\n",
    "\n",
    "total = len_ncr + len_rest\n",
    "plt.pie(num_res, colors=['red','green'],labels = res_city, autopct=\"%.2f%%\")\n",
    "plt.axis('equal')\n",
    "plt.show()"
   ]
  },
  {
   "cell_type": "code",
   "execution_count": null,
   "metadata": {},
   "outputs": [],
   "source": []
  },
  {
   "cell_type": "code",
   "execution_count": null,
   "metadata": {},
   "outputs": [],
   "source": []
  },
  {
   "cell_type": "code",
   "execution_count": null,
   "metadata": {},
   "outputs": [],
   "source": []
  },
  {
   "cell_type": "code",
   "execution_count": null,
   "metadata": {},
   "outputs": [],
   "source": []
  },
  {
   "cell_type": "code",
   "execution_count": null,
   "metadata": {},
   "outputs": [],
   "source": []
  },
  {
   "cell_type": "code",
   "execution_count": null,
   "metadata": {},
   "outputs": [],
   "source": []
  },
  {
   "cell_type": "code",
   "execution_count": null,
   "metadata": {},
   "outputs": [],
   "source": []
  }
 ],
 "metadata": {
  "kernelspec": {
   "display_name": "Python 3",
   "language": "python",
   "name": "python3"
  },
  "language_info": {
   "codemirror_mode": {
    "name": "ipython",
    "version": 3
   },
   "file_extension": ".py",
   "mimetype": "text/x-python",
   "name": "python",
   "nbconvert_exporter": "python",
   "pygments_lexer": "ipython3",
   "version": "3.7.3"
  }
 },
 "nbformat": 4,
 "nbformat_minor": 2
}
